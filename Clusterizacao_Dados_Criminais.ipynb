{
  "nbformat": 4,
  "nbformat_minor": 0,
  "metadata": {
    "colab": {
      "name": "Lucas Nascimento Barros - Processamento Base Dados Criminais.ipynb",
      "provenance": [],
      "collapsed_sections": [],
      "toc_visible": true
    },
    "kernelspec": {
      "name": "python3",
      "display_name": "Python 3"
    }
  },
  "cells": [
    {
      "cell_type": "markdown",
      "metadata": {
        "id": "5CN_HHzVMpiS"
      },
      "source": [
        "#Integração das bases"
      ]
    },
    {
      "cell_type": "code",
      "metadata": {
        "id": "lo44yeknxBxU"
      },
      "source": [
        "import pandas as pd\r\n",
        "import matplotlib.pyplot as plt\r\n",
        "import seaborn as sns\r\n",
        "from sklearn import preprocessing\r\n",
        "import numpy as np\r\n",
        "from sklearn.cluster import KMeans\r\n",
        "import scipy.cluster.hierarchy as shc\r\n",
        "from sklearn.cluster import AgglomerativeClustering\r\n",
        "from sklearn import metrics\r\n",
        "import plotly.graph_objects as go\r\n"
      ],
      "execution_count": 100,
      "outputs": []
    },
    {
      "cell_type": "code",
      "metadata": {
        "colab": {
          "base_uri": "https://localhost:8080/"
        },
        "id": "6jTYLsuTswft",
        "outputId": "42adb7a4-b423-44a9-ec7e-2ea8b61d5517"
      },
      "source": [
        "from google.colab import drive\r\n",
        "drive.mount('/content/gdrive')"
      ],
      "execution_count": 101,
      "outputs": [
        {
          "output_type": "stream",
          "text": [
            "Drive already mounted at /content/gdrive; to attempt to forcibly remount, call drive.mount(\"/content/gdrive\", force_remount=True).\n"
          ],
          "name": "stdout"
        }
      ]
    },
    {
      "cell_type": "markdown",
      "metadata": {
        "id": "BJJPyxiUjJ1e"
      },
      "source": [
        "## Taxa de Rendimento\r\n",
        "\r\n",
        "Dados reitados desse site porque o link não estava funcionando \r\n",
        "\r\n",
        "https://www.gov.br/inep/pt-br/acesso-a-informacao/dados-abertos/indicadores-educacionais/taxas-de-rendimento"
      ]
    },
    {
      "cell_type": "markdown",
      "metadata": {
        "id": "A4Q40o8xjRDb"
      },
      "source": [
        "###2017"
      ]
    },
    {
      "cell_type": "code",
      "metadata": {
        "id": "Q6J70YnxjYU7"
      },
      "source": [
        "df_2017 = pd.read_excel(\"/content/gdrive/MyDrive/Colab Notebooks/Machine Learning/Bases/trabalho_pratico02/TX_REND_BRASIL_REGIOES_UFS_2017.xlsx\")"
      ],
      "execution_count": 102,
      "outputs": []
    },
    {
      "cell_type": "code",
      "metadata": {
        "colab": {
          "base_uri": "https://localhost:8080/"
        },
        "id": "aYNxtaPLEOtC",
        "outputId": "892088b6-ea71-4094-9604-4eb991720336"
      },
      "source": [
        "df_2017.columns"
      ],
      "execution_count": 103,
      "outputs": [
        {
          "output_type": "execute_result",
          "data": {
            "text/plain": [
              "Index(['Unnamed: 0', '                     Ministério da Educação',\n",
              "       'Unnamed: 2', 'Unnamed: 3', 'Unnamed: 4', 'Unnamed: 5', 'Unnamed: 6',\n",
              "       'Unnamed: 7', 'Unnamed: 8', 'Unnamed: 9', 'Unnamed: 10', 'Unnamed: 11',\n",
              "       'Unnamed: 12', 'Unnamed: 13', 'Unnamed: 14', 'Unnamed: 15',\n",
              "       'Unnamed: 16', 'Unnamed: 17', 'Unnamed: 18', 'Unnamed: 19',\n",
              "       'Unnamed: 20', 'Unnamed: 21', 'Unnamed: 22', 'Unnamed: 23',\n",
              "       'Unnamed: 24', 'Unnamed: 25', 'Unnamed: 26', 'Unnamed: 27',\n",
              "       'Unnamed: 28', 'Unnamed: 29', 'Unnamed: 30', 'Unnamed: 31',\n",
              "       'Unnamed: 32', 'Unnamed: 33', 'Unnamed: 34', 'Unnamed: 35',\n",
              "       'Unnamed: 36', 'Unnamed: 37', 'Unnamed: 38', 'Unnamed: 39',\n",
              "       'Unnamed: 40', 'Unnamed: 41', 'Unnamed: 42', 'Unnamed: 43',\n",
              "       'Unnamed: 44', 'Unnamed: 45', 'Unnamed: 46', 'Unnamed: 47',\n",
              "       'Unnamed: 48', 'Unnamed: 49', 'Unnamed: 50', 'Unnamed: 51',\n",
              "       'Unnamed: 52', 'Unnamed: 53', 'Unnamed: 54', 'Unnamed: 55',\n",
              "       'Unnamed: 56', 'Unnamed: 57'],\n",
              "      dtype='object')"
            ]
          },
          "metadata": {
            "tags": []
          },
          "execution_count": 103
        }
      ]
    },
    {
      "cell_type": "code",
      "metadata": {
        "colab": {
          "base_uri": "https://localhost:8080/",
          "height": 886
        },
        "id": "Z0oAtdnm9c_D",
        "outputId": "d2f82f2a-1e94-4167-8111-0e76372c59a9"
      },
      "source": [
        "# Selecionando colunas específicas\r\n",
        "df_2017 = df_2017.loc[:, ['Unnamed: 0','Unnamed: 2','Unnamed: 3','                     Ministério da Educação','Unnamed: 40']]\r\n",
        "\r\n",
        "#Selecionando linhas baseadas em condição\r\n",
        "options1 = ['Total'] \r\n",
        "\r\n",
        "df1 = df_2017[(df_2017['Unnamed: 2'].isin(options1)) & df_2017['Unnamed: 3'].isin(options1)]\r\n",
        "\r\n",
        "# Deletando as colunas baseadas nas condicões\r\n",
        "df2 = df1.drop(['Unnamed: 2','Unnamed: 3'], axis = 1)\r\n",
        "\r\n",
        "#Selecionando linhas baseadas em condição\r\n",
        "options2 = ['Centro-Oeste', 'Sul', 'Sudeste', 'Nordeste', 'Norte','Brasil'] \r\n",
        "\r\n",
        "df3 = df2[(df2['                     Ministério da Educação'].isin(options2))]\r\n",
        "\r\n",
        "#\r\n",
        "tae_2017 = pd.concat([df3, df2]).drop_duplicates(keep=False)\r\n",
        "\r\n",
        "tae_2017.columns =['Ano', 'UF','taxa_abandono_escolar'] \r\n",
        "\r\n",
        "tae_2017"
      ],
      "execution_count": 104,
      "outputs": [
        {
          "output_type": "execute_result",
          "data": {
            "text/html": [
              "<div>\n",
              "<style scoped>\n",
              "    .dataframe tbody tr th:only-of-type {\n",
              "        vertical-align: middle;\n",
              "    }\n",
              "\n",
              "    .dataframe tbody tr th {\n",
              "        vertical-align: top;\n",
              "    }\n",
              "\n",
              "    .dataframe thead th {\n",
              "        text-align: right;\n",
              "    }\n",
              "</style>\n",
              "<table border=\"1\" class=\"dataframe\">\n",
              "  <thead>\n",
              "    <tr style=\"text-align: right;\">\n",
              "      <th></th>\n",
              "      <th>Ano</th>\n",
              "      <th>UF</th>\n",
              "      <th>taxa_abandono_escolar</th>\n",
              "    </tr>\n",
              "  </thead>\n",
              "  <tbody>\n",
              "    <tr>\n",
              "      <th>44</th>\n",
              "      <td>2017</td>\n",
              "      <td>Rondônia</td>\n",
              "      <td>1.3</td>\n",
              "    </tr>\n",
              "    <tr>\n",
              "      <th>62</th>\n",
              "      <td>2017</td>\n",
              "      <td>Acre</td>\n",
              "      <td>2.3</td>\n",
              "    </tr>\n",
              "    <tr>\n",
              "      <th>78</th>\n",
              "      <td>2017</td>\n",
              "      <td>Amazonas</td>\n",
              "      <td>3.1</td>\n",
              "    </tr>\n",
              "    <tr>\n",
              "      <th>96</th>\n",
              "      <td>2017</td>\n",
              "      <td>Roraima</td>\n",
              "      <td>1.9</td>\n",
              "    </tr>\n",
              "    <tr>\n",
              "      <th>114</th>\n",
              "      <td>2017</td>\n",
              "      <td>Pará</td>\n",
              "      <td>3.7</td>\n",
              "    </tr>\n",
              "    <tr>\n",
              "      <th>132</th>\n",
              "      <td>2017</td>\n",
              "      <td>Amapá</td>\n",
              "      <td>2.4</td>\n",
              "    </tr>\n",
              "    <tr>\n",
              "      <th>149</th>\n",
              "      <td>2017</td>\n",
              "      <td>Tocantins</td>\n",
              "      <td>1.2</td>\n",
              "    </tr>\n",
              "    <tr>\n",
              "      <th>185</th>\n",
              "      <td>2017</td>\n",
              "      <td>Maranhão</td>\n",
              "      <td>2.5</td>\n",
              "    </tr>\n",
              "    <tr>\n",
              "      <th>203</th>\n",
              "      <td>2017</td>\n",
              "      <td>Piauí</td>\n",
              "      <td>2.1</td>\n",
              "    </tr>\n",
              "    <tr>\n",
              "      <th>221</th>\n",
              "      <td>2017</td>\n",
              "      <td>Ceará</td>\n",
              "      <td>1.1</td>\n",
              "    </tr>\n",
              "    <tr>\n",
              "      <th>239</th>\n",
              "      <td>2017</td>\n",
              "      <td>Rio Grande do Norte</td>\n",
              "      <td>3</td>\n",
              "    </tr>\n",
              "    <tr>\n",
              "      <th>257</th>\n",
              "      <td>2017</td>\n",
              "      <td>Paraíba</td>\n",
              "      <td>3.8</td>\n",
              "    </tr>\n",
              "    <tr>\n",
              "      <th>275</th>\n",
              "      <td>2017</td>\n",
              "      <td>Pernambuco</td>\n",
              "      <td>1.8</td>\n",
              "    </tr>\n",
              "    <tr>\n",
              "      <th>293</th>\n",
              "      <td>2017</td>\n",
              "      <td>Alagoas</td>\n",
              "      <td>3.3</td>\n",
              "    </tr>\n",
              "    <tr>\n",
              "      <th>310</th>\n",
              "      <td>2017</td>\n",
              "      <td>Sergipe</td>\n",
              "      <td>3.1</td>\n",
              "    </tr>\n",
              "    <tr>\n",
              "      <th>328</th>\n",
              "      <td>2017</td>\n",
              "      <td>Bahia</td>\n",
              "      <td>3.7</td>\n",
              "    </tr>\n",
              "    <tr>\n",
              "      <th>364</th>\n",
              "      <td>2017</td>\n",
              "      <td>Minas Gerais</td>\n",
              "      <td>1.2</td>\n",
              "    </tr>\n",
              "    <tr>\n",
              "      <th>382</th>\n",
              "      <td>2017</td>\n",
              "      <td>Espírito Santo</td>\n",
              "      <td>0.8</td>\n",
              "    </tr>\n",
              "    <tr>\n",
              "      <th>400</th>\n",
              "      <td>2017</td>\n",
              "      <td>Rio de Janeiro</td>\n",
              "      <td>1.3</td>\n",
              "    </tr>\n",
              "    <tr>\n",
              "      <th>418</th>\n",
              "      <td>2017</td>\n",
              "      <td>São Paulo</td>\n",
              "      <td>0.6</td>\n",
              "    </tr>\n",
              "    <tr>\n",
              "      <th>453</th>\n",
              "      <td>2017</td>\n",
              "      <td>Paraná</td>\n",
              "      <td>0.9</td>\n",
              "    </tr>\n",
              "    <tr>\n",
              "      <th>471</th>\n",
              "      <td>2017</td>\n",
              "      <td>Santa Catarina</td>\n",
              "      <td>0.4</td>\n",
              "    </tr>\n",
              "    <tr>\n",
              "      <th>489</th>\n",
              "      <td>2017</td>\n",
              "      <td>Rio Grande do Sul</td>\n",
              "      <td>1</td>\n",
              "    </tr>\n",
              "    <tr>\n",
              "      <th>525</th>\n",
              "      <td>2017</td>\n",
              "      <td>Mato Grosso do Sul</td>\n",
              "      <td>1.4</td>\n",
              "    </tr>\n",
              "    <tr>\n",
              "      <th>543</th>\n",
              "      <td>2017</td>\n",
              "      <td>Mato Grosso</td>\n",
              "      <td>0.7</td>\n",
              "    </tr>\n",
              "    <tr>\n",
              "      <th>561</th>\n",
              "      <td>2017</td>\n",
              "      <td>Goiás</td>\n",
              "      <td>0.8</td>\n",
              "    </tr>\n",
              "    <tr>\n",
              "      <th>579</th>\n",
              "      <td>2017</td>\n",
              "      <td>Distrito Federal</td>\n",
              "      <td>1.2</td>\n",
              "    </tr>\n",
              "  </tbody>\n",
              "</table>\n",
              "</div>"
            ],
            "text/plain": [
              "      Ano                   UF taxa_abandono_escolar\n",
              "44   2017             Rondônia                   1.3\n",
              "62   2017                 Acre                   2.3\n",
              "78   2017             Amazonas                   3.1\n",
              "96   2017              Roraima                   1.9\n",
              "114  2017                 Pará                   3.7\n",
              "132  2017                Amapá                   2.4\n",
              "149  2017            Tocantins                   1.2\n",
              "185  2017             Maranhão                   2.5\n",
              "203  2017                Piauí                   2.1\n",
              "221  2017                Ceará                   1.1\n",
              "239  2017  Rio Grande do Norte                     3\n",
              "257  2017              Paraíba                   3.8\n",
              "275  2017           Pernambuco                   1.8\n",
              "293  2017              Alagoas                   3.3\n",
              "310  2017              Sergipe                   3.1\n",
              "328  2017                Bahia                   3.7\n",
              "364  2017         Minas Gerais                   1.2\n",
              "382  2017       Espírito Santo                   0.8\n",
              "400  2017       Rio de Janeiro                   1.3\n",
              "418  2017            São Paulo                   0.6\n",
              "453  2017               Paraná                   0.9\n",
              "471  2017       Santa Catarina                   0.4\n",
              "489  2017    Rio Grande do Sul                     1\n",
              "525  2017   Mato Grosso do Sul                   1.4\n",
              "543  2017          Mato Grosso                   0.7\n",
              "561  2017                Goiás                   0.8\n",
              "579  2017     Distrito Federal                   1.2"
            ]
          },
          "metadata": {
            "tags": []
          },
          "execution_count": 104
        }
      ]
    },
    {
      "cell_type": "markdown",
      "metadata": {
        "id": "klqWXNIslCJg"
      },
      "source": [
        "###2018"
      ]
    },
    {
      "cell_type": "code",
      "metadata": {
        "id": "X1OBOZMGlHgU"
      },
      "source": [
        "df_2018 = pd.read_excel(\"/content/gdrive/MyDrive/Colab Notebooks/Machine Learning/Bases/trabalho_pratico02/TX_REND_BRASIL_REGIOES_UFS_2018.xlsx\")"
      ],
      "execution_count": 105,
      "outputs": []
    },
    {
      "cell_type": "code",
      "metadata": {
        "colab": {
          "base_uri": "https://localhost:8080/"
        },
        "id": "1V1_gQSpmke1",
        "outputId": "f604b983-2aaf-4faa-8750-fe7c8a5c2c4a"
      },
      "source": [
        "df_2018.columns"
      ],
      "execution_count": 106,
      "outputs": [
        {
          "output_type": "execute_result",
          "data": {
            "text/plain": [
              "Index(['Unnamed: 0', '     Ministério da Educação', 'Unnamed: 2', 'Unnamed: 3',\n",
              "       'Unnamed: 4', 'Unnamed: 5', 'Unnamed: 6', 'Unnamed: 7', 'Unnamed: 8',\n",
              "       'Unnamed: 9', 'Unnamed: 10', 'Unnamed: 11', 'Unnamed: 12',\n",
              "       'Unnamed: 13', 'Unnamed: 14', 'Unnamed: 15', 'Unnamed: 16',\n",
              "       'Unnamed: 17', 'Unnamed: 18', 'Unnamed: 19', 'Unnamed: 20',\n",
              "       'Unnamed: 21', 'Unnamed: 22', 'Unnamed: 23', 'Unnamed: 24',\n",
              "       'Unnamed: 25', 'Unnamed: 26', 'Unnamed: 27', 'Unnamed: 28',\n",
              "       'Unnamed: 29', 'Unnamed: 30', 'Unnamed: 31', 'Unnamed: 32',\n",
              "       'Unnamed: 33', 'Unnamed: 34', 'Unnamed: 35', 'Unnamed: 36',\n",
              "       'Unnamed: 37', 'Unnamed: 38', 'Unnamed: 39', 'Unnamed: 40',\n",
              "       'Unnamed: 41', 'Unnamed: 42', 'Unnamed: 43', 'Unnamed: 44',\n",
              "       'Unnamed: 45', 'Unnamed: 46', 'Unnamed: 47', 'Unnamed: 48',\n",
              "       'Unnamed: 49', 'Unnamed: 50', 'Unnamed: 51', 'Unnamed: 52',\n",
              "       'Unnamed: 53', 'Unnamed: 54', 'Unnamed: 55', 'Unnamed: 56',\n",
              "       'Unnamed: 57'],\n",
              "      dtype='object')"
            ]
          },
          "metadata": {
            "tags": []
          },
          "execution_count": 106
        }
      ]
    },
    {
      "cell_type": "code",
      "metadata": {
        "colab": {
          "base_uri": "https://localhost:8080/",
          "height": 886
        },
        "id": "OucBe0HZlSaB",
        "outputId": "aca1bc40-a939-4e85-a307-b7103b458fe8"
      },
      "source": [
        "# Selecionando colunas específicas\r\n",
        "df_2018 = df_2018.loc[:, ['Unnamed: 0','Unnamed: 2','Unnamed: 3','     Ministério da Educação','Unnamed: 40']]\r\n",
        "\r\n",
        "#Selecionando linhas baseadas em condição\r\n",
        "options2 = ['Total'] \r\n",
        "\r\n",
        "df1 = df_2018[(df_2018['Unnamed: 2'].isin(options2)) & df_2018['Unnamed: 3'].isin(options2)]\r\n",
        "\r\n",
        "# Deletando as colunas baseadas nas condicões\r\n",
        "df2 = df1.drop(['Unnamed: 2','Unnamed: 3'], axis = 1)\r\n",
        "\r\n",
        "#Selecionando linhas baseadas em condição\r\n",
        "options2 = ['Centro-Oeste', 'Sul', 'Sudeste', 'Nordeste', 'Norte','Brasil'] \r\n",
        "\r\n",
        "df3 = df2[(df2['     Ministério da Educação'].isin(options2))]\r\n",
        "\r\n",
        "#\r\n",
        "tae_2018 = pd.concat([df3, df2]).drop_duplicates(keep=False)\r\n",
        "\r\n",
        "tae_2018.columns =['Ano', 'UF','taxa_abandono_escolar'] \r\n",
        "\r\n",
        "tae_2018"
      ],
      "execution_count": 107,
      "outputs": [
        {
          "output_type": "execute_result",
          "data": {
            "text/html": [
              "<div>\n",
              "<style scoped>\n",
              "    .dataframe tbody tr th:only-of-type {\n",
              "        vertical-align: middle;\n",
              "    }\n",
              "\n",
              "    .dataframe tbody tr th {\n",
              "        vertical-align: top;\n",
              "    }\n",
              "\n",
              "    .dataframe thead th {\n",
              "        text-align: right;\n",
              "    }\n",
              "</style>\n",
              "<table border=\"1\" class=\"dataframe\">\n",
              "  <thead>\n",
              "    <tr style=\"text-align: right;\">\n",
              "      <th></th>\n",
              "      <th>Ano</th>\n",
              "      <th>UF</th>\n",
              "      <th>taxa_abandono_escolar</th>\n",
              "    </tr>\n",
              "  </thead>\n",
              "  <tbody>\n",
              "    <tr>\n",
              "      <th>44</th>\n",
              "      <td>2018</td>\n",
              "      <td>Rondônia</td>\n",
              "      <td>1.4</td>\n",
              "    </tr>\n",
              "    <tr>\n",
              "      <th>62</th>\n",
              "      <td>2018</td>\n",
              "      <td>Acre</td>\n",
              "      <td>2.2</td>\n",
              "    </tr>\n",
              "    <tr>\n",
              "      <th>78</th>\n",
              "      <td>2018</td>\n",
              "      <td>Amazonas</td>\n",
              "      <td>2.8</td>\n",
              "    </tr>\n",
              "    <tr>\n",
              "      <th>96</th>\n",
              "      <td>2018</td>\n",
              "      <td>Roraima</td>\n",
              "      <td>2</td>\n",
              "    </tr>\n",
              "    <tr>\n",
              "      <th>114</th>\n",
              "      <td>2018</td>\n",
              "      <td>Pará</td>\n",
              "      <td>3.6</td>\n",
              "    </tr>\n",
              "    <tr>\n",
              "      <th>132</th>\n",
              "      <td>2018</td>\n",
              "      <td>Amapá</td>\n",
              "      <td>2.4</td>\n",
              "    </tr>\n",
              "    <tr>\n",
              "      <th>149</th>\n",
              "      <td>2018</td>\n",
              "      <td>Tocantins</td>\n",
              "      <td>1.1</td>\n",
              "    </tr>\n",
              "    <tr>\n",
              "      <th>185</th>\n",
              "      <td>2018</td>\n",
              "      <td>Maranhão</td>\n",
              "      <td>2.3</td>\n",
              "    </tr>\n",
              "    <tr>\n",
              "      <th>203</th>\n",
              "      <td>2018</td>\n",
              "      <td>Piauí</td>\n",
              "      <td>1.8</td>\n",
              "    </tr>\n",
              "    <tr>\n",
              "      <th>221</th>\n",
              "      <td>2018</td>\n",
              "      <td>Ceará</td>\n",
              "      <td>0.9</td>\n",
              "    </tr>\n",
              "    <tr>\n",
              "      <th>239</th>\n",
              "      <td>2018</td>\n",
              "      <td>Rio Grande do Norte</td>\n",
              "      <td>2.6</td>\n",
              "    </tr>\n",
              "    <tr>\n",
              "      <th>257</th>\n",
              "      <td>2018</td>\n",
              "      <td>Paraíba</td>\n",
              "      <td>3</td>\n",
              "    </tr>\n",
              "    <tr>\n",
              "      <th>275</th>\n",
              "      <td>2018</td>\n",
              "      <td>Pernambuco</td>\n",
              "      <td>1.3</td>\n",
              "    </tr>\n",
              "    <tr>\n",
              "      <th>293</th>\n",
              "      <td>2018</td>\n",
              "      <td>Alagoas</td>\n",
              "      <td>2.9</td>\n",
              "    </tr>\n",
              "    <tr>\n",
              "      <th>310</th>\n",
              "      <td>2018</td>\n",
              "      <td>Sergipe</td>\n",
              "      <td>2.5</td>\n",
              "    </tr>\n",
              "    <tr>\n",
              "      <th>328</th>\n",
              "      <td>2018</td>\n",
              "      <td>Bahia</td>\n",
              "      <td>3.3</td>\n",
              "    </tr>\n",
              "    <tr>\n",
              "      <th>364</th>\n",
              "      <td>2018</td>\n",
              "      <td>Minas Gerais</td>\n",
              "      <td>1.1</td>\n",
              "    </tr>\n",
              "    <tr>\n",
              "      <th>382</th>\n",
              "      <td>2018</td>\n",
              "      <td>Espírito Santo</td>\n",
              "      <td>0.7</td>\n",
              "    </tr>\n",
              "    <tr>\n",
              "      <th>400</th>\n",
              "      <td>2018</td>\n",
              "      <td>Rio de Janeiro</td>\n",
              "      <td>1.3</td>\n",
              "    </tr>\n",
              "    <tr>\n",
              "      <th>418</th>\n",
              "      <td>2018</td>\n",
              "      <td>São Paulo</td>\n",
              "      <td>0.5</td>\n",
              "    </tr>\n",
              "    <tr>\n",
              "      <th>453</th>\n",
              "      <td>2018</td>\n",
              "      <td>Paraná</td>\n",
              "      <td>0.8</td>\n",
              "    </tr>\n",
              "    <tr>\n",
              "      <th>471</th>\n",
              "      <td>2018</td>\n",
              "      <td>Santa Catarina</td>\n",
              "      <td>0.5</td>\n",
              "    </tr>\n",
              "    <tr>\n",
              "      <th>489</th>\n",
              "      <td>2018</td>\n",
              "      <td>Rio Grande do Sul</td>\n",
              "      <td>0.9</td>\n",
              "    </tr>\n",
              "    <tr>\n",
              "      <th>525</th>\n",
              "      <td>2018</td>\n",
              "      <td>Mato Grosso do Sul</td>\n",
              "      <td>1.3</td>\n",
              "    </tr>\n",
              "    <tr>\n",
              "      <th>543</th>\n",
              "      <td>2018</td>\n",
              "      <td>Mato Grosso</td>\n",
              "      <td>0.6</td>\n",
              "    </tr>\n",
              "    <tr>\n",
              "      <th>561</th>\n",
              "      <td>2018</td>\n",
              "      <td>Goiás</td>\n",
              "      <td>0.8</td>\n",
              "    </tr>\n",
              "    <tr>\n",
              "      <th>579</th>\n",
              "      <td>2018</td>\n",
              "      <td>Distrito Federal</td>\n",
              "      <td>0.7</td>\n",
              "    </tr>\n",
              "  </tbody>\n",
              "</table>\n",
              "</div>"
            ],
            "text/plain": [
              "      Ano                   UF taxa_abandono_escolar\n",
              "44   2018             Rondônia                   1.4\n",
              "62   2018                 Acre                   2.2\n",
              "78   2018             Amazonas                   2.8\n",
              "96   2018              Roraima                     2\n",
              "114  2018                 Pará                   3.6\n",
              "132  2018                Amapá                   2.4\n",
              "149  2018            Tocantins                   1.1\n",
              "185  2018             Maranhão                   2.3\n",
              "203  2018                Piauí                   1.8\n",
              "221  2018                Ceará                   0.9\n",
              "239  2018  Rio Grande do Norte                   2.6\n",
              "257  2018              Paraíba                     3\n",
              "275  2018           Pernambuco                   1.3\n",
              "293  2018              Alagoas                   2.9\n",
              "310  2018              Sergipe                   2.5\n",
              "328  2018                Bahia                   3.3\n",
              "364  2018         Minas Gerais                   1.1\n",
              "382  2018       Espírito Santo                   0.7\n",
              "400  2018       Rio de Janeiro                   1.3\n",
              "418  2018            São Paulo                   0.5\n",
              "453  2018               Paraná                   0.8\n",
              "471  2018       Santa Catarina                   0.5\n",
              "489  2018    Rio Grande do Sul                   0.9\n",
              "525  2018   Mato Grosso do Sul                   1.3\n",
              "543  2018          Mato Grosso                   0.6\n",
              "561  2018                Goiás                   0.8\n",
              "579  2018     Distrito Federal                   0.7"
            ]
          },
          "metadata": {
            "tags": []
          },
          "execution_count": 107
        }
      ]
    },
    {
      "cell_type": "markdown",
      "metadata": {
        "id": "Jlz3Zos3lH2S"
      },
      "source": [
        "###2019"
      ]
    },
    {
      "cell_type": "code",
      "metadata": {
        "id": "J7V3tKPDlIHc"
      },
      "source": [
        "df_2019 = pd.read_excel(\"/content/gdrive/MyDrive/Colab Notebooks/Machine Learning/Bases/trabalho_pratico02/TX_REND_BRASIL_REGIOES_UFS_2019.xlsx\")"
      ],
      "execution_count": 108,
      "outputs": []
    },
    {
      "cell_type": "code",
      "metadata": {
        "colab": {
          "base_uri": "https://localhost:8080/"
        },
        "id": "b6wLUqzLmPJG",
        "outputId": "13222fb0-4441-4b12-8278-a656028c43db"
      },
      "source": [
        "df_2019.columns"
      ],
      "execution_count": 109,
      "outputs": [
        {
          "output_type": "execute_result",
          "data": {
            "text/plain": [
              "Index(['Unnamed: 0', 'Ministério da Educação', 'Unnamed: 2', 'Unnamed: 3',\n",
              "       'Unnamed: 4', 'Unnamed: 5', 'Unnamed: 6', 'Unnamed: 7', 'Unnamed: 8',\n",
              "       'Unnamed: 9', 'Unnamed: 10', 'Unnamed: 11', 'Unnamed: 12',\n",
              "       'Unnamed: 13', 'Unnamed: 14', 'Unnamed: 15', 'Unnamed: 16',\n",
              "       'Unnamed: 17', 'Unnamed: 18', 'Unnamed: 19', 'Unnamed: 20',\n",
              "       'Unnamed: 21', 'Unnamed: 22', 'Unnamed: 23', 'Unnamed: 24',\n",
              "       'Unnamed: 25', 'Unnamed: 26', 'Unnamed: 27', 'Unnamed: 28',\n",
              "       'Unnamed: 29', 'Unnamed: 30', 'Unnamed: 31', 'Unnamed: 32',\n",
              "       'Unnamed: 33', 'Unnamed: 34', 'Unnamed: 35', 'Unnamed: 36',\n",
              "       'Unnamed: 37', 'Unnamed: 38', 'Unnamed: 39', 'Unnamed: 40',\n",
              "       'Unnamed: 41', 'Unnamed: 42', 'Unnamed: 43', 'Unnamed: 44',\n",
              "       'Unnamed: 45', 'Unnamed: 46', 'Unnamed: 47', 'Unnamed: 48',\n",
              "       'Unnamed: 49', 'Unnamed: 50', 'Unnamed: 51', 'Unnamed: 52',\n",
              "       'Unnamed: 53', 'Unnamed: 54', 'Unnamed: 55', 'Unnamed: 56',\n",
              "       'Unnamed: 57'],\n",
              "      dtype='object')"
            ]
          },
          "metadata": {
            "tags": []
          },
          "execution_count": 109
        }
      ]
    },
    {
      "cell_type": "code",
      "metadata": {
        "colab": {
          "base_uri": "https://localhost:8080/",
          "height": 886
        },
        "id": "uFjTu3pdlSup",
        "outputId": "0a46bedb-0eb6-478d-a868-3857d1080bb5"
      },
      "source": [
        "# Selecionando colunas específicas\r\n",
        "df_2019 = df_2019.loc[:, ['Unnamed: 0','Unnamed: 2','Unnamed: 3','Ministério da Educação','Unnamed: 40']]\r\n",
        "\r\n",
        "#Selecionando linhas baseadas em condição\r\n",
        "options3 = ['Total'] \r\n",
        "\r\n",
        "df1 = df_2019[(df_2019['Unnamed: 2'].isin(options3)) & df_2019['Unnamed: 3'].isin(options3)]\r\n",
        "\r\n",
        "# Deletando as colunas baseadas nas condicões\r\n",
        "df2 = df1.drop(['Unnamed: 2','Unnamed: 3'], axis = 1)\r\n",
        "\r\n",
        "#Selecionando linhas baseadas em condição\r\n",
        "options2 = ['Centro-Oeste', 'Sul', 'Sudeste', 'Nordeste', 'Norte','Brasil'] \r\n",
        "\r\n",
        "df3 = df2[(df2['Ministério da Educação'].isin(options2))]\r\n",
        "\r\n",
        "#\r\n",
        "tae_2019 = pd.concat([df3, df2]).drop_duplicates(keep=False)\r\n",
        "\r\n",
        "tae_2019.columns =['Ano', 'UF','taxa_abandono_escolar'] \r\n",
        "\r\n",
        "tae_2019"
      ],
      "execution_count": 110,
      "outputs": [
        {
          "output_type": "execute_result",
          "data": {
            "text/html": [
              "<div>\n",
              "<style scoped>\n",
              "    .dataframe tbody tr th:only-of-type {\n",
              "        vertical-align: middle;\n",
              "    }\n",
              "\n",
              "    .dataframe tbody tr th {\n",
              "        vertical-align: top;\n",
              "    }\n",
              "\n",
              "    .dataframe thead th {\n",
              "        text-align: right;\n",
              "    }\n",
              "</style>\n",
              "<table border=\"1\" class=\"dataframe\">\n",
              "  <thead>\n",
              "    <tr style=\"text-align: right;\">\n",
              "      <th></th>\n",
              "      <th>Ano</th>\n",
              "      <th>UF</th>\n",
              "      <th>taxa_abandono_escolar</th>\n",
              "    </tr>\n",
              "  </thead>\n",
              "  <tbody>\n",
              "    <tr>\n",
              "      <th>116</th>\n",
              "      <td>2019</td>\n",
              "      <td>Rondônia</td>\n",
              "      <td>1.1</td>\n",
              "    </tr>\n",
              "    <tr>\n",
              "      <th>134</th>\n",
              "      <td>2019</td>\n",
              "      <td>Acre</td>\n",
              "      <td>2.1</td>\n",
              "    </tr>\n",
              "    <tr>\n",
              "      <th>150</th>\n",
              "      <td>2019</td>\n",
              "      <td>Amazonas</td>\n",
              "      <td>2.4</td>\n",
              "    </tr>\n",
              "    <tr>\n",
              "      <th>168</th>\n",
              "      <td>2019</td>\n",
              "      <td>Roraima</td>\n",
              "      <td>1.9</td>\n",
              "    </tr>\n",
              "    <tr>\n",
              "      <th>186</th>\n",
              "      <td>2019</td>\n",
              "      <td>Pará</td>\n",
              "      <td>2.9</td>\n",
              "    </tr>\n",
              "    <tr>\n",
              "      <th>204</th>\n",
              "      <td>2019</td>\n",
              "      <td>Amapá</td>\n",
              "      <td>2</td>\n",
              "    </tr>\n",
              "    <tr>\n",
              "      <th>221</th>\n",
              "      <td>2019</td>\n",
              "      <td>Tocantins</td>\n",
              "      <td>0.9</td>\n",
              "    </tr>\n",
              "    <tr>\n",
              "      <th>239</th>\n",
              "      <td>2019</td>\n",
              "      <td>Maranhão</td>\n",
              "      <td>1.8</td>\n",
              "    </tr>\n",
              "    <tr>\n",
              "      <th>257</th>\n",
              "      <td>2019</td>\n",
              "      <td>Piauí</td>\n",
              "      <td>1.3</td>\n",
              "    </tr>\n",
              "    <tr>\n",
              "      <th>275</th>\n",
              "      <td>2019</td>\n",
              "      <td>Ceará</td>\n",
              "      <td>0.7</td>\n",
              "    </tr>\n",
              "    <tr>\n",
              "      <th>293</th>\n",
              "      <td>2019</td>\n",
              "      <td>Rio Grande do Norte</td>\n",
              "      <td>2</td>\n",
              "    </tr>\n",
              "    <tr>\n",
              "      <th>311</th>\n",
              "      <td>2019</td>\n",
              "      <td>Paraíba</td>\n",
              "      <td>2.3</td>\n",
              "    </tr>\n",
              "    <tr>\n",
              "      <th>329</th>\n",
              "      <td>2019</td>\n",
              "      <td>Pernambuco</td>\n",
              "      <td>0.9</td>\n",
              "    </tr>\n",
              "    <tr>\n",
              "      <th>347</th>\n",
              "      <td>2019</td>\n",
              "      <td>Alagoas</td>\n",
              "      <td>1.5</td>\n",
              "    </tr>\n",
              "    <tr>\n",
              "      <th>364</th>\n",
              "      <td>2019</td>\n",
              "      <td>Sergipe</td>\n",
              "      <td>2</td>\n",
              "    </tr>\n",
              "    <tr>\n",
              "      <th>382</th>\n",
              "      <td>2019</td>\n",
              "      <td>Bahia</td>\n",
              "      <td>2.6</td>\n",
              "    </tr>\n",
              "    <tr>\n",
              "      <th>400</th>\n",
              "      <td>2019</td>\n",
              "      <td>Minas Gerais</td>\n",
              "      <td>0.6</td>\n",
              "    </tr>\n",
              "    <tr>\n",
              "      <th>418</th>\n",
              "      <td>2019</td>\n",
              "      <td>Espírito Santo</td>\n",
              "      <td>0.5</td>\n",
              "    </tr>\n",
              "    <tr>\n",
              "      <th>436</th>\n",
              "      <td>2019</td>\n",
              "      <td>Rio de Janeiro</td>\n",
              "      <td>1</td>\n",
              "    </tr>\n",
              "    <tr>\n",
              "      <th>454</th>\n",
              "      <td>2019</td>\n",
              "      <td>São Paulo</td>\n",
              "      <td>0.4</td>\n",
              "    </tr>\n",
              "    <tr>\n",
              "      <th>471</th>\n",
              "      <td>2019</td>\n",
              "      <td>Paraná</td>\n",
              "      <td>0.5</td>\n",
              "    </tr>\n",
              "    <tr>\n",
              "      <th>489</th>\n",
              "      <td>2019</td>\n",
              "      <td>Santa Catarina</td>\n",
              "      <td>0.4</td>\n",
              "    </tr>\n",
              "    <tr>\n",
              "      <th>507</th>\n",
              "      <td>2019</td>\n",
              "      <td>Rio Grande do Sul</td>\n",
              "      <td>0.9</td>\n",
              "    </tr>\n",
              "    <tr>\n",
              "      <th>525</th>\n",
              "      <td>2019</td>\n",
              "      <td>Mato Grosso do Sul</td>\n",
              "      <td>1.1</td>\n",
              "    </tr>\n",
              "    <tr>\n",
              "      <th>543</th>\n",
              "      <td>2019</td>\n",
              "      <td>Mato Grosso</td>\n",
              "      <td>0.6</td>\n",
              "    </tr>\n",
              "    <tr>\n",
              "      <th>561</th>\n",
              "      <td>2019</td>\n",
              "      <td>Goiás</td>\n",
              "      <td>0.6</td>\n",
              "    </tr>\n",
              "    <tr>\n",
              "      <th>579</th>\n",
              "      <td>2019</td>\n",
              "      <td>Distrito Federal</td>\n",
              "      <td>0.8</td>\n",
              "    </tr>\n",
              "  </tbody>\n",
              "</table>\n",
              "</div>"
            ],
            "text/plain": [
              "      Ano                   UF taxa_abandono_escolar\n",
              "116  2019             Rondônia                   1.1\n",
              "134  2019                 Acre                   2.1\n",
              "150  2019             Amazonas                   2.4\n",
              "168  2019              Roraima                   1.9\n",
              "186  2019                 Pará                   2.9\n",
              "204  2019                Amapá                     2\n",
              "221  2019            Tocantins                   0.9\n",
              "239  2019             Maranhão                   1.8\n",
              "257  2019                Piauí                   1.3\n",
              "275  2019                Ceará                   0.7\n",
              "293  2019  Rio Grande do Norte                     2\n",
              "311  2019              Paraíba                   2.3\n",
              "329  2019           Pernambuco                   0.9\n",
              "347  2019              Alagoas                   1.5\n",
              "364  2019              Sergipe                     2\n",
              "382  2019                Bahia                   2.6\n",
              "400  2019         Minas Gerais                   0.6\n",
              "418  2019       Espírito Santo                   0.5\n",
              "436  2019       Rio de Janeiro                     1\n",
              "454  2019            São Paulo                   0.4\n",
              "471  2019               Paraná                   0.5\n",
              "489  2019       Santa Catarina                   0.4\n",
              "507  2019    Rio Grande do Sul                   0.9\n",
              "525  2019   Mato Grosso do Sul                   1.1\n",
              "543  2019          Mato Grosso                   0.6\n",
              "561  2019                Goiás                   0.6\n",
              "579  2019     Distrito Federal                   0.8"
            ]
          },
          "metadata": {
            "tags": []
          },
          "execution_count": 110
        }
      ]
    },
    {
      "cell_type": "markdown",
      "metadata": {
        "id": "GVINh2pxnf75"
      },
      "source": [
        "###Merge dos anos"
      ]
    },
    {
      "cell_type": "code",
      "metadata": {
        "colab": {
          "base_uri": "https://localhost:8080/",
          "height": 419
        },
        "id": "35JfJCyuqouq",
        "outputId": "997fe97b-f73d-4e6e-8878-d66d4f751881"
      },
      "source": [
        "# Merge e reestruturação dos dataframes\r\n",
        "\r\n",
        "frames = [tae_2017,tae_2018,tae_2019]\r\n",
        "taxa_abandono = pd.concat(frames)\r\n",
        "taxa_abandono.reset_index(inplace=True)\r\n",
        "taxa_abandono.set_index(['UF','Ano'], inplace=True)\r\n",
        "taxa_abandono.columns = taxa_abandono.columns.to_flat_index()\r\n",
        "taxa_abandono.columns = [column if type(column) == str else column[1] for column in taxa_abandono.columns]\r\n",
        "taxa_abandono.reset_index(inplace=True)\r\n",
        "taxa_abandono.drop(columns='index',inplace=True)\r\n",
        "taxa_abandono.to_csv(\"database_.csv\",index=False)\r\n",
        "taxa_abandono.head(100)"
      ],
      "execution_count": 111,
      "outputs": [
        {
          "output_type": "execute_result",
          "data": {
            "text/html": [
              "<div>\n",
              "<style scoped>\n",
              "    .dataframe tbody tr th:only-of-type {\n",
              "        vertical-align: middle;\n",
              "    }\n",
              "\n",
              "    .dataframe tbody tr th {\n",
              "        vertical-align: top;\n",
              "    }\n",
              "\n",
              "    .dataframe thead th {\n",
              "        text-align: right;\n",
              "    }\n",
              "</style>\n",
              "<table border=\"1\" class=\"dataframe\">\n",
              "  <thead>\n",
              "    <tr style=\"text-align: right;\">\n",
              "      <th></th>\n",
              "      <th>UF</th>\n",
              "      <th>Ano</th>\n",
              "      <th>taxa_abandono_escolar</th>\n",
              "    </tr>\n",
              "  </thead>\n",
              "  <tbody>\n",
              "    <tr>\n",
              "      <th>0</th>\n",
              "      <td>Rondônia</td>\n",
              "      <td>2017</td>\n",
              "      <td>1.3</td>\n",
              "    </tr>\n",
              "    <tr>\n",
              "      <th>1</th>\n",
              "      <td>Acre</td>\n",
              "      <td>2017</td>\n",
              "      <td>2.3</td>\n",
              "    </tr>\n",
              "    <tr>\n",
              "      <th>2</th>\n",
              "      <td>Amazonas</td>\n",
              "      <td>2017</td>\n",
              "      <td>3.1</td>\n",
              "    </tr>\n",
              "    <tr>\n",
              "      <th>3</th>\n",
              "      <td>Roraima</td>\n",
              "      <td>2017</td>\n",
              "      <td>1.9</td>\n",
              "    </tr>\n",
              "    <tr>\n",
              "      <th>4</th>\n",
              "      <td>Pará</td>\n",
              "      <td>2017</td>\n",
              "      <td>3.7</td>\n",
              "    </tr>\n",
              "    <tr>\n",
              "      <th>...</th>\n",
              "      <td>...</td>\n",
              "      <td>...</td>\n",
              "      <td>...</td>\n",
              "    </tr>\n",
              "    <tr>\n",
              "      <th>76</th>\n",
              "      <td>Rio Grande do Sul</td>\n",
              "      <td>2019</td>\n",
              "      <td>0.9</td>\n",
              "    </tr>\n",
              "    <tr>\n",
              "      <th>77</th>\n",
              "      <td>Mato Grosso do Sul</td>\n",
              "      <td>2019</td>\n",
              "      <td>1.1</td>\n",
              "    </tr>\n",
              "    <tr>\n",
              "      <th>78</th>\n",
              "      <td>Mato Grosso</td>\n",
              "      <td>2019</td>\n",
              "      <td>0.6</td>\n",
              "    </tr>\n",
              "    <tr>\n",
              "      <th>79</th>\n",
              "      <td>Goiás</td>\n",
              "      <td>2019</td>\n",
              "      <td>0.6</td>\n",
              "    </tr>\n",
              "    <tr>\n",
              "      <th>80</th>\n",
              "      <td>Distrito Federal</td>\n",
              "      <td>2019</td>\n",
              "      <td>0.8</td>\n",
              "    </tr>\n",
              "  </tbody>\n",
              "</table>\n",
              "<p>81 rows × 3 columns</p>\n",
              "</div>"
            ],
            "text/plain": [
              "                    UF   Ano taxa_abandono_escolar\n",
              "0             Rondônia  2017                   1.3\n",
              "1                 Acre  2017                   2.3\n",
              "2             Amazonas  2017                   3.1\n",
              "3              Roraima  2017                   1.9\n",
              "4                 Pará  2017                   3.7\n",
              "..                 ...   ...                   ...\n",
              "76   Rio Grande do Sul  2019                   0.9\n",
              "77  Mato Grosso do Sul  2019                   1.1\n",
              "78         Mato Grosso  2019                   0.6\n",
              "79               Goiás  2019                   0.6\n",
              "80    Distrito Federal  2019                   0.8\n",
              "\n",
              "[81 rows x 3 columns]"
            ]
          },
          "metadata": {
            "tags": []
          },
          "execution_count": 111
        }
      ]
    },
    {
      "cell_type": "code",
      "metadata": {
        "colab": {
          "base_uri": "https://localhost:8080/"
        },
        "id": "e6bM3mUwz3pW",
        "outputId": "a890a394-34f9-4c9f-9195-b513dc6809b1"
      },
      "source": [
        "taxa_abandono.info()"
      ],
      "execution_count": 112,
      "outputs": [
        {
          "output_type": "stream",
          "text": [
            "<class 'pandas.core.frame.DataFrame'>\n",
            "RangeIndex: 81 entries, 0 to 80\n",
            "Data columns (total 3 columns):\n",
            " #   Column                 Non-Null Count  Dtype \n",
            "---  ------                 --------------  ----- \n",
            " 0   UF                     81 non-null     object\n",
            " 1   Ano                    81 non-null     int64 \n",
            " 2   taxa_abandono_escolar  81 non-null     object\n",
            "dtypes: int64(1), object(2)\n",
            "memory usage: 2.0+ KB\n"
          ],
          "name": "stdout"
        }
      ]
    },
    {
      "cell_type": "markdown",
      "metadata": {
        "id": "_7fdr6XGj81c"
      },
      "source": [
        "## Dados criminais"
      ]
    },
    {
      "cell_type": "code",
      "metadata": {
        "id": "2vPrz5ZXPjjK"
      },
      "source": [
        "dados_criminais = pd.read_excel(\"/content/gdrive/MyDrive/Colab Notebooks/Machine Learning/Bases/trabalho_pratico02/indicadoressegurancapublicaufjul20.xlsx\")"
      ],
      "execution_count": 113,
      "outputs": []
    },
    {
      "cell_type": "code",
      "metadata": {
        "colab": {
          "base_uri": "https://localhost:8080/",
          "height": 419
        },
        "id": "ykKhdOfqx9qb",
        "outputId": "adaf1002-b46b-4560-a286-bfb235bfab0f"
      },
      "source": [
        "dados_criminais.head(100)"
      ],
      "execution_count": 114,
      "outputs": [
        {
          "output_type": "execute_result",
          "data": {
            "text/html": [
              "<div>\n",
              "<style scoped>\n",
              "    .dataframe tbody tr th:only-of-type {\n",
              "        vertical-align: middle;\n",
              "    }\n",
              "\n",
              "    .dataframe tbody tr th {\n",
              "        vertical-align: top;\n",
              "    }\n",
              "\n",
              "    .dataframe thead th {\n",
              "        text-align: right;\n",
              "    }\n",
              "</style>\n",
              "<table border=\"1\" class=\"dataframe\">\n",
              "  <thead>\n",
              "    <tr style=\"text-align: right;\">\n",
              "      <th></th>\n",
              "      <th>UF</th>\n",
              "      <th>Tipo Crime</th>\n",
              "      <th>Ano</th>\n",
              "      <th>Mês</th>\n",
              "      <th>Ocorrências</th>\n",
              "    </tr>\n",
              "  </thead>\n",
              "  <tbody>\n",
              "    <tr>\n",
              "      <th>0</th>\n",
              "      <td>Acre</td>\n",
              "      <td>Estupro</td>\n",
              "      <td>2015</td>\n",
              "      <td>janeiro</td>\n",
              "      <td>6</td>\n",
              "    </tr>\n",
              "    <tr>\n",
              "      <th>1</th>\n",
              "      <td>Acre</td>\n",
              "      <td>Furto de veículo</td>\n",
              "      <td>2015</td>\n",
              "      <td>janeiro</td>\n",
              "      <td>0</td>\n",
              "    </tr>\n",
              "    <tr>\n",
              "      <th>2</th>\n",
              "      <td>Acre</td>\n",
              "      <td>Homicídio doloso</td>\n",
              "      <td>2015</td>\n",
              "      <td>janeiro</td>\n",
              "      <td>13</td>\n",
              "    </tr>\n",
              "    <tr>\n",
              "      <th>3</th>\n",
              "      <td>Acre</td>\n",
              "      <td>Lesão corporal seguida de morte</td>\n",
              "      <td>2015</td>\n",
              "      <td>janeiro</td>\n",
              "      <td>0</td>\n",
              "    </tr>\n",
              "    <tr>\n",
              "      <th>4</th>\n",
              "      <td>Acre</td>\n",
              "      <td>Roubo a instituição financeira</td>\n",
              "      <td>2015</td>\n",
              "      <td>janeiro</td>\n",
              "      <td>0</td>\n",
              "    </tr>\n",
              "    <tr>\n",
              "      <th>...</th>\n",
              "      <td>...</td>\n",
              "      <td>...</td>\n",
              "      <td>...</td>\n",
              "      <td>...</td>\n",
              "      <td>...</td>\n",
              "    </tr>\n",
              "    <tr>\n",
              "      <th>95</th>\n",
              "      <td>Acre</td>\n",
              "      <td>Roubo de carga</td>\n",
              "      <td>2015</td>\n",
              "      <td>novembro</td>\n",
              "      <td>0</td>\n",
              "    </tr>\n",
              "    <tr>\n",
              "      <th>96</th>\n",
              "      <td>Acre</td>\n",
              "      <td>Roubo de veículo</td>\n",
              "      <td>2015</td>\n",
              "      <td>novembro</td>\n",
              "      <td>0</td>\n",
              "    </tr>\n",
              "    <tr>\n",
              "      <th>97</th>\n",
              "      <td>Acre</td>\n",
              "      <td>Roubo seguido de morte (latrocínio)</td>\n",
              "      <td>2015</td>\n",
              "      <td>novembro</td>\n",
              "      <td>1</td>\n",
              "    </tr>\n",
              "    <tr>\n",
              "      <th>98</th>\n",
              "      <td>Acre</td>\n",
              "      <td>Tentativa de homicídio</td>\n",
              "      <td>2015</td>\n",
              "      <td>novembro</td>\n",
              "      <td>1</td>\n",
              "    </tr>\n",
              "    <tr>\n",
              "      <th>99</th>\n",
              "      <td>Acre</td>\n",
              "      <td>Estupro</td>\n",
              "      <td>2015</td>\n",
              "      <td>dezembro</td>\n",
              "      <td>0</td>\n",
              "    </tr>\n",
              "  </tbody>\n",
              "</table>\n",
              "<p>100 rows × 5 columns</p>\n",
              "</div>"
            ],
            "text/plain": [
              "      UF                           Tipo Crime   Ano       Mês  Ocorrências\n",
              "0   Acre                              Estupro  2015   janeiro            6\n",
              "1   Acre                     Furto de veículo  2015   janeiro            0\n",
              "2   Acre                     Homicídio doloso  2015   janeiro           13\n",
              "3   Acre      Lesão corporal seguida de morte  2015   janeiro            0\n",
              "4   Acre       Roubo a instituição financeira  2015   janeiro            0\n",
              "..   ...                                  ...   ...       ...          ...\n",
              "95  Acre                       Roubo de carga  2015  novembro            0\n",
              "96  Acre                     Roubo de veículo  2015  novembro            0\n",
              "97  Acre  Roubo seguido de morte (latrocínio)  2015  novembro            1\n",
              "98  Acre               Tentativa de homicídio  2015  novembro            1\n",
              "99  Acre                              Estupro  2015  dezembro            0\n",
              "\n",
              "[100 rows x 5 columns]"
            ]
          },
          "metadata": {
            "tags": []
          },
          "execution_count": 114
        }
      ]
    },
    {
      "cell_type": "code",
      "metadata": {
        "id": "Se-w_ce8c-Cb"
      },
      "source": [
        "#Selecionando linhas baseadas em condição\r\n",
        "option = ['2017','2018','2019'] \r\n",
        "\r\n",
        "df_2017_2019 = dados_criminais[(dados_criminais['Ano'].isin(option))]"
      ],
      "execution_count": 115,
      "outputs": []
    },
    {
      "cell_type": "code",
      "metadata": {
        "colab": {
          "base_uri": "https://localhost:8080/",
          "height": 419
        },
        "id": "2XRTRAPkdH7-",
        "outputId": "86e580e6-5428-4062-8627-799be0ead297"
      },
      "source": [
        "df_2017_2019"
      ],
      "execution_count": 116,
      "outputs": [
        {
          "output_type": "execute_result",
          "data": {
            "text/html": [
              "<div>\n",
              "<style scoped>\n",
              "    .dataframe tbody tr th:only-of-type {\n",
              "        vertical-align: middle;\n",
              "    }\n",
              "\n",
              "    .dataframe tbody tr th {\n",
              "        vertical-align: top;\n",
              "    }\n",
              "\n",
              "    .dataframe thead th {\n",
              "        text-align: right;\n",
              "    }\n",
              "</style>\n",
              "<table border=\"1\" class=\"dataframe\">\n",
              "  <thead>\n",
              "    <tr style=\"text-align: right;\">\n",
              "      <th></th>\n",
              "      <th>UF</th>\n",
              "      <th>Tipo Crime</th>\n",
              "      <th>Ano</th>\n",
              "      <th>Mês</th>\n",
              "      <th>Ocorrências</th>\n",
              "    </tr>\n",
              "  </thead>\n",
              "  <tbody>\n",
              "    <tr>\n",
              "      <th>216</th>\n",
              "      <td>Acre</td>\n",
              "      <td>Estupro</td>\n",
              "      <td>2017</td>\n",
              "      <td>janeiro</td>\n",
              "      <td>0</td>\n",
              "    </tr>\n",
              "    <tr>\n",
              "      <th>217</th>\n",
              "      <td>Acre</td>\n",
              "      <td>Furto de veículo</td>\n",
              "      <td>2017</td>\n",
              "      <td>janeiro</td>\n",
              "      <td>0</td>\n",
              "    </tr>\n",
              "    <tr>\n",
              "      <th>218</th>\n",
              "      <td>Acre</td>\n",
              "      <td>Homicídio doloso</td>\n",
              "      <td>2017</td>\n",
              "      <td>janeiro</td>\n",
              "      <td>43</td>\n",
              "    </tr>\n",
              "    <tr>\n",
              "      <th>219</th>\n",
              "      <td>Acre</td>\n",
              "      <td>Lesão corporal seguida de morte</td>\n",
              "      <td>2017</td>\n",
              "      <td>janeiro</td>\n",
              "      <td>0</td>\n",
              "    </tr>\n",
              "    <tr>\n",
              "      <th>220</th>\n",
              "      <td>Acre</td>\n",
              "      <td>Roubo a instituição financeira</td>\n",
              "      <td>2017</td>\n",
              "      <td>janeiro</td>\n",
              "      <td>0</td>\n",
              "    </tr>\n",
              "    <tr>\n",
              "      <th>...</th>\n",
              "      <td>...</td>\n",
              "      <td>...</td>\n",
              "      <td>...</td>\n",
              "      <td>...</td>\n",
              "      <td>...</td>\n",
              "    </tr>\n",
              "    <tr>\n",
              "      <th>16057</th>\n",
              "      <td>Tocantins</td>\n",
              "      <td>Lesão corporal seguida de morte</td>\n",
              "      <td>2019</td>\n",
              "      <td>dezembro</td>\n",
              "      <td>0</td>\n",
              "    </tr>\n",
              "    <tr>\n",
              "      <th>16058</th>\n",
              "      <td>Tocantins</td>\n",
              "      <td>Roubo a instituição financeira</td>\n",
              "      <td>2019</td>\n",
              "      <td>dezembro</td>\n",
              "      <td>0</td>\n",
              "    </tr>\n",
              "    <tr>\n",
              "      <th>16060</th>\n",
              "      <td>Tocantins</td>\n",
              "      <td>Roubo de carga</td>\n",
              "      <td>2019</td>\n",
              "      <td>dezembro</td>\n",
              "      <td>0</td>\n",
              "    </tr>\n",
              "    <tr>\n",
              "      <th>16061</th>\n",
              "      <td>Tocantins</td>\n",
              "      <td>Roubo de veículo</td>\n",
              "      <td>2019</td>\n",
              "      <td>dezembro</td>\n",
              "      <td>51</td>\n",
              "    </tr>\n",
              "    <tr>\n",
              "      <th>16062</th>\n",
              "      <td>Tocantins</td>\n",
              "      <td>Tentativa de homicídio</td>\n",
              "      <td>2019</td>\n",
              "      <td>dezembro</td>\n",
              "      <td>43</td>\n",
              "    </tr>\n",
              "  </tbody>\n",
              "</table>\n",
              "<p>8692 rows × 5 columns</p>\n",
              "</div>"
            ],
            "text/plain": [
              "              UF                       Tipo Crime   Ano       Mês  Ocorrências\n",
              "216         Acre                          Estupro  2017   janeiro            0\n",
              "217         Acre                 Furto de veículo  2017   janeiro            0\n",
              "218         Acre                 Homicídio doloso  2017   janeiro           43\n",
              "219         Acre  Lesão corporal seguida de morte  2017   janeiro            0\n",
              "220         Acre   Roubo a instituição financeira  2017   janeiro            0\n",
              "...          ...                              ...   ...       ...          ...\n",
              "16057  Tocantins  Lesão corporal seguida de morte  2019  dezembro            0\n",
              "16058  Tocantins   Roubo a instituição financeira  2019  dezembro            0\n",
              "16060  Tocantins                   Roubo de carga  2019  dezembro            0\n",
              "16061  Tocantins                 Roubo de veículo  2019  dezembro           51\n",
              "16062  Tocantins           Tentativa de homicídio  2019  dezembro           43\n",
              "\n",
              "[8692 rows x 5 columns]"
            ]
          },
          "metadata": {
            "tags": []
          },
          "execution_count": 116
        }
      ]
    },
    {
      "cell_type": "code",
      "metadata": {
        "colab": {
          "base_uri": "https://localhost:8080/"
        },
        "id": "_uWyd9keRDaL",
        "outputId": "8871e6bd-c561-4fdd-db2c-3875897ce5a1"
      },
      "source": [
        "df_2017_2019.info()"
      ],
      "execution_count": 117,
      "outputs": [
        {
          "output_type": "stream",
          "text": [
            "<class 'pandas.core.frame.DataFrame'>\n",
            "Int64Index: 8692 entries, 216 to 16062\n",
            "Data columns (total 5 columns):\n",
            " #   Column       Non-Null Count  Dtype \n",
            "---  ------       --------------  ----- \n",
            " 0   UF           8692 non-null   object\n",
            " 1   Tipo Crime   8692 non-null   object\n",
            " 2   Ano          8692 non-null   int64 \n",
            " 3   Mês          8692 non-null   object\n",
            " 4   Ocorrências  8692 non-null   int64 \n",
            "dtypes: int64(2), object(3)\n",
            "memory usage: 407.4+ KB\n"
          ],
          "name": "stdout"
        }
      ]
    },
    {
      "cell_type": "code",
      "metadata": {
        "colab": {
          "base_uri": "https://localhost:8080/"
        },
        "id": "pE-bgSgFRJjo",
        "outputId": "20d90f9b-e129-4951-bbed-ca7f02cb4614"
      },
      "source": [
        "df_2017_2019.columns"
      ],
      "execution_count": 118,
      "outputs": [
        {
          "output_type": "execute_result",
          "data": {
            "text/plain": [
              "Index(['UF', 'Tipo Crime', 'Ano', 'Mês', 'Ocorrências'], dtype='object')"
            ]
          },
          "metadata": {
            "tags": []
          },
          "execution_count": 118
        }
      ]
    },
    {
      "cell_type": "code",
      "metadata": {
        "id": "r_H-oD0jyIPb",
        "colab": {
          "base_uri": "https://localhost:8080/",
          "height": 450
        },
        "outputId": "355c8840-a4fe-4f2d-cfdf-adc5625ad4a3"
      },
      "source": [
        "base_group = df_2017_2019.groupby([\"UF\",\"Ano\",\"Tipo Crime\"]).sum()\r\n",
        "base_group"
      ],
      "execution_count": 119,
      "outputs": [
        {
          "output_type": "execute_result",
          "data": {
            "text/html": [
              "<div>\n",
              "<style scoped>\n",
              "    .dataframe tbody tr th:only-of-type {\n",
              "        vertical-align: middle;\n",
              "    }\n",
              "\n",
              "    .dataframe tbody tr th {\n",
              "        vertical-align: top;\n",
              "    }\n",
              "\n",
              "    .dataframe thead th {\n",
              "        text-align: right;\n",
              "    }\n",
              "</style>\n",
              "<table border=\"1\" class=\"dataframe\">\n",
              "  <thead>\n",
              "    <tr style=\"text-align: right;\">\n",
              "      <th></th>\n",
              "      <th></th>\n",
              "      <th></th>\n",
              "      <th>Ocorrências</th>\n",
              "    </tr>\n",
              "    <tr>\n",
              "      <th>UF</th>\n",
              "      <th>Ano</th>\n",
              "      <th>Tipo Crime</th>\n",
              "      <th></th>\n",
              "    </tr>\n",
              "  </thead>\n",
              "  <tbody>\n",
              "    <tr>\n",
              "      <th rowspan=\"5\" valign=\"top\">Acre</th>\n",
              "      <th rowspan=\"5\" valign=\"top\">2017</th>\n",
              "      <th>Estupro</th>\n",
              "      <td>108</td>\n",
              "    </tr>\n",
              "    <tr>\n",
              "      <th>Furto de veículo</th>\n",
              "      <td>539</td>\n",
              "    </tr>\n",
              "    <tr>\n",
              "      <th>Homicídio doloso</th>\n",
              "      <td>221</td>\n",
              "    </tr>\n",
              "    <tr>\n",
              "      <th>Lesão corporal seguida de morte</th>\n",
              "      <td>0</td>\n",
              "    </tr>\n",
              "    <tr>\n",
              "      <th>Roubo a instituição financeira</th>\n",
              "      <td>5</td>\n",
              "    </tr>\n",
              "    <tr>\n",
              "      <th>...</th>\n",
              "      <th>...</th>\n",
              "      <th>...</th>\n",
              "      <td>...</td>\n",
              "    </tr>\n",
              "    <tr>\n",
              "      <th rowspan=\"5\" valign=\"top\">Tocantins</th>\n",
              "      <th rowspan=\"5\" valign=\"top\">2019</th>\n",
              "      <th>Roubo a instituição financeira</th>\n",
              "      <td>3</td>\n",
              "    </tr>\n",
              "    <tr>\n",
              "      <th>Roubo de carga</th>\n",
              "      <td>1</td>\n",
              "    </tr>\n",
              "    <tr>\n",
              "      <th>Roubo de veículo</th>\n",
              "      <td>701</td>\n",
              "    </tr>\n",
              "    <tr>\n",
              "      <th>Roubo seguido de morte (latrocínio)</th>\n",
              "      <td>18</td>\n",
              "    </tr>\n",
              "    <tr>\n",
              "      <th>Tentativa de homicídio</th>\n",
              "      <td>518</td>\n",
              "    </tr>\n",
              "  </tbody>\n",
              "</table>\n",
              "<p>728 rows × 1 columns</p>\n",
              "</div>"
            ],
            "text/plain": [
              "                                                    Ocorrências\n",
              "UF        Ano  Tipo Crime                                      \n",
              "Acre      2017 Estupro                                      108\n",
              "               Furto de veículo                             539\n",
              "               Homicídio doloso                             221\n",
              "               Lesão corporal seguida de morte                0\n",
              "               Roubo a instituição financeira                 5\n",
              "...                                                         ...\n",
              "Tocantins 2019 Roubo a instituição financeira                 3\n",
              "               Roubo de carga                                 1\n",
              "               Roubo de veículo                             701\n",
              "               Roubo seguido de morte (latrocínio)           18\n",
              "               Tentativa de homicídio                       518\n",
              "\n",
              "[728 rows x 1 columns]"
            ]
          },
          "metadata": {
            "tags": []
          },
          "execution_count": 119
        }
      ]
    },
    {
      "cell_type": "code",
      "metadata": {
        "colab": {
          "base_uri": "https://localhost:8080/"
        },
        "id": "dCa-iNYO1odz",
        "outputId": "99b5133c-dc89-4a44-e7d0-f4e500e5505f"
      },
      "source": [
        "df_2017_2019['Ocorrências']"
      ],
      "execution_count": 120,
      "outputs": [
        {
          "output_type": "execute_result",
          "data": {
            "text/plain": [
              "216       0\n",
              "217       0\n",
              "218      43\n",
              "219       0\n",
              "220       0\n",
              "         ..\n",
              "16057     0\n",
              "16058     0\n",
              "16060     0\n",
              "16061    51\n",
              "16062    43\n",
              "Name: Ocorrências, Length: 8692, dtype: int64"
            ]
          },
          "metadata": {
            "tags": []
          },
          "execution_count": 120
        }
      ]
    },
    {
      "cell_type": "code",
      "metadata": {
        "colab": {
          "base_uri": "https://localhost:8080/",
          "height": 470
        },
        "id": "lsTV2tDY0TcR",
        "outputId": "7d5d0f12-fd72-4f3f-a24b-9eb1d65cbc94"
      },
      "source": [
        "base_group.reset_index(inplace=True)\n",
        "base_group.set_index(['UF','Ano'], inplace=True)\n",
        "base_group = base_group.pivot(columns='Tipo Crime')\n",
        "base_group.columns = base_group.columns.to_flat_index()\n",
        "base_group.columns = [column if type(column) == str else column[1] for column in base_group.columns]\n",
        "base_group.reset_index(inplace=True)\n",
        "base_group.to_csv(\"database_.csv\",index=False)\n",
        "base_group"
      ],
      "execution_count": 121,
      "outputs": [
        {
          "output_type": "execute_result",
          "data": {
            "text/html": [
              "<div>\n",
              "<style scoped>\n",
              "    .dataframe tbody tr th:only-of-type {\n",
              "        vertical-align: middle;\n",
              "    }\n",
              "\n",
              "    .dataframe tbody tr th {\n",
              "        vertical-align: top;\n",
              "    }\n",
              "\n",
              "    .dataframe thead th {\n",
              "        text-align: right;\n",
              "    }\n",
              "</style>\n",
              "<table border=\"1\" class=\"dataframe\">\n",
              "  <thead>\n",
              "    <tr style=\"text-align: right;\">\n",
              "      <th></th>\n",
              "      <th>UF</th>\n",
              "      <th>Ano</th>\n",
              "      <th>Estupro</th>\n",
              "      <th>Furto de veículo</th>\n",
              "      <th>Homicídio doloso</th>\n",
              "      <th>Lesão corporal seguida de morte</th>\n",
              "      <th>Roubo a instituição financeira</th>\n",
              "      <th>Roubo de carga</th>\n",
              "      <th>Roubo de veículo</th>\n",
              "      <th>Roubo seguido de morte (latrocínio)</th>\n",
              "      <th>Tentativa de homicídio</th>\n",
              "    </tr>\n",
              "  </thead>\n",
              "  <tbody>\n",
              "    <tr>\n",
              "      <th>0</th>\n",
              "      <td>Acre</td>\n",
              "      <td>2017</td>\n",
              "      <td>108.0</td>\n",
              "      <td>539.0</td>\n",
              "      <td>221.0</td>\n",
              "      <td>0.0</td>\n",
              "      <td>5.0</td>\n",
              "      <td>3.0</td>\n",
              "      <td>849.0</td>\n",
              "      <td>10.0</td>\n",
              "      <td>61.0</td>\n",
              "    </tr>\n",
              "    <tr>\n",
              "      <th>1</th>\n",
              "      <td>Acre</td>\n",
              "      <td>2018</td>\n",
              "      <td>260.0</td>\n",
              "      <td>704.0</td>\n",
              "      <td>396.0</td>\n",
              "      <td>0.0</td>\n",
              "      <td>3.0</td>\n",
              "      <td>1.0</td>\n",
              "      <td>1080.0</td>\n",
              "      <td>20.0</td>\n",
              "      <td>86.0</td>\n",
              "    </tr>\n",
              "    <tr>\n",
              "      <th>2</th>\n",
              "      <td>Acre</td>\n",
              "      <td>2019</td>\n",
              "      <td>330.0</td>\n",
              "      <td>572.0</td>\n",
              "      <td>292.0</td>\n",
              "      <td>2.0</td>\n",
              "      <td>4.0</td>\n",
              "      <td>4.0</td>\n",
              "      <td>1246.0</td>\n",
              "      <td>14.0</td>\n",
              "      <td>134.0</td>\n",
              "    </tr>\n",
              "    <tr>\n",
              "      <th>3</th>\n",
              "      <td>Alagoas</td>\n",
              "      <td>2017</td>\n",
              "      <td>676.0</td>\n",
              "      <td>1194.0</td>\n",
              "      <td>1672.0</td>\n",
              "      <td>19.0</td>\n",
              "      <td>21.0</td>\n",
              "      <td>77.0</td>\n",
              "      <td>3133.0</td>\n",
              "      <td>59.0</td>\n",
              "      <td>577.0</td>\n",
              "    </tr>\n",
              "    <tr>\n",
              "      <th>4</th>\n",
              "      <td>Alagoas</td>\n",
              "      <td>2018</td>\n",
              "      <td>455.0</td>\n",
              "      <td>1158.0</td>\n",
              "      <td>1309.0</td>\n",
              "      <td>8.0</td>\n",
              "      <td>22.0</td>\n",
              "      <td>85.0</td>\n",
              "      <td>3481.0</td>\n",
              "      <td>39.0</td>\n",
              "      <td>440.0</td>\n",
              "    </tr>\n",
              "    <tr>\n",
              "      <th>...</th>\n",
              "      <td>...</td>\n",
              "      <td>...</td>\n",
              "      <td>...</td>\n",
              "      <td>...</td>\n",
              "      <td>...</td>\n",
              "      <td>...</td>\n",
              "      <td>...</td>\n",
              "      <td>...</td>\n",
              "      <td>...</td>\n",
              "      <td>...</td>\n",
              "      <td>...</td>\n",
              "    </tr>\n",
              "    <tr>\n",
              "      <th>76</th>\n",
              "      <td>São Paulo</td>\n",
              "      <td>2018</td>\n",
              "      <td>11949.0</td>\n",
              "      <td>97653.0</td>\n",
              "      <td>2949.0</td>\n",
              "      <td>80.0</td>\n",
              "      <td>54.0</td>\n",
              "      <td>8738.0</td>\n",
              "      <td>58355.0</td>\n",
              "      <td>270.0</td>\n",
              "      <td>3484.0</td>\n",
              "    </tr>\n",
              "    <tr>\n",
              "      <th>77</th>\n",
              "      <td>São Paulo</td>\n",
              "      <td>2019</td>\n",
              "      <td>11614.0</td>\n",
              "      <td>84099.0</td>\n",
              "      <td>2778.0</td>\n",
              "      <td>99.0</td>\n",
              "      <td>21.0</td>\n",
              "      <td>7325.0</td>\n",
              "      <td>46513.0</td>\n",
              "      <td>191.0</td>\n",
              "      <td>3390.0</td>\n",
              "    </tr>\n",
              "    <tr>\n",
              "      <th>78</th>\n",
              "      <td>Tocantins</td>\n",
              "      <td>2017</td>\n",
              "      <td>564.0</td>\n",
              "      <td>1539.0</td>\n",
              "      <td>337.0</td>\n",
              "      <td>7.0</td>\n",
              "      <td>23.0</td>\n",
              "      <td>8.0</td>\n",
              "      <td>815.0</td>\n",
              "      <td>11.0</td>\n",
              "      <td>335.0</td>\n",
              "    </tr>\n",
              "    <tr>\n",
              "      <th>79</th>\n",
              "      <td>Tocantins</td>\n",
              "      <td>2018</td>\n",
              "      <td>727.0</td>\n",
              "      <td>2092.0</td>\n",
              "      <td>363.0</td>\n",
              "      <td>7.0</td>\n",
              "      <td>7.0</td>\n",
              "      <td>0.0</td>\n",
              "      <td>1091.0</td>\n",
              "      <td>16.0</td>\n",
              "      <td>417.0</td>\n",
              "    </tr>\n",
              "    <tr>\n",
              "      <th>80</th>\n",
              "      <td>Tocantins</td>\n",
              "      <td>2019</td>\n",
              "      <td>718.0</td>\n",
              "      <td>1569.0</td>\n",
              "      <td>301.0</td>\n",
              "      <td>7.0</td>\n",
              "      <td>3.0</td>\n",
              "      <td>1.0</td>\n",
              "      <td>701.0</td>\n",
              "      <td>18.0</td>\n",
              "      <td>518.0</td>\n",
              "    </tr>\n",
              "  </tbody>\n",
              "</table>\n",
              "<p>81 rows × 11 columns</p>\n",
              "</div>"
            ],
            "text/plain": [
              "           UF  ...  Tentativa de homicídio\n",
              "0        Acre  ...                    61.0\n",
              "1        Acre  ...                    86.0\n",
              "2        Acre  ...                   134.0\n",
              "3     Alagoas  ...                   577.0\n",
              "4     Alagoas  ...                   440.0\n",
              "..        ...  ...                     ...\n",
              "76  São Paulo  ...                  3484.0\n",
              "77  São Paulo  ...                  3390.0\n",
              "78  Tocantins  ...                   335.0\n",
              "79  Tocantins  ...                   417.0\n",
              "80  Tocantins  ...                   518.0\n",
              "\n",
              "[81 rows x 11 columns]"
            ]
          },
          "metadata": {
            "tags": []
          },
          "execution_count": 121
        }
      ]
    },
    {
      "cell_type": "code",
      "metadata": {
        "colab": {
          "base_uri": "https://localhost:8080/"
        },
        "id": "9b_ei3Uoz-PC",
        "outputId": "87344251-ee65-4a49-9976-740f0e0f108a"
      },
      "source": [
        "base_group.info()"
      ],
      "execution_count": 122,
      "outputs": [
        {
          "output_type": "stream",
          "text": [
            "<class 'pandas.core.frame.DataFrame'>\n",
            "RangeIndex: 81 entries, 0 to 80\n",
            "Data columns (total 11 columns):\n",
            " #   Column                               Non-Null Count  Dtype  \n",
            "---  ------                               --------------  -----  \n",
            " 0   UF                                   81 non-null     object \n",
            " 1   Ano                                  81 non-null     int64  \n",
            " 2   Estupro                              81 non-null     float64\n",
            " 3   Furto de veículo                     81 non-null     float64\n",
            " 4   Homicídio doloso                     81 non-null     float64\n",
            " 5   Lesão corporal seguida de morte      81 non-null     float64\n",
            " 6   Roubo a instituição financeira       80 non-null     float64\n",
            " 7   Roubo de carga                       81 non-null     float64\n",
            " 8   Roubo de veículo                     81 non-null     float64\n",
            " 9   Roubo seguido de morte (latrocínio)  81 non-null     float64\n",
            " 10  Tentativa de homicídio               81 non-null     float64\n",
            "dtypes: float64(9), int64(1), object(1)\n",
            "memory usage: 7.1+ KB\n"
          ],
          "name": "stdout"
        }
      ]
    },
    {
      "cell_type": "markdown",
      "metadata": {
        "id": "6XqnNB8Fs8r3"
      },
      "source": [
        "## Merge dos datasets principais"
      ]
    },
    {
      "cell_type": "code",
      "metadata": {
        "colab": {
          "base_uri": "https://localhost:8080/",
          "height": 470
        },
        "id": "bRVAYYB4wPn-",
        "outputId": "59fe7948-058d-475c-aae8-1d5dbbe6201a"
      },
      "source": [
        "# Merge usando keys UF e Ano\r\n",
        "\r\n",
        "df_principal = pd.merge(base_group, taxa_abandono, on=['UF', 'Ano'])\r\n",
        "df_principal.to_csv(\"database_.csv\",index=False)\r\n",
        "df_principal"
      ],
      "execution_count": 123,
      "outputs": [
        {
          "output_type": "execute_result",
          "data": {
            "text/html": [
              "<div>\n",
              "<style scoped>\n",
              "    .dataframe tbody tr th:only-of-type {\n",
              "        vertical-align: middle;\n",
              "    }\n",
              "\n",
              "    .dataframe tbody tr th {\n",
              "        vertical-align: top;\n",
              "    }\n",
              "\n",
              "    .dataframe thead th {\n",
              "        text-align: right;\n",
              "    }\n",
              "</style>\n",
              "<table border=\"1\" class=\"dataframe\">\n",
              "  <thead>\n",
              "    <tr style=\"text-align: right;\">\n",
              "      <th></th>\n",
              "      <th>UF</th>\n",
              "      <th>Ano</th>\n",
              "      <th>Estupro</th>\n",
              "      <th>Furto de veículo</th>\n",
              "      <th>Homicídio doloso</th>\n",
              "      <th>Lesão corporal seguida de morte</th>\n",
              "      <th>Roubo a instituição financeira</th>\n",
              "      <th>Roubo de carga</th>\n",
              "      <th>Roubo de veículo</th>\n",
              "      <th>Roubo seguido de morte (latrocínio)</th>\n",
              "      <th>Tentativa de homicídio</th>\n",
              "      <th>taxa_abandono_escolar</th>\n",
              "    </tr>\n",
              "  </thead>\n",
              "  <tbody>\n",
              "    <tr>\n",
              "      <th>0</th>\n",
              "      <td>Acre</td>\n",
              "      <td>2017</td>\n",
              "      <td>108.0</td>\n",
              "      <td>539.0</td>\n",
              "      <td>221.0</td>\n",
              "      <td>0.0</td>\n",
              "      <td>5.0</td>\n",
              "      <td>3.0</td>\n",
              "      <td>849.0</td>\n",
              "      <td>10.0</td>\n",
              "      <td>61.0</td>\n",
              "      <td>2.3</td>\n",
              "    </tr>\n",
              "    <tr>\n",
              "      <th>1</th>\n",
              "      <td>Acre</td>\n",
              "      <td>2018</td>\n",
              "      <td>260.0</td>\n",
              "      <td>704.0</td>\n",
              "      <td>396.0</td>\n",
              "      <td>0.0</td>\n",
              "      <td>3.0</td>\n",
              "      <td>1.0</td>\n",
              "      <td>1080.0</td>\n",
              "      <td>20.0</td>\n",
              "      <td>86.0</td>\n",
              "      <td>2.2</td>\n",
              "    </tr>\n",
              "    <tr>\n",
              "      <th>2</th>\n",
              "      <td>Acre</td>\n",
              "      <td>2019</td>\n",
              "      <td>330.0</td>\n",
              "      <td>572.0</td>\n",
              "      <td>292.0</td>\n",
              "      <td>2.0</td>\n",
              "      <td>4.0</td>\n",
              "      <td>4.0</td>\n",
              "      <td>1246.0</td>\n",
              "      <td>14.0</td>\n",
              "      <td>134.0</td>\n",
              "      <td>2.1</td>\n",
              "    </tr>\n",
              "    <tr>\n",
              "      <th>3</th>\n",
              "      <td>Alagoas</td>\n",
              "      <td>2017</td>\n",
              "      <td>676.0</td>\n",
              "      <td>1194.0</td>\n",
              "      <td>1672.0</td>\n",
              "      <td>19.0</td>\n",
              "      <td>21.0</td>\n",
              "      <td>77.0</td>\n",
              "      <td>3133.0</td>\n",
              "      <td>59.0</td>\n",
              "      <td>577.0</td>\n",
              "      <td>3.3</td>\n",
              "    </tr>\n",
              "    <tr>\n",
              "      <th>4</th>\n",
              "      <td>Alagoas</td>\n",
              "      <td>2018</td>\n",
              "      <td>455.0</td>\n",
              "      <td>1158.0</td>\n",
              "      <td>1309.0</td>\n",
              "      <td>8.0</td>\n",
              "      <td>22.0</td>\n",
              "      <td>85.0</td>\n",
              "      <td>3481.0</td>\n",
              "      <td>39.0</td>\n",
              "      <td>440.0</td>\n",
              "      <td>2.9</td>\n",
              "    </tr>\n",
              "    <tr>\n",
              "      <th>...</th>\n",
              "      <td>...</td>\n",
              "      <td>...</td>\n",
              "      <td>...</td>\n",
              "      <td>...</td>\n",
              "      <td>...</td>\n",
              "      <td>...</td>\n",
              "      <td>...</td>\n",
              "      <td>...</td>\n",
              "      <td>...</td>\n",
              "      <td>...</td>\n",
              "      <td>...</td>\n",
              "      <td>...</td>\n",
              "    </tr>\n",
              "    <tr>\n",
              "      <th>76</th>\n",
              "      <td>São Paulo</td>\n",
              "      <td>2018</td>\n",
              "      <td>11949.0</td>\n",
              "      <td>97653.0</td>\n",
              "      <td>2949.0</td>\n",
              "      <td>80.0</td>\n",
              "      <td>54.0</td>\n",
              "      <td>8738.0</td>\n",
              "      <td>58355.0</td>\n",
              "      <td>270.0</td>\n",
              "      <td>3484.0</td>\n",
              "      <td>0.5</td>\n",
              "    </tr>\n",
              "    <tr>\n",
              "      <th>77</th>\n",
              "      <td>São Paulo</td>\n",
              "      <td>2019</td>\n",
              "      <td>11614.0</td>\n",
              "      <td>84099.0</td>\n",
              "      <td>2778.0</td>\n",
              "      <td>99.0</td>\n",
              "      <td>21.0</td>\n",
              "      <td>7325.0</td>\n",
              "      <td>46513.0</td>\n",
              "      <td>191.0</td>\n",
              "      <td>3390.0</td>\n",
              "      <td>0.4</td>\n",
              "    </tr>\n",
              "    <tr>\n",
              "      <th>78</th>\n",
              "      <td>Tocantins</td>\n",
              "      <td>2017</td>\n",
              "      <td>564.0</td>\n",
              "      <td>1539.0</td>\n",
              "      <td>337.0</td>\n",
              "      <td>7.0</td>\n",
              "      <td>23.0</td>\n",
              "      <td>8.0</td>\n",
              "      <td>815.0</td>\n",
              "      <td>11.0</td>\n",
              "      <td>335.0</td>\n",
              "      <td>1.2</td>\n",
              "    </tr>\n",
              "    <tr>\n",
              "      <th>79</th>\n",
              "      <td>Tocantins</td>\n",
              "      <td>2018</td>\n",
              "      <td>727.0</td>\n",
              "      <td>2092.0</td>\n",
              "      <td>363.0</td>\n",
              "      <td>7.0</td>\n",
              "      <td>7.0</td>\n",
              "      <td>0.0</td>\n",
              "      <td>1091.0</td>\n",
              "      <td>16.0</td>\n",
              "      <td>417.0</td>\n",
              "      <td>1.1</td>\n",
              "    </tr>\n",
              "    <tr>\n",
              "      <th>80</th>\n",
              "      <td>Tocantins</td>\n",
              "      <td>2019</td>\n",
              "      <td>718.0</td>\n",
              "      <td>1569.0</td>\n",
              "      <td>301.0</td>\n",
              "      <td>7.0</td>\n",
              "      <td>3.0</td>\n",
              "      <td>1.0</td>\n",
              "      <td>701.0</td>\n",
              "      <td>18.0</td>\n",
              "      <td>518.0</td>\n",
              "      <td>0.9</td>\n",
              "    </tr>\n",
              "  </tbody>\n",
              "</table>\n",
              "<p>81 rows × 12 columns</p>\n",
              "</div>"
            ],
            "text/plain": [
              "           UF   Ano  ...  Tentativa de homicídio  taxa_abandono_escolar\n",
              "0        Acre  2017  ...                    61.0                    2.3\n",
              "1        Acre  2018  ...                    86.0                    2.2\n",
              "2        Acre  2019  ...                   134.0                    2.1\n",
              "3     Alagoas  2017  ...                   577.0                    3.3\n",
              "4     Alagoas  2018  ...                   440.0                    2.9\n",
              "..        ...   ...  ...                     ...                    ...\n",
              "76  São Paulo  2018  ...                  3484.0                    0.5\n",
              "77  São Paulo  2019  ...                  3390.0                    0.4\n",
              "78  Tocantins  2017  ...                   335.0                    1.2\n",
              "79  Tocantins  2018  ...                   417.0                    1.1\n",
              "80  Tocantins  2019  ...                   518.0                    0.9\n",
              "\n",
              "[81 rows x 12 columns]"
            ]
          },
          "metadata": {
            "tags": []
          },
          "execution_count": 123
        }
      ]
    },
    {
      "cell_type": "markdown",
      "metadata": {
        "id": "MUTfw-KVkJRh"
      },
      "source": [
        "# Análise e pré-processamento"
      ]
    },
    {
      "cell_type": "code",
      "metadata": {
        "colab": {
          "base_uri": "https://localhost:8080/"
        },
        "id": "9AE6t4xyTskq",
        "outputId": "07fce8c0-13db-48d9-a019-7f40d7597775"
      },
      "source": [
        "#Faltando um valor em roube de instituição financeira\r\n",
        "\r\n",
        "df_principal.info()"
      ],
      "execution_count": 124,
      "outputs": [
        {
          "output_type": "stream",
          "text": [
            "<class 'pandas.core.frame.DataFrame'>\n",
            "Int64Index: 81 entries, 0 to 80\n",
            "Data columns (total 12 columns):\n",
            " #   Column                               Non-Null Count  Dtype  \n",
            "---  ------                               --------------  -----  \n",
            " 0   UF                                   81 non-null     object \n",
            " 1   Ano                                  81 non-null     int64  \n",
            " 2   Estupro                              81 non-null     float64\n",
            " 3   Furto de veículo                     81 non-null     float64\n",
            " 4   Homicídio doloso                     81 non-null     float64\n",
            " 5   Lesão corporal seguida de morte      81 non-null     float64\n",
            " 6   Roubo a instituição financeira       80 non-null     float64\n",
            " 7   Roubo de carga                       81 non-null     float64\n",
            " 8   Roubo de veículo                     81 non-null     float64\n",
            " 9   Roubo seguido de morte (latrocínio)  81 non-null     float64\n",
            " 10  Tentativa de homicídio               81 non-null     float64\n",
            " 11  taxa_abandono_escolar                81 non-null     object \n",
            "dtypes: float64(9), int64(1), object(2)\n",
            "memory usage: 8.2+ KB\n"
          ],
          "name": "stdout"
        }
      ]
    },
    {
      "cell_type": "code",
      "metadata": {
        "colab": {
          "base_uri": "https://localhost:8080/"
        },
        "id": "uwDLnWLyTzBA",
        "outputId": "b62b80ec-9844-4b27-dc75-dbc35a79d7c6"
      },
      "source": [
        "df_principal.columns"
      ],
      "execution_count": 125,
      "outputs": [
        {
          "output_type": "execute_result",
          "data": {
            "text/plain": [
              "Index(['UF', 'Ano', 'Estupro', 'Furto de veículo', 'Homicídio doloso',\n",
              "       'Lesão corporal seguida de morte', 'Roubo a instituição financeira',\n",
              "       'Roubo de carga', 'Roubo de veículo',\n",
              "       'Roubo seguido de morte (latrocínio)', 'Tentativa de homicídio',\n",
              "       'taxa_abandono_escolar'],\n",
              "      dtype='object')"
            ]
          },
          "metadata": {
            "tags": []
          },
          "execution_count": 125
        }
      ]
    },
    {
      "cell_type": "code",
      "metadata": {
        "colab": {
          "base_uri": "https://localhost:8080/",
          "height": 585
        },
        "id": "a1XD3zgGUHi2",
        "outputId": "b5cd2709-4d57-4c38-899f-3c4df4df9bff"
      },
      "source": [
        "# Dados praticamente balanceados\r\n",
        "\r\n",
        "count_ = df_principal.count()\r\n",
        "count_.plot(kind='bar',color='grey', figsize=(7,7))\r\n",
        "plt.xticks(rotation=65)\r\n",
        "plt.show()"
      ],
      "execution_count": 126,
      "outputs": [
        {
          "output_type": "display_data",
          "data": {
            "image/png": "[encoded data removed]",
            "text/plain": [
              "<Figure size 504x504 with 1 Axes>"
            ]
          },
          "metadata": {
            "tags": [],
            "needs_background": "light"
          }
        }
      ]
    },
    {
      "cell_type": "code",
      "metadata": {
        "colab": {
          "base_uri": "https://localhost:8080/"
        },
        "id": "NM6iTS0X91Qn",
        "outputId": "8d080808-1ddc-4695-f470-3d4e90b8afad"
      },
      "source": [
        "# Transformando taxa de abandonode object para em float\r\n",
        "\r\n",
        "df_principal['taxa_abandono_escolar'] = df_principal['taxa_abandono_escolar'].astype(float)\r\n",
        "df_principal['taxa_abandono_escolar']"
      ],
      "execution_count": 127,
      "outputs": [
        {
          "output_type": "execute_result",
          "data": {
            "text/plain": [
              "0     2.3\n",
              "1     2.2\n",
              "2     2.1\n",
              "3     3.3\n",
              "4     2.9\n",
              "     ... \n",
              "76    0.5\n",
              "77    0.4\n",
              "78    1.2\n",
              "79    1.1\n",
              "80    0.9\n",
              "Name: taxa_abandono_escolar, Length: 81, dtype: float64"
            ]
          },
          "metadata": {
            "tags": []
          },
          "execution_count": 127
        }
      ]
    },
    {
      "cell_type": "code",
      "metadata": {
        "colab": {
          "base_uri": "https://localhost:8080/",
          "height": 314
        },
        "id": "4W4CA8w5U3K9",
        "outputId": "4ae5f216-788e-4057-9bcf-017116c8eb02"
      },
      "source": [
        "# Desvio padrão em ordem de tamanho: furto de veículo, roubo de veículo, estupro, roubo de carga\r\n",
        "\r\n",
        "df_principal.describe()"
      ],
      "execution_count": 128,
      "outputs": [
        {
          "output_type": "execute_result",
          "data": {
            "text/html": [
              "<div>\n",
              "<style scoped>\n",
              "    .dataframe tbody tr th:only-of-type {\n",
              "        vertical-align: middle;\n",
              "    }\n",
              "\n",
              "    .dataframe tbody tr th {\n",
              "        vertical-align: top;\n",
              "    }\n",
              "\n",
              "    .dataframe thead th {\n",
              "        text-align: right;\n",
              "    }\n",
              "</style>\n",
              "<table border=\"1\" class=\"dataframe\">\n",
              "  <thead>\n",
              "    <tr style=\"text-align: right;\">\n",
              "      <th></th>\n",
              "      <th>Ano</th>\n",
              "      <th>Estupro</th>\n",
              "      <th>Furto de veículo</th>\n",
              "      <th>Homicídio doloso</th>\n",
              "      <th>Lesão corporal seguida de morte</th>\n",
              "      <th>Roubo a instituição financeira</th>\n",
              "      <th>Roubo de carga</th>\n",
              "      <th>Roubo de veículo</th>\n",
              "      <th>Roubo seguido de morte (latrocínio)</th>\n",
              "      <th>Tentativa de homicídio</th>\n",
              "      <th>taxa_abandono_escolar</th>\n",
              "    </tr>\n",
              "  </thead>\n",
              "  <tbody>\n",
              "    <tr>\n",
              "      <th>count</th>\n",
              "      <td>81.000000</td>\n",
              "      <td>81.000000</td>\n",
              "      <td>81.000000</td>\n",
              "      <td>81.000000</td>\n",
              "      <td>81.000000</td>\n",
              "      <td>80.000000</td>\n",
              "      <td>81.000000</td>\n",
              "      <td>81.000000</td>\n",
              "      <td>81.000000</td>\n",
              "      <td>81.000000</td>\n",
              "      <td>81.000000</td>\n",
              "    </tr>\n",
              "    <tr>\n",
              "      <th>mean</th>\n",
              "      <td>2018.000000</td>\n",
              "      <td>1814.000000</td>\n",
              "      <td>8908.839506</td>\n",
              "      <td>1691.086420</td>\n",
              "      <td>33.913580</td>\n",
              "      <td>25.600000</td>\n",
              "      <td>802.012346</td>\n",
              "      <td>8714.345679</td>\n",
              "      <td>70.703704</td>\n",
              "      <td>1365.358025</td>\n",
              "      <td>1.625926</td>\n",
              "    </tr>\n",
              "    <tr>\n",
              "      <th>std</th>\n",
              "      <td>0.821584</td>\n",
              "      <td>2369.486395</td>\n",
              "      <td>18112.940583</td>\n",
              "      <td>1452.864474</td>\n",
              "      <td>48.266758</td>\n",
              "      <td>24.857874</td>\n",
              "      <td>2364.603246</td>\n",
              "      <td>13654.746638</td>\n",
              "      <td>64.929470</td>\n",
              "      <td>1228.119216</td>\n",
              "      <td>0.949049</td>\n",
              "    </tr>\n",
              "    <tr>\n",
              "      <th>min</th>\n",
              "      <td>2017.000000</td>\n",
              "      <td>89.000000</td>\n",
              "      <td>216.000000</td>\n",
              "      <td>159.000000</td>\n",
              "      <td>0.000000</td>\n",
              "      <td>0.000000</td>\n",
              "      <td>0.000000</td>\n",
              "      <td>228.000000</td>\n",
              "      <td>7.000000</td>\n",
              "      <td>61.000000</td>\n",
              "      <td>0.400000</td>\n",
              "    </tr>\n",
              "    <tr>\n",
              "      <th>25%</th>\n",
              "      <td>2017.000000</td>\n",
              "      <td>568.000000</td>\n",
              "      <td>1539.000000</td>\n",
              "      <td>528.000000</td>\n",
              "      <td>7.000000</td>\n",
              "      <td>6.750000</td>\n",
              "      <td>8.000000</td>\n",
              "      <td>1836.000000</td>\n",
              "      <td>26.000000</td>\n",
              "      <td>430.000000</td>\n",
              "      <td>0.800000</td>\n",
              "    </tr>\n",
              "    <tr>\n",
              "      <th>50%</th>\n",
              "      <td>2018.000000</td>\n",
              "      <td>1024.000000</td>\n",
              "      <td>3588.000000</td>\n",
              "      <td>1121.000000</td>\n",
              "      <td>21.000000</td>\n",
              "      <td>20.000000</td>\n",
              "      <td>39.000000</td>\n",
              "      <td>3957.000000</td>\n",
              "      <td>47.000000</td>\n",
              "      <td>842.000000</td>\n",
              "      <td>1.300000</td>\n",
              "    </tr>\n",
              "    <tr>\n",
              "      <th>75%</th>\n",
              "      <td>2019.000000</td>\n",
              "      <td>1783.000000</td>\n",
              "      <td>8277.000000</td>\n",
              "      <td>2380.000000</td>\n",
              "      <td>40.000000</td>\n",
              "      <td>38.250000</td>\n",
              "      <td>310.000000</td>\n",
              "      <td>9522.000000</td>\n",
              "      <td>87.000000</td>\n",
              "      <td>2162.000000</td>\n",
              "      <td>2.300000</td>\n",
              "    </tr>\n",
              "    <tr>\n",
              "      <th>max</th>\n",
              "      <td>2019.000000</td>\n",
              "      <td>11949.000000</td>\n",
              "      <td>104829.000000</td>\n",
              "      <td>5843.000000</td>\n",
              "      <td>301.000000</td>\n",
              "      <td>97.000000</td>\n",
              "      <td>10599.000000</td>\n",
              "      <td>67964.000000</td>\n",
              "      <td>334.000000</td>\n",
              "      <td>4375.000000</td>\n",
              "      <td>3.800000</td>\n",
              "    </tr>\n",
              "  </tbody>\n",
              "</table>\n",
              "</div>"
            ],
            "text/plain": [
              "               Ano       Estupro  ...  Tentativa de homicídio  taxa_abandono_escolar\n",
              "count    81.000000     81.000000  ...               81.000000              81.000000\n",
              "mean   2018.000000   1814.000000  ...             1365.358025               1.625926\n",
              "std       0.821584   2369.486395  ...             1228.119216               0.949049\n",
              "min    2017.000000     89.000000  ...               61.000000               0.400000\n",
              "25%    2017.000000    568.000000  ...              430.000000               0.800000\n",
              "50%    2018.000000   1024.000000  ...              842.000000               1.300000\n",
              "75%    2019.000000   1783.000000  ...             2162.000000               2.300000\n",
              "max    2019.000000  11949.000000  ...             4375.000000               3.800000\n",
              "\n",
              "[8 rows x 11 columns]"
            ]
          },
          "metadata": {
            "tags": []
          },
          "execution_count": 128
        }
      ]
    },
    {
      "cell_type": "code",
      "metadata": {
        "colab": {
          "base_uri": "https://localhost:8080/",
          "height": 608
        },
        "id": "WpC8OoaQVZSO",
        "outputId": "9697f973-9f8b-40a4-9be3-08b035ddbe96"
      },
      "source": [
        "# Principais colunas com outliers: Extremos(Furto de veículo, roubo de veículo), estupro e roubo de carga\r\n",
        "\r\n",
        "fig = plt.figure(figsize=(30,12))\r\n",
        "sns.boxplot(data=df_principal)\r\n",
        "plt.show()"
      ],
      "execution_count": 129,
      "outputs": [
        {
          "output_type": "display_data",
          "data": {
            "image/png": "[encoded data removed]",
            "text/plain": [
              "<Figure size 2160x864 with 1 Axes>"
            ]
          },
          "metadata": {
            "tags": [],
            "needs_background": "light"
          }
        }
      ]
    },
    {
      "cell_type": "code",
      "metadata": {
        "colab": {
          "base_uri": "https://localhost:8080/",
          "height": 607
        },
        "id": "WPQqWOJ4Vr72",
        "outputId": "c120481b-7a1c-4aaf-e5ab-342d6a2e5fee"
      },
      "source": [
        "# Grande obliquidade nos dados\r\n",
        "\r\n",
        "df_principal.hist(figsize=(20,10))\r\n",
        "plt.show()"
      ],
      "execution_count": 130,
      "outputs": [
        {
          "output_type": "display_data",
          "data": {
            "image/png": "[encoded data removed]",
            "text/plain": [
              "<Figure size 1440x720 with 12 Axes>"
            ]
          },
          "metadata": {
            "tags": [],
            "needs_background": "light"
          }
        }
      ]
    },
    {
      "cell_type": "code",
      "metadata": {
        "id": "flpv7QrGT9xr"
      },
      "source": [
        "# Substituindo o valor de Roubo a instituição financeira pela média da coluna \r\n",
        "\r\n",
        "df_principal['Roubo a instituição financeira'] = df_principal['Roubo a instituição financeira'].fillna(df_principal['Roubo a instituição financeira'].mean())"
      ],
      "execution_count": 131,
      "outputs": []
    },
    {
      "cell_type": "code",
      "metadata": {
        "colab": {
          "base_uri": "https://localhost:8080/"
        },
        "id": "CmBJ4VMQ8eTL",
        "outputId": "9377960b-5e6a-42e6-98b8-8ef3519402b1"
      },
      "source": [
        "df_principal.info()"
      ],
      "execution_count": 132,
      "outputs": [
        {
          "output_type": "stream",
          "text": [
            "<class 'pandas.core.frame.DataFrame'>\n",
            "Int64Index: 81 entries, 0 to 80\n",
            "Data columns (total 12 columns):\n",
            " #   Column                               Non-Null Count  Dtype  \n",
            "---  ------                               --------------  -----  \n",
            " 0   UF                                   81 non-null     object \n",
            " 1   Ano                                  81 non-null     int64  \n",
            " 2   Estupro                              81 non-null     float64\n",
            " 3   Furto de veículo                     81 non-null     float64\n",
            " 4   Homicídio doloso                     81 non-null     float64\n",
            " 5   Lesão corporal seguida de morte      81 non-null     float64\n",
            " 6   Roubo a instituição financeira       81 non-null     float64\n",
            " 7   Roubo de carga                       81 non-null     float64\n",
            " 8   Roubo de veículo                     81 non-null     float64\n",
            " 9   Roubo seguido de morte (latrocínio)  81 non-null     float64\n",
            " 10  Tentativa de homicídio               81 non-null     float64\n",
            " 11  taxa_abandono_escolar                81 non-null     float64\n",
            "dtypes: float64(10), int64(1), object(1)\n",
            "memory usage: 8.2+ KB\n"
          ],
          "name": "stdout"
        }
      ]
    },
    {
      "cell_type": "code",
      "metadata": {
        "colab": {
          "base_uri": "https://localhost:8080/"
        },
        "id": "MbXN9qQs_rCb",
        "outputId": "bed6952e-bb9d-4e60-fb02-60821e85fef1"
      },
      "source": [
        "# Verificar duplicidade instâncias usando a base original.\r\n",
        "\r\n",
        "dataframe_temp = df_principal\r\n",
        "duplicated_rows = dataframe_temp[dataframe_temp.duplicated(keep='last')]\r\n",
        "duplicated_rows.shape"
      ],
      "execution_count": 133,
      "outputs": [
        {
          "output_type": "execute_result",
          "data": {
            "text/plain": [
              "(0, 12)"
            ]
          },
          "metadata": {
            "tags": []
          },
          "execution_count": 133
        }
      ]
    },
    {
      "cell_type": "code",
      "metadata": {
        "colab": {
          "base_uri": "https://localhost:8080/",
          "height": 493
        },
        "id": "f_lmyBIM_-91",
        "outputId": "05ccba90-eb1a-43ee-9c4b-6c929d733e4b"
      },
      "source": [
        "# Aparentemente a taxa de abandono escolar tem correlação inversa com a maioria dos atributos\r\n",
        "# algo errado com certeza!\r\n",
        "df_principal_corr = df_principal[['Estupro','Furto de veículo','Homicídio doloso',\r\n",
        "                                'Lesão corporal seguida de morte',\r\n",
        "                                'Roubo a instituição financeira',\r\n",
        "                                'Roubo de carga','Roubo de veículo',\r\n",
        "                                'Roubo seguido de morte (latrocínio)',\r\n",
        "                                'Tentativa de homicídio',\r\n",
        "                                'taxa_abandono_escolar']].corr()\r\n",
        "\r\n",
        "# df_principal_corr = df_principal.corr()\r\n",
        "\r\n",
        "fig = plt.figure(figsize=(10,5))\r\n",
        "sns.heatmap(df_principal_corr, xticklabels=df_principal_corr.columns, yticklabels=df_principal_corr.columns, annot=True)\r\n",
        "plt.show()"
      ],
      "execution_count": 134,
      "outputs": [
        {
          "output_type": "display_data",
          "data": {
            "image/png": "[encoded data removed]",
            "text/plain": [
              "<Figure size 720x360 with 2 Axes>"
            ]
          },
          "metadata": {
            "tags": [],
            "needs_background": "light"
          }
        }
      ]
    },
    {
      "cell_type": "code",
      "metadata": {
        "colab": {
          "base_uri": "https://localhost:8080/"
        },
        "id": "Wmud0FIo_qtH",
        "outputId": "ac7b19d8-5486-49fb-8bb8-05ebc76c8b82"
      },
      "source": [
        "min_max_scaler = preprocessing.MinMaxScaler()\r\n",
        "scaled_array = min_max_scaler.fit_transform(df_principal[['Estupro','Furto de veículo','Homicídio doloso',\r\n",
        "                                'Lesão corporal seguida de morte',\r\n",
        "                                'Roubo a instituição financeira',\r\n",
        "                                'Roubo de carga','Roubo de veículo',\r\n",
        "                                'Roubo seguido de morte (latrocínio)',\r\n",
        "                                'Tentativa de homicídio',\r\n",
        "                                'taxa_abandono_escolar']])\r\n",
        "scaled_array"
      ],
      "execution_count": 135,
      "outputs": [
        {
          "output_type": "execute_result",
          "data": {
            "text/plain": [
              "array([[1.60202361e-03, 3.08757038e-03, 1.09078114e-02, 0.00000000e+00,\n",
              "        5.15463918e-02, 2.83045570e-04, 9.16794614e-03, 9.17431193e-03,\n",
              "        0.00000000e+00, 5.58823529e-01],\n",
              "       [1.44182125e-02, 4.66481221e-03, 4.16959887e-02, 0.00000000e+00,\n",
              "        3.09278351e-02, 9.43485234e-05, 1.25782450e-02, 3.97553517e-02,\n",
              "        5.79508577e-03, 5.29411765e-01],\n",
              "       [2.03204047e-02, 3.40301875e-03, 2.33990148e-02, 6.64451827e-03,\n",
              "        4.12371134e-02, 3.77394094e-04, 1.50289359e-02, 2.14067278e-02,\n",
              "        1.69216504e-02, 5.00000000e-01],\n",
              "       [4.94940978e-02, 9.34874251e-03, 2.66185785e-01, 6.31229236e-02,\n",
              "        2.16494845e-01, 7.26483631e-03, 4.28870911e-02, 1.59021407e-01,\n",
              "        1.19610570e-01, 8.52941176e-01],\n",
              "       [3.08600337e-02, 9.00461702e-03, 2.02322308e-01, 2.65780731e-02,\n",
              "        2.26804124e-01, 8.01962449e-03, 4.80246841e-02, 9.78593272e-02,\n",
              "        8.78535002e-02, 7.35294118e-01],\n",
              "       [4.59527825e-02, 1.10884880e-02, 1.52885292e-01, 1.99335548e-02,\n",
              "        4.12371134e-02, 3.67959241e-03, 3.22575883e-02, 3.05810398e-02,\n",
              "        8.55354659e-02, 3.23529412e-01],\n",
              "       [2.77403035e-02, 4.82731592e-03, 1.86488388e-02, 7.30897010e-02,\n",
              "        8.24742268e-02, 9.43485234e-05, 5.75764734e-04, 4.89296636e-02,\n",
              "        4.86787204e-02, 5.88235294e-01],\n",
              "       [1.65261383e-02, 4.83687496e-03, 2.23434201e-02, 1.09634551e-01,\n",
              "        1.44329897e-01, 1.13218228e-03, 4.56182827e-03, 7.95107034e-02,\n",
              "        9.73574409e-03, 5.88235294e-01],\n",
              "       [3.22091062e-02, 2.96330284e-03, 1.28430683e-02, 7.64119601e-02,\n",
              "        8.24742268e-02, 1.41522785e-03, 3.23314043e-03, 2.44648318e-02,\n",
              "        3.50023180e-02, 4.70588235e-01],\n",
              "       [6.99831366e-02, 3.10190894e-02, 1.52357495e-01, 1.22923588e-01,\n",
              "        1.95876289e-01, 3.77394094e-04, 6.33784103e-02, 1.77370031e-01,\n",
              "        4.17246175e-02, 7.94117647e-01],\n",
              "       [7.58010118e-02, 1.94622083e-02, 1.56931738e-01, 9.30232558e-02,\n",
              "        7.83505155e-01, 6.60439664e-04, 4.21046415e-02, 1.43730887e-01,\n",
              "        4.31154381e-02, 7.05882353e-01],\n",
              "       [6.36593592e-02, 1.67665586e-02, 1.45144265e-01, 7.64119601e-02,\n",
              "        5.77319588e-01, 8.49136711e-04, 3.27447738e-02, 1.19266055e-01,\n",
              "        4.47380621e-02, 5.88235294e-01],\n",
              "       [2.60961214e-01, 5.06915966e-02, 1.00000000e+00, 2.25913621e-01,\n",
              "        2.88659794e-01, 3.93433343e-02, 1.96306248e-01, 5.04587156e-01,\n",
              "        6.32591562e-01, 9.70588235e-01],\n",
              "       [2.58768971e-01, 4.89040559e-02, 8.86699507e-01, 2.39202658e-01,\n",
              "        1.03092784e-01, 2.86819511e-02, 1.93693162e-01, 3.91437309e-01,\n",
              "        5.86230876e-01, 8.52941176e-01],\n",
              "       [2.64333895e-01, 4.79481518e-02, 8.07881773e-01, 2.45847176e-01,\n",
              "        4.12371134e-02, 2.53797528e-02, 1.65908822e-01, 4.03669725e-01,\n",
              "        6.04079740e-01, 6.47058824e-01],\n",
              "       [1.26391231e-01, 4.57017770e-02, 8.07002111e-01, 1.32890365e-01,\n",
              "        5.77319588e-01, 2.92480423e-02, 1.60992677e-01, 2.44648318e-01,\n",
              "        2.89754288e-01, 2.05882353e-01],\n",
              "       [1.30944351e-01, 3.79302764e-02, 7.07952146e-01, 1.06312292e-01,\n",
              "        4.22680412e-01, 2.30210397e-02, 1.34212236e-01, 1.22324159e-01,\n",
              "        2.78627724e-01, 1.47058824e-01],\n",
              "       [1.45109612e-01, 4.19259557e-02, 3.39197748e-01, 9.96677741e-02,\n",
              "        1.44329897e-01, 8.49136711e-03, 7.23396717e-02, 8.86850153e-02,\n",
              "        2.57997218e-01, 8.82352941e-02],\n",
              "       [5.24451939e-02, 5.25842868e-02, 5.70021112e-02, 1.66112957e-02,\n",
              "        4.12371134e-02, 7.07613926e-03, 6.85602929e-02, 8.56269113e-02,\n",
              "        1.95873899e-01, 2.35294118e-01],\n",
              "       [4.80607083e-02, 4.46598415e-02, 4.55665025e-02, 2.32558140e-02,\n",
              "        3.09278351e-02, 5.18916879e-03, 5.51257824e-02, 6.42201835e-02,\n",
              "        1.81038479e-01, 8.82352941e-02],\n",
              "       [4.86509275e-02, 4.69253343e-02, 3.74736101e-02, 1.32890365e-02,\n",
              "        0.00000000e+00, 3.20784980e-03, 4.72274714e-02, 5.19877676e-02,\n",
              "        1.70607325e-01, 1.17647059e-01],\n",
              "       [2.66441821e-02, 4.29870093e-02, 2.19563688e-01, 3.32225914e-02,\n",
              "        1.13402062e-01, 2.64175866e-03, 8.60399197e-02, 1.16207951e-01,\n",
              "        6.10106630e-01, 1.17647059e-01],\n",
              "       [3.30522766e-02, 4.04538633e-02, 1.66959887e-01, 3.32225914e-02,\n",
              "        2.37113402e-01, 1.22653080e-03, 6.20792488e-02, 8.25688073e-02,\n",
              "        4.87019008e-01, 8.82352941e-02],\n",
              "       [3.38954469e-02, 5.14658790e-02, 1.36875440e-01, 3.65448505e-02,\n",
              "        4.12371134e-01, 1.88697047e-03, 5.50519665e-02, 5.81039755e-02,\n",
              "        4.35790450e-01, 2.94117647e-02],\n",
              "       [4.53625632e-02, 1.01402311e-01, 3.67346939e-01, 1.42857143e-01,\n",
              "        4.63917526e-01, 4.47212001e-02, 1.86282036e-01, 2.78287462e-01,\n",
              "        5.47519703e-01, 1.17647059e-01],\n",
              "       [4.83136594e-02, 1.05636967e-01, 3.25826882e-01, 2.12624585e-01,\n",
              "        3.09278351e-01, 3.77394094e-02, 1.46672375e-01, 2.35474006e-01,\n",
              "        4.42049142e-01, 1.17647059e-01],\n",
              "       [5.24451939e-02, 7.70554329e-02, 2.49120338e-01, 1.79401993e-01,\n",
              "        2.16494845e-01, 1.42466270e-02, 6.73792370e-02, 1.92660550e-01,\n",
              "        4.34631433e-01, 5.88235294e-02],\n",
              "       [9.35919056e-02, 2.78550467e-02, 2.92223786e-01, 1.06312292e-01,\n",
              "        7.62886598e-01, 5.37786584e-03, 6.27288296e-02, 2.75229358e-01,\n",
              "        2.34585072e-01, 6.17647059e-01],\n",
              "       [9.27487352e-02, 2.64211905e-02, 2.56509500e-01, 4.65116279e-02,\n",
              "        3.91752577e-01, 3.49089537e-03, 5.70597614e-02, 1.95718654e-01,\n",
              "        2.30644414e-01, 5.58823529e-01],\n",
              "       [1.16441821e-01, 2.22056532e-02, 2.17804363e-01, 4.31893688e-02,\n",
              "        4.02061856e-01, 3.96263798e-03, 4.46439117e-02, 2.07951070e-01,\n",
              "        1.98655540e-01, 4.11764706e-01],\n",
              "       [1.36256324e-01, 2.48630667e-02, 1.45320197e-01, 5.98006645e-02,\n",
              "        7.21649485e-02, 1.88697047e-03, 3.47968584e-02, 1.31498471e-01,\n",
              "        2.90913306e-01, 8.82352941e-02],\n",
              "       [1.33811130e-01, 2.12401900e-02, 1.33180859e-01, 8.63787375e-02,\n",
              "        9.27835052e-02, 1.69827342e-03, 2.46102516e-02, 8.86850153e-02,\n",
              "        2.70746407e-01, 5.88235294e-02],\n",
              "       [1.37268128e-01, 2.05614981e-02, 1.07494722e-01, 7.64119601e-02,\n",
              "        2.06185567e-02, 3.58524389e-03, 2.37392229e-02, 1.03975535e-01,\n",
              "        2.63560501e-01, 5.88235294e-02],\n",
              "       [1.44940978e-01, 3.26728036e-02, 6.49190711e-02, 3.65448505e-02,\n",
              "        1.13402062e-01, 0.00000000e+00, 9.84705327e-03, 4.89296636e-02,\n",
              "        1.78256838e-01, 2.94117647e-01],\n",
              "       [1.45615514e-01, 3.33037003e-02, 5.20760028e-02, 2.32558140e-02,\n",
              "        1.23711340e-01, 0.00000000e+00, 8.17881186e-03, 5.50458716e-02,\n",
              "        1.46267965e-01, 2.64705882e-01],\n",
              "       [1.30269815e-01, 3.10477665e-02, 4.43349754e-02, 2.32558140e-02,\n",
              "        7.21649485e-02, 9.43485234e-05, 4.47324908e-03, 2.14067278e-02,\n",
              "        1.49513213e-01, 2.05882353e-01],\n",
              "       [1.25548061e-01, 2.42694503e-01, 6.43560873e-01, 2.19269103e-01,\n",
              "        8.55670103e-01, 6.17982829e-02, 1.89175623e-01, 2.78287462e-01,\n",
              "        1.00000000e+00, 2.35294118e-01],\n",
              "       [1.16273187e-01, 2.02508292e-01, 4.90675581e-01, 1.92691030e-01,\n",
              "        9.38144330e-01, 4.95329748e-02, 1.37209165e-01, 2.26299694e-01,\n",
              "        8.02503477e-01, 2.05882353e-01],\n",
              "       [9.62057336e-02, 1.93484557e-01, 3.90745954e-01, 1.86046512e-01,\n",
              "        2.98969072e-01, 3.35880743e-02, 8.67190268e-02, 2.04892966e-01,\n",
              "        6.47658785e-01, 5.88235294e-02],\n",
              "       [4.47892074e-01, 1.82864462e-01, 3.39725545e-01, 1.96013289e-01,\n",
              "        2.63917526e-01, 8.92537032e-02, 1.64432503e-01, 1.71253823e-01,\n",
              "        1.59017153e-01, 1.47058824e-01],\n",
              "       [5.29005059e-01, 1.66365557e-01, 2.27832512e-01, 1.56146179e-01,\n",
              "        2.47422680e-01, 6.55722238e-02, 1.12820361e-01, 1.40672783e-01,\n",
              "        9.75892443e-02, 1.17647059e-01],\n",
              "       [5.21079258e-01, 1.50564461e-01, 2.71991555e-01, 1.69435216e-01,\n",
              "        2.78350515e-01, 5.90621757e-02, 8.20981457e-02, 1.59021407e-01,\n",
              "        8.64626796e-02, 2.94117647e-02],\n",
              "       [2.22596965e-02, 0.00000000e+00, 1.83673469e-01, 1.99335548e-02,\n",
              "        2.37113402e-01, 1.88697047e-04, 0.00000000e+00, 9.17431193e-02,\n",
              "        4.77515067e-02, 1.00000000e+00],\n",
              "       [1.31534570e-02, 1.29047059e-02, 1.78395496e-01, 1.66112957e-02,\n",
              "        6.90721649e-01, 4.52872913e-03, 5.32360931e-02, 7.95107034e-02,\n",
              "        2.78164117e-02, 7.64705882e-01],\n",
              "       [1.13827993e-02, 6.36632159e-03, 1.34764251e-01, 0.00000000e+00,\n",
              "        2.26804124e-01, 1.22653080e-03, 2.56141490e-02, 3.36391437e-02,\n",
              "        4.82151136e-02, 5.58823529e-01],\n",
              "       [2.57335582e-01, 4.66290040e-02, 6.25791696e-01, 1.32890365e-01,\n",
              "        3.29896907e-01, 1.21709595e-02, 1.23139837e-01, 6.66666667e-01,\n",
              "        3.00649050e-01, 9.70588235e-01],\n",
              "       [2.82630691e-01, 3.81023391e-02, 5.97642505e-01, 5.31561462e-02,\n",
              "        2.98969072e-01, 1.05670346e-02, 9.39382308e-02, 5.53516820e-01,\n",
              "        3.72739917e-01, 9.41176471e-01],\n",
              "       [2.80438449e-01, 3.22330877e-02, 4.19071077e-01, 1.06312292e-01,\n",
              "        2.57731959e-01, 1.69827342e-02, 5.41514114e-02, 3.51681957e-01,\n",
              "        3.39360223e-01, 7.35294118e-01],\n",
              "       [1.31703204e-01, 6.11396289e-02, 8.35855032e-01, 1.22923588e-01,\n",
              "        6.08247423e-01, 6.34965563e-02, 2.83069564e-01, 6.72782875e-01,\n",
              "        8.25915624e-01, 4.11764706e-01],\n",
              "       [1.55649241e-01, 4.94298032e-02, 6.43384940e-01, 5.31561462e-02,\n",
              "        2.68041237e-01, 5.34012643e-02, 2.22909531e-01, 3.36391437e-01,\n",
              "        7.63328697e-01, 2.64705882e-01],\n",
              "       [1.67706577e-01, 5.65990842e-02, 5.32899367e-01, 5.98006645e-02,\n",
              "        9.27835052e-02, 5.22690820e-02, 1.90430495e-01, 3.82262997e-01,\n",
              "        8.20815948e-01, 1.47058824e-01],\n",
              "       [5.76728499e-02, 2.24350702e-02, 7.72343420e-02, 3.32225914e-02,\n",
              "        5.15463918e-02, 3.11350127e-03, 4.24146687e-02, 1.10091743e-01,\n",
              "        1.33055169e-01, 5.00000000e-01],\n",
              "       [4.94097808e-02, 2.85624158e-02, 7.09007741e-02, 2.65780731e-02,\n",
              "        7.21649485e-02, 2.73610718e-03, 5.39152002e-02, 1.19266055e-01,\n",
              "        1.16597126e-01, 4.11764706e-01],\n",
              "       [4.94097808e-02, 2.60675060e-02, 6.84377199e-02, 4.98338870e-02,\n",
              "        4.12371134e-02, 1.79262195e-03, 6.02633755e-02, 8.25688073e-02,\n",
              "        1.15206305e-01, 2.64705882e-01],\n",
              "       [0.00000000e+00, 1.06392131e-02, 2.99612949e-01, 1.00000000e+00,\n",
              "        1.64948454e-01, 1.88697047e-03, 9.98582733e-02, 2.32415902e-01,\n",
              "        3.24524803e-03, 7.64705882e-01],\n",
              "       [1.68634064e-03, 7.90532725e-03, 2.21850809e-01, 8.23920266e-01,\n",
              "        1.54639175e-01, 1.60392490e-03, 9.97106413e-02, 3.08868502e-01,\n",
              "        3.24524803e-03, 6.47058824e-01],\n",
              "       [1.23102867e-02, 4.57878084e-03, 1.52709360e-01, 6.37873754e-01,\n",
              "        6.18556701e-02, 1.69827342e-03, 6.32603047e-02, 1.80428135e-01,\n",
              "        9.73574409e-03, 4.70588235e-01],\n",
              "       [1.42833052e-01, 1.57313145e-01, 4.36840253e-01, 1.12956811e-01,\n",
              "        5.46391753e-01, 3.80224549e-02, 2.58769340e-01, 3.45565749e-01,\n",
              "        8.42373667e-01, 1.76470588e-01],\n",
              "       [1.31956155e-01, 1.29419862e-01, 3.23539761e-01, 9.96677741e-02,\n",
              "        4.84536082e-01, 3.62298330e-02, 2.31782213e-01, 2.26299694e-01,\n",
              "        6.64116829e-01, 1.47058824e-01],\n",
              "       [9.56155143e-02, 1.08313498e-01, 2.52287122e-01, 6.97674419e-02,\n",
              "        3.40206186e-01, 2.71723748e-02, 1.58291012e-01, 1.74311927e-01,\n",
              "        5.92489569e-01, 1.47058824e-01],\n",
              "       [3.62225970e-01, 1.48088670e-01, 8.38142153e-01, 1.29568106e-01,\n",
              "        8.45360825e-01, 1.00000000e+00, 7.99250030e-01, 6.42201835e-01,\n",
              "        8.49791377e-01, 2.64705882e-01],\n",
              "       [3.93170320e-01, 1.48910747e-01, 7.73047150e-01, 1.86046512e-01,\n",
              "        8.14432990e-01, 8.66308142e-01, 7.65752333e-01, 4.83180428e-01,\n",
              "        8.93138618e-01, 2.64705882e-01],\n",
              "       [4.07419899e-01, 1.46998939e-01, 6.16291344e-01, 1.49501661e-01,\n",
              "        5.87628866e-01, 7.03368242e-01, 5.83471123e-01, 3.11926606e-01,\n",
              "        7.75614279e-01, 1.76470588e-01],\n",
              "       [7.18381113e-02, 2.23968340e-02, 5.27797326e-02, 1.99335548e-02,\n",
              "        0.00000000e+00, 0.00000000e+00, 2.13032951e-02, 4.28134557e-02,\n",
              "        1.61566991e-01, 2.64705882e-01],\n",
              "       [7.88364250e-02, 2.19571181e-02, 4.38071780e-02, 0.00000000e+00,\n",
              "        0.00000000e+00, 0.00000000e+00, 2.20857447e-02, 2.75229358e-02,\n",
              "        1.56235512e-01, 2.94117647e-01],\n",
              "       [8.45699831e-02, 1.88599887e-02, 3.85292048e-02, 2.32558140e-02,\n",
              "        1.03092784e-02, 1.88697047e-04, 2.34439589e-02, 2.75229358e-02,\n",
              "        1.45804358e-01, 2.05882353e-01],\n",
              "       [1.88870152e-02, 5.48688977e-03, 0.00000000e+00, 2.32558140e-02,\n",
              "        1.03092784e-02, 9.43485234e-05, 1.91921578e-03, 0.00000000e+00,\n",
              "        1.97032916e-02, 4.41176471e-01],\n",
              "       [1.14671164e-02, 4.01479740e-03, 3.00844476e-02, 2.32558140e-02,\n",
              "        6.18556701e-02, 0.00000000e+00, 4.44372269e-03, 1.83486239e-02,\n",
              "        2.03987019e-02, 4.70588235e-01],\n",
              "       [1.44182125e-02, 3.83317561e-03, 6.15763547e-03, 3.98671096e-02,\n",
              "        0.00000000e+00, 9.43485234e-05, 1.28439825e-03, 3.36391437e-02,\n",
              "        1.66898470e-02, 4.41176471e-01],\n",
              "       [9.21585160e-02, 1.12519477e-01, 1.37755102e-01, 8.63787375e-02,\n",
              "        5.87628866e-01, 1.97188414e-02, 4.09235857e-02, 1.71253823e-01,\n",
              "        3.38896616e-01, 0.00000000e+00],\n",
              "       [1.00000000e-01, 8.52379723e-02, 1.03272343e-01, 6.97674419e-02,\n",
              "        2.57731959e-01, 1.42466270e-02, 2.93935278e-02, 9.78593272e-02,\n",
              "        2.98331015e-01, 2.94117647e-02],\n",
              "       [1.17790894e-01, 8.26665902e-02, 8.77902885e-02, 4.98338870e-02,\n",
              "        1.95876289e-01, 3.67959241e-03, 2.19824023e-02, 5.81039755e-02,\n",
              "        3.12007418e-01, 0.00000000e+00],\n",
              "       [4.03878583e-02, 6.40455775e-03, 1.69247009e-01, 1.66112957e-02,\n",
              "        8.24742268e-02, 1.41522785e-03, 3.81923940e-02, 1.59021407e-01,\n",
              "        1.04775151e-01, 7.94117647e-01],\n",
              "       [4.20741990e-02, 5.35306319e-03, 1.38458832e-01, 1.99335548e-02,\n",
              "        0.00000000e+00, 9.43485234e-05, 3.55940711e-02, 7.64525994e-02,\n",
              "        1.13815484e-01, 6.17647059e-01],\n",
              "       [4.57841484e-02, 7.18839915e-03, 1.08902182e-01, 1.32890365e-02,\n",
              "        7.21649485e-02, 6.60439664e-04, 2.75481280e-02, 6.11620795e-02,\n",
              "        1.21464998e-01, 4.70588235e-01],\n",
              "       [9.27487352e-01, 1.00000000e+00, 5.51548205e-01, 1.62790698e-01,\n",
              "        1.00000000e+00, 9.98584772e-01, 1.00000000e+00, 1.00000000e+00,\n",
              "        8.69726472e-01, 5.88235294e-02],\n",
              "       [1.00000000e+00, 9.31404319e-01, 4.90851513e-01, 2.65780731e-01,\n",
              "        5.56701031e-01, 8.24417398e-01, 8.58140428e-01, 8.04281346e-01,\n",
              "        7.93463143e-01, 2.94117647e-02],\n",
              "       [9.71753794e-01, 8.01841071e-01, 4.60767065e-01, 3.28903654e-01,\n",
              "        2.16494845e-01, 6.91102934e-01, 6.83314633e-01, 5.62691131e-01,\n",
              "        7.71673621e-01, 0.00000000e+00],\n",
              "       [4.00505902e-02, 1.26466118e-02, 3.13159747e-02, 2.32558140e-02,\n",
              "        2.37113402e-01, 7.54788188e-04, 8.66599740e-03, 1.22324159e-02,\n",
              "        6.35141400e-02, 2.35294118e-01],\n",
              "       [5.37942664e-02, 1.79327617e-02, 3.58902182e-02, 2.32558140e-02,\n",
              "        7.21649485e-02, 0.00000000e+00, 1.27406401e-02, 2.75229358e-02,\n",
              "        8.25220213e-02, 2.05882353e-01],\n",
              "       [5.30354132e-02, 1.29333830e-02, 2.49824068e-02, 2.32558140e-02,\n",
              "        3.09278351e-02, 9.43485234e-05, 6.98299280e-03, 3.36391437e-02,\n",
              "        1.05934168e-01, 1.47058824e-01]])"
            ]
          },
          "metadata": {
            "tags": []
          },
          "execution_count": 135
        }
      ]
    },
    {
      "cell_type": "code",
      "metadata": {
        "colab": {
          "base_uri": "https://localhost:8080/",
          "height": 436
        },
        "id": "v7sJbuS3XO_4",
        "outputId": "8076eb3e-a869-4330-b9b2-b86ce83dfa9c"
      },
      "source": [
        "df_principal_norm = pd.DataFrame(scaled_array, index=df_principal.index, columns=['Estupro','Furto de veículo','Homicídio doloso',\r\n",
        "                                'Lesão corporal seguida de morte',\r\n",
        "                                'Roubo a instituição financeira',\r\n",
        "                                'Roubo de carga','Roubo de veículo',\r\n",
        "                                'Roubo seguido de morte (latrocínio)',\r\n",
        "                                'Tentativa de homicídio',\r\n",
        "                                'taxa_abandono_escolar'])\r\n",
        "df_principal_norm.head(100)"
      ],
      "execution_count": 136,
      "outputs": [
        {
          "output_type": "execute_result",
          "data": {
            "text/html": [
              "<div>\n",
              "<style scoped>\n",
              "    .dataframe tbody tr th:only-of-type {\n",
              "        vertical-align: middle;\n",
              "    }\n",
              "\n",
              "    .dataframe tbody tr th {\n",
              "        vertical-align: top;\n",
              "    }\n",
              "\n",
              "    .dataframe thead th {\n",
              "        text-align: right;\n",
              "    }\n",
              "</style>\n",
              "<table border=\"1\" class=\"dataframe\">\n",
              "  <thead>\n",
              "    <tr style=\"text-align: right;\">\n",
              "      <th></th>\n",
              "      <th>Estupro</th>\n",
              "      <th>Furto de veículo</th>\n",
              "      <th>Homicídio doloso</th>\n",
              "      <th>Lesão corporal seguida de morte</th>\n",
              "      <th>Roubo a instituição financeira</th>\n",
              "      <th>Roubo de carga</th>\n",
              "      <th>Roubo de veículo</th>\n",
              "      <th>Roubo seguido de morte (latrocínio)</th>\n",
              "      <th>Tentativa de homicídio</th>\n",
              "      <th>taxa_abandono_escolar</th>\n",
              "    </tr>\n",
              "  </thead>\n",
              "  <tbody>\n",
              "    <tr>\n",
              "      <th>0</th>\n",
              "      <td>0.001602</td>\n",
              "      <td>0.003088</td>\n",
              "      <td>0.010908</td>\n",
              "      <td>0.000000</td>\n",
              "      <td>0.051546</td>\n",
              "      <td>0.000283</td>\n",
              "      <td>0.009168</td>\n",
              "      <td>0.009174</td>\n",
              "      <td>0.000000</td>\n",
              "      <td>0.558824</td>\n",
              "    </tr>\n",
              "    <tr>\n",
              "      <th>1</th>\n",
              "      <td>0.014418</td>\n",
              "      <td>0.004665</td>\n",
              "      <td>0.041696</td>\n",
              "      <td>0.000000</td>\n",
              "      <td>0.030928</td>\n",
              "      <td>0.000094</td>\n",
              "      <td>0.012578</td>\n",
              "      <td>0.039755</td>\n",
              "      <td>0.005795</td>\n",
              "      <td>0.529412</td>\n",
              "    </tr>\n",
              "    <tr>\n",
              "      <th>2</th>\n",
              "      <td>0.020320</td>\n",
              "      <td>0.003403</td>\n",
              "      <td>0.023399</td>\n",
              "      <td>0.006645</td>\n",
              "      <td>0.041237</td>\n",
              "      <td>0.000377</td>\n",
              "      <td>0.015029</td>\n",
              "      <td>0.021407</td>\n",
              "      <td>0.016922</td>\n",
              "      <td>0.500000</td>\n",
              "    </tr>\n",
              "    <tr>\n",
              "      <th>3</th>\n",
              "      <td>0.049494</td>\n",
              "      <td>0.009349</td>\n",
              "      <td>0.266186</td>\n",
              "      <td>0.063123</td>\n",
              "      <td>0.216495</td>\n",
              "      <td>0.007265</td>\n",
              "      <td>0.042887</td>\n",
              "      <td>0.159021</td>\n",
              "      <td>0.119611</td>\n",
              "      <td>0.852941</td>\n",
              "    </tr>\n",
              "    <tr>\n",
              "      <th>4</th>\n",
              "      <td>0.030860</td>\n",
              "      <td>0.009005</td>\n",
              "      <td>0.202322</td>\n",
              "      <td>0.026578</td>\n",
              "      <td>0.226804</td>\n",
              "      <td>0.008020</td>\n",
              "      <td>0.048025</td>\n",
              "      <td>0.097859</td>\n",
              "      <td>0.087854</td>\n",
              "      <td>0.735294</td>\n",
              "    </tr>\n",
              "    <tr>\n",
              "      <th>...</th>\n",
              "      <td>...</td>\n",
              "      <td>...</td>\n",
              "      <td>...</td>\n",
              "      <td>...</td>\n",
              "      <td>...</td>\n",
              "      <td>...</td>\n",
              "      <td>...</td>\n",
              "      <td>...</td>\n",
              "      <td>...</td>\n",
              "      <td>...</td>\n",
              "    </tr>\n",
              "    <tr>\n",
              "      <th>76</th>\n",
              "      <td>1.000000</td>\n",
              "      <td>0.931404</td>\n",
              "      <td>0.490852</td>\n",
              "      <td>0.265781</td>\n",
              "      <td>0.556701</td>\n",
              "      <td>0.824417</td>\n",
              "      <td>0.858140</td>\n",
              "      <td>0.804281</td>\n",
              "      <td>0.793463</td>\n",
              "      <td>0.029412</td>\n",
              "    </tr>\n",
              "    <tr>\n",
              "      <th>77</th>\n",
              "      <td>0.971754</td>\n",
              "      <td>0.801841</td>\n",
              "      <td>0.460767</td>\n",
              "      <td>0.328904</td>\n",
              "      <td>0.216495</td>\n",
              "      <td>0.691103</td>\n",
              "      <td>0.683315</td>\n",
              "      <td>0.562691</td>\n",
              "      <td>0.771674</td>\n",
              "      <td>0.000000</td>\n",
              "    </tr>\n",
              "    <tr>\n",
              "      <th>78</th>\n",
              "      <td>0.040051</td>\n",
              "      <td>0.012647</td>\n",
              "      <td>0.031316</td>\n",
              "      <td>0.023256</td>\n",
              "      <td>0.237113</td>\n",
              "      <td>0.000755</td>\n",
              "      <td>0.008666</td>\n",
              "      <td>0.012232</td>\n",
              "      <td>0.063514</td>\n",
              "      <td>0.235294</td>\n",
              "    </tr>\n",
              "    <tr>\n",
              "      <th>79</th>\n",
              "      <td>0.053794</td>\n",
              "      <td>0.017933</td>\n",
              "      <td>0.035890</td>\n",
              "      <td>0.023256</td>\n",
              "      <td>0.072165</td>\n",
              "      <td>0.000000</td>\n",
              "      <td>0.012741</td>\n",
              "      <td>0.027523</td>\n",
              "      <td>0.082522</td>\n",
              "      <td>0.205882</td>\n",
              "    </tr>\n",
              "    <tr>\n",
              "      <th>80</th>\n",
              "      <td>0.053035</td>\n",
              "      <td>0.012933</td>\n",
              "      <td>0.024982</td>\n",
              "      <td>0.023256</td>\n",
              "      <td>0.030928</td>\n",
              "      <td>0.000094</td>\n",
              "      <td>0.006983</td>\n",
              "      <td>0.033639</td>\n",
              "      <td>0.105934</td>\n",
              "      <td>0.147059</td>\n",
              "    </tr>\n",
              "  </tbody>\n",
              "</table>\n",
              "<p>81 rows × 10 columns</p>\n",
              "</div>"
            ],
            "text/plain": [
              "     Estupro  Furto de veículo  ...  Tentativa de homicídio  taxa_abandono_escolar\n",
              "0   0.001602          0.003088  ...                0.000000               0.558824\n",
              "1   0.014418          0.004665  ...                0.005795               0.529412\n",
              "2   0.020320          0.003403  ...                0.016922               0.500000\n",
              "3   0.049494          0.009349  ...                0.119611               0.852941\n",
              "4   0.030860          0.009005  ...                0.087854               0.735294\n",
              "..       ...               ...  ...                     ...                    ...\n",
              "76  1.000000          0.931404  ...                0.793463               0.029412\n",
              "77  0.971754          0.801841  ...                0.771674               0.000000\n",
              "78  0.040051          0.012647  ...                0.063514               0.235294\n",
              "79  0.053794          0.017933  ...                0.082522               0.205882\n",
              "80  0.053035          0.012933  ...                0.105934               0.147059\n",
              "\n",
              "[81 rows x 10 columns]"
            ]
          },
          "metadata": {
            "tags": []
          },
          "execution_count": 136
        }
      ]
    },
    {
      "cell_type": "code",
      "metadata": {
        "colab": {
          "base_uri": "https://localhost:8080/",
          "height": 493
        },
        "id": "9hVV_66_EXWT",
        "outputId": "36b46553-d3a0-432a-c0f7-868055b77b99"
      },
      "source": [
        "# Mesmo depois de normalizar n existe aparente correlação com a taxa de abandono escolar\r\n",
        "# entendi o motivo de não ter, a minha escolha foi infeliz em relação a base, \r\n",
        "# talvez se eu tivesse pego a taxa de abandono de 20 anos ou mais atrás tivsse \r\n",
        "# mais sentido.\r\n",
        "\r\n",
        "df_scaled_corr = df_principal_norm.corr()\r\n",
        "\r\n",
        "fig = plt.figure(figsize=(10,5))\r\n",
        "sns.heatmap(df_scaled_corr, xticklabels=df_scaled_corr.columns, yticklabels=df_scaled_corr.columns, annot=True)\r\n",
        "plt.show()"
      ],
      "execution_count": 137,
      "outputs": [
        {
          "output_type": "display_data",
          "data": {
            "image/png": "[encoded data removed]",
            "text/plain": [
              "<Figure size 720x360 with 2 Axes>"
            ]
          },
          "metadata": {
            "tags": [],
            "needs_background": "light"
          }
        }
      ]
    },
    {
      "cell_type": "markdown",
      "metadata": {
        "id": "B_4LzzTsMpbU"
      },
      "source": [
        "#Aplicação dos algoritmos de clusterização"
      ]
    },
    {
      "cell_type": "code",
      "metadata": {
        "colab": {
          "base_uri": "https://localhost:8080/"
        },
        "id": "sy7TW_TdM-eJ",
        "outputId": "d23aafc4-eeea-4094-ea78-001421fcb7f9"
      },
      "source": [
        "# Imports necessários\r\n",
        "from sklearn.cluster import KMeans\r\n",
        "from sklearn import metrics\r\n",
        "\r\n",
        "# Variando o número de k de 1 a 10 para analisar os valores da métrica\r\n",
        "\r\n",
        "for k in range(2, 20):\r\n",
        "  km = KMeans(n_clusters=k,random_state=42)\r\n",
        "  km.fit(df_principal_norm)\r\n",
        "  score = metrics.silhouette_score(df_principal_norm, km.labels_, metric='euclidean')\r\n",
        "  print(\"Para k=%i o valor Silhoutte foi de %.4f\" % (k, score))"
      ],
      "execution_count": 138,
      "outputs": [
        {
          "output_type": "stream",
          "text": [
            "Para k=2 o valor Silhoutte foi de 0.4460\n",
            "Para k=3 o valor Silhoutte foi de 0.3783\n",
            "Para k=4 o valor Silhoutte foi de 0.2922\n",
            "Para k=5 o valor Silhoutte foi de 0.2949\n",
            "Para k=6 o valor Silhoutte foi de 0.3288\n",
            "Para k=7 o valor Silhoutte foi de 0.3612\n",
            "Para k=8 o valor Silhoutte foi de 0.3704\n",
            "Para k=9 o valor Silhoutte foi de 0.3607\n",
            "Para k=10 o valor Silhoutte foi de 0.3938\n",
            "Para k=11 o valor Silhoutte foi de 0.3790\n",
            "Para k=12 o valor Silhoutte foi de 0.3899\n",
            "Para k=13 o valor Silhoutte foi de 0.3960\n",
            "Para k=14 o valor Silhoutte foi de 0.3996\n",
            "Para k=15 o valor Silhoutte foi de 0.4179\n",
            "Para k=16 o valor Silhoutte foi de 0.4058\n",
            "Para k=17 o valor Silhoutte foi de 0.4118\n",
            "Para k=18 o valor Silhoutte foi de 0.4064\n",
            "Para k=19 o valor Silhoutte foi de 0.4118\n"
          ],
          "name": "stdout"
        }
      ]
    },
    {
      "cell_type": "code",
      "metadata": {
        "colab": {
          "base_uri": "https://localhost:8080/"
        },
        "id": "jaatf0g6cMI_",
        "outputId": "8de7626e-66e9-4fc1-8c89-63feafdb5c76"
      },
      "source": [
        "kmeans = KMeans(n_clusters=3)\r\n",
        "kmeans.fit(df_principal_norm)"
      ],
      "execution_count": 139,
      "outputs": [
        {
          "output_type": "execute_result",
          "data": {
            "text/plain": [
              "KMeans(algorithm='auto', copy_x=True, init='k-means++', max_iter=300,\n",
              "       n_clusters=3, n_init=10, n_jobs=None, precompute_distances='auto',\n",
              "       random_state=None, tol=0.0001, verbose=0)"
            ]
          },
          "metadata": {
            "tags": []
          },
          "execution_count": 139
        }
      ]
    },
    {
      "cell_type": "code",
      "metadata": {
        "colab": {
          "base_uri": "https://localhost:8080/",
          "height": 419
        },
        "id": "3gWNzhhqbokx",
        "outputId": "b2285d4f-15e0-4534-ac66-ae2f5f8148c1"
      },
      "source": [
        "clusters = kmeans.labels_.tolist()\r\n",
        "clusters_dict = {'UF' : df_principal.UF, 'Ano' : list(df_principal.Ano), 'clusters' : clusters}\r\n",
        "dataframe_clusters = pd.DataFrame(clusters_dict, columns = ['UF','Ano', 'clusters'])\r\n",
        "dataframe_clusters"
      ],
      "execution_count": 140,
      "outputs": [
        {
          "output_type": "execute_result",
          "data": {
            "text/html": [
              "<div>\n",
              "<style scoped>\n",
              "    .dataframe tbody tr th:only-of-type {\n",
              "        vertical-align: middle;\n",
              "    }\n",
              "\n",
              "    .dataframe tbody tr th {\n",
              "        vertical-align: top;\n",
              "    }\n",
              "\n",
              "    .dataframe thead th {\n",
              "        text-align: right;\n",
              "    }\n",
              "</style>\n",
              "<table border=\"1\" class=\"dataframe\">\n",
              "  <thead>\n",
              "    <tr style=\"text-align: right;\">\n",
              "      <th></th>\n",
              "      <th>UF</th>\n",
              "      <th>Ano</th>\n",
              "      <th>clusters</th>\n",
              "    </tr>\n",
              "  </thead>\n",
              "  <tbody>\n",
              "    <tr>\n",
              "      <th>0</th>\n",
              "      <td>Acre</td>\n",
              "      <td>2017</td>\n",
              "      <td>0</td>\n",
              "    </tr>\n",
              "    <tr>\n",
              "      <th>1</th>\n",
              "      <td>Acre</td>\n",
              "      <td>2018</td>\n",
              "      <td>0</td>\n",
              "    </tr>\n",
              "    <tr>\n",
              "      <th>2</th>\n",
              "      <td>Acre</td>\n",
              "      <td>2019</td>\n",
              "      <td>0</td>\n",
              "    </tr>\n",
              "    <tr>\n",
              "      <th>3</th>\n",
              "      <td>Alagoas</td>\n",
              "      <td>2017</td>\n",
              "      <td>0</td>\n",
              "    </tr>\n",
              "    <tr>\n",
              "      <th>4</th>\n",
              "      <td>Alagoas</td>\n",
              "      <td>2018</td>\n",
              "      <td>0</td>\n",
              "    </tr>\n",
              "    <tr>\n",
              "      <th>...</th>\n",
              "      <td>...</td>\n",
              "      <td>...</td>\n",
              "      <td>...</td>\n",
              "    </tr>\n",
              "    <tr>\n",
              "      <th>76</th>\n",
              "      <td>São Paulo</td>\n",
              "      <td>2018</td>\n",
              "      <td>1</td>\n",
              "    </tr>\n",
              "    <tr>\n",
              "      <th>77</th>\n",
              "      <td>São Paulo</td>\n",
              "      <td>2019</td>\n",
              "      <td>1</td>\n",
              "    </tr>\n",
              "    <tr>\n",
              "      <th>78</th>\n",
              "      <td>Tocantins</td>\n",
              "      <td>2017</td>\n",
              "      <td>0</td>\n",
              "    </tr>\n",
              "    <tr>\n",
              "      <th>79</th>\n",
              "      <td>Tocantins</td>\n",
              "      <td>2018</td>\n",
              "      <td>0</td>\n",
              "    </tr>\n",
              "    <tr>\n",
              "      <th>80</th>\n",
              "      <td>Tocantins</td>\n",
              "      <td>2019</td>\n",
              "      <td>0</td>\n",
              "    </tr>\n",
              "  </tbody>\n",
              "</table>\n",
              "<p>81 rows × 3 columns</p>\n",
              "</div>"
            ],
            "text/plain": [
              "           UF   Ano  clusters\n",
              "0        Acre  2017         0\n",
              "1        Acre  2018         0\n",
              "2        Acre  2019         0\n",
              "3     Alagoas  2017         0\n",
              "4     Alagoas  2018         0\n",
              "..        ...   ...       ...\n",
              "76  São Paulo  2018         1\n",
              "77  São Paulo  2019         1\n",
              "78  Tocantins  2017         0\n",
              "79  Tocantins  2018         0\n",
              "80  Tocantins  2019         0\n",
              "\n",
              "[81 rows x 3 columns]"
            ]
          },
          "metadata": {
            "tags": []
          },
          "execution_count": 140
        }
      ]
    },
    {
      "cell_type": "code",
      "metadata": {
        "colab": {
          "base_uri": "https://localhost:8080/",
          "height": 442
        },
        "id": "MG5WNEpjchti",
        "outputId": "4dec8912-c6bf-4794-cb99-c2dd39e5e1f4"
      },
      "source": [
        "plt.figure(figsize=(10, 7))\r\n",
        "plt.title(\"Customer Dendrograms\")\r\n",
        "dend = shc.dendrogram(shc.linkage(df_principal_norm, method='ward'))"
      ],
      "execution_count": 141,
      "outputs": [
        {
          "output_type": "display_data",
          "data": {
            "image/png": "[encoded data removed]",
            "text/plain": [
              "<Figure size 720x504 with 1 Axes>"
            ]
          },
          "metadata": {
            "tags": [],
            "needs_background": "light"
          }
        }
      ]
    },
    {
      "cell_type": "code",
      "metadata": {
        "colab": {
          "base_uri": "https://localhost:8080/"
        },
        "id": "SrCudeyCc3On",
        "outputId": "0e740bd5-d29c-4ca5-e60a-50c5fabd6c65"
      },
      "source": [
        "agg_cluster = AgglomerativeClustering(affinity='euclidean', linkage='ward')\r\n",
        "agg_cluster.fit(df_principal_norm)"
      ],
      "execution_count": 142,
      "outputs": [
        {
          "output_type": "execute_result",
          "data": {
            "text/plain": [
              "AgglomerativeClustering(affinity='euclidean', compute_full_tree='auto',\n",
              "                        connectivity=None, distance_threshold=None,\n",
              "                        linkage='ward', memory=None, n_clusters=2)"
            ]
          },
          "metadata": {
            "tags": []
          },
          "execution_count": 142
        }
      ]
    },
    {
      "cell_type": "code",
      "metadata": {
        "colab": {
          "base_uri": "https://localhost:8080/",
          "height": 419
        },
        "id": "3AoiCf9ciefs",
        "outputId": "505ff74f-3264-4e4b-a6e4-4af0a3aac25c"
      },
      "source": [
        "clusters_h = agg_cluster.labels_.tolist()\r\n",
        "clusters_dict_h = {'UF' : df_principal.UF, 'Ano' : list(df_principal.Ano), 'clusters' : clusters}\r\n",
        "dataframe_clusters_h = pd.DataFrame(clusters_dict, columns = ['UF','Ano', 'clusters'])\r\n",
        "dataframe_clusters_h"
      ],
      "execution_count": 143,
      "outputs": [
        {
          "output_type": "execute_result",
          "data": {
            "text/html": [
              "<div>\n",
              "<style scoped>\n",
              "    .dataframe tbody tr th:only-of-type {\n",
              "        vertical-align: middle;\n",
              "    }\n",
              "\n",
              "    .dataframe tbody tr th {\n",
              "        vertical-align: top;\n",
              "    }\n",
              "\n",
              "    .dataframe thead th {\n",
              "        text-align: right;\n",
              "    }\n",
              "</style>\n",
              "<table border=\"1\" class=\"dataframe\">\n",
              "  <thead>\n",
              "    <tr style=\"text-align: right;\">\n",
              "      <th></th>\n",
              "      <th>UF</th>\n",
              "      <th>Ano</th>\n",
              "      <th>clusters</th>\n",
              "    </tr>\n",
              "  </thead>\n",
              "  <tbody>\n",
              "    <tr>\n",
              "      <th>0</th>\n",
              "      <td>Acre</td>\n",
              "      <td>2017</td>\n",
              "      <td>0</td>\n",
              "    </tr>\n",
              "    <tr>\n",
              "      <th>1</th>\n",
              "      <td>Acre</td>\n",
              "      <td>2018</td>\n",
              "      <td>0</td>\n",
              "    </tr>\n",
              "    <tr>\n",
              "      <th>2</th>\n",
              "      <td>Acre</td>\n",
              "      <td>2019</td>\n",
              "      <td>0</td>\n",
              "    </tr>\n",
              "    <tr>\n",
              "      <th>3</th>\n",
              "      <td>Alagoas</td>\n",
              "      <td>2017</td>\n",
              "      <td>0</td>\n",
              "    </tr>\n",
              "    <tr>\n",
              "      <th>4</th>\n",
              "      <td>Alagoas</td>\n",
              "      <td>2018</td>\n",
              "      <td>0</td>\n",
              "    </tr>\n",
              "    <tr>\n",
              "      <th>...</th>\n",
              "      <td>...</td>\n",
              "      <td>...</td>\n",
              "      <td>...</td>\n",
              "    </tr>\n",
              "    <tr>\n",
              "      <th>76</th>\n",
              "      <td>São Paulo</td>\n",
              "      <td>2018</td>\n",
              "      <td>1</td>\n",
              "    </tr>\n",
              "    <tr>\n",
              "      <th>77</th>\n",
              "      <td>São Paulo</td>\n",
              "      <td>2019</td>\n",
              "      <td>1</td>\n",
              "    </tr>\n",
              "    <tr>\n",
              "      <th>78</th>\n",
              "      <td>Tocantins</td>\n",
              "      <td>2017</td>\n",
              "      <td>0</td>\n",
              "    </tr>\n",
              "    <tr>\n",
              "      <th>79</th>\n",
              "      <td>Tocantins</td>\n",
              "      <td>2018</td>\n",
              "      <td>0</td>\n",
              "    </tr>\n",
              "    <tr>\n",
              "      <th>80</th>\n",
              "      <td>Tocantins</td>\n",
              "      <td>2019</td>\n",
              "      <td>0</td>\n",
              "    </tr>\n",
              "  </tbody>\n",
              "</table>\n",
              "<p>81 rows × 3 columns</p>\n",
              "</div>"
            ],
            "text/plain": [
              "           UF   Ano  clusters\n",
              "0        Acre  2017         0\n",
              "1        Acre  2018         0\n",
              "2        Acre  2019         0\n",
              "3     Alagoas  2017         0\n",
              "4     Alagoas  2018         0\n",
              "..        ...   ...       ...\n",
              "76  São Paulo  2018         1\n",
              "77  São Paulo  2019         1\n",
              "78  Tocantins  2017         0\n",
              "79  Tocantins  2018         0\n",
              "80  Tocantins  2019         0\n",
              "\n",
              "[81 rows x 3 columns]"
            ]
          },
          "metadata": {
            "tags": []
          },
          "execution_count": 143
        }
      ]
    },
    {
      "cell_type": "code",
      "metadata": {
        "colab": {
          "base_uri": "https://localhost:8080/"
        },
        "id": "nmsIoWtrd9Zj",
        "outputId": "1ae62de1-17c2-4342-b911-eb17727f8827"
      },
      "source": [
        "print('Kmeans', metrics.silhouette_score(df_principal_norm, kmeans.labels_, metric='euclidean'))\r\n",
        "print('AgglomerativeClustering', metrics.silhouette_score(df_principal_norm, agg_cluster.labels_, metric='euclidean'))"
      ],
      "execution_count": 144,
      "outputs": [
        {
          "output_type": "stream",
          "text": [
            "Kmeans 0.37828932385028136\n",
            "AgglomerativeClustering 0.5796251427900636\n"
          ],
          "name": "stdout"
        }
      ]
    },
    {
      "cell_type": "code",
      "metadata": {
        "id": "WBmgMe9kf9fS"
      },
      "source": [
        "dataframe_clusters_h.to_csv('AgglomerativeClustering.csv') "
      ],
      "execution_count": 145,
      "outputs": []
    },
    {
      "cell_type": "code",
      "metadata": {
        "id": "xVny9VMsfnGp"
      },
      "source": [
        "dataframe_clusters.to_csv(r'Kmeans.csv')"
      ],
      "execution_count": 146,
      "outputs": []
    },
    {
      "cell_type": "markdown",
      "metadata": {
        "id": "JznPAgKbMpHI"
      },
      "source": [
        "#Visualização dos dados"
      ]
    },
    {
      "cell_type": "code",
      "metadata": {
        "colab": {
          "base_uri": "https://localhost:8080/"
        },
        "id": "rTKnrA1gM_Ar",
        "outputId": "d6b31533-abe0-43c5-cac4-825e3e56efec"
      },
      "source": [
        "!conda install -c conda-forge folium -y"
      ],
      "execution_count": 147,
      "outputs": [
        {
          "output_type": "stream",
          "text": [
            "/bin/bash: conda: command not found\n"
          ],
          "name": "stdout"
        }
      ]
    },
    {
      "cell_type": "code",
      "metadata": {
        "colab": {
          "base_uri": "https://localhost:8080/"
        },
        "id": "bdp28w8AkW4O",
        "outputId": "826211b7-2e19-4153-cdb8-954425515c03"
      },
      "source": [
        "pip install folium"
      ],
      "execution_count": 148,
      "outputs": [
        {
          "output_type": "stream",
          "text": [
            "Requirement already satisfied: folium in /usr/local/lib/python3.6/dist-packages (0.8.3)\n",
            "Requirement already satisfied: jinja2 in /usr/local/lib/python3.6/dist-packages (from folium) (2.11.2)\n",
            "Requirement already satisfied: requests in /usr/local/lib/python3.6/dist-packages (from folium) (2.23.0)\n",
            "Requirement already satisfied: six in /usr/local/lib/python3.6/dist-packages (from folium) (1.15.0)\n",
            "Requirement already satisfied: branca>=0.3.0 in /usr/local/lib/python3.6/dist-packages (from folium) (0.4.1)\n",
            "Requirement already satisfied: numpy in /usr/local/lib/python3.6/dist-packages (from folium) (1.18.5)\n",
            "Requirement already satisfied: MarkupSafe>=0.23 in /usr/local/lib/python3.6/dist-packages (from jinja2->folium) (1.1.1)\n",
            "Requirement already satisfied: idna<3,>=2.5 in /usr/local/lib/python3.6/dist-packages (from requests->folium) (2.10)\n",
            "Requirement already satisfied: urllib3!=1.25.0,!=1.25.1,<1.26,>=1.21.1 in /usr/local/lib/python3.6/dist-packages (from requests->folium) (1.24.3)\n",
            "Requirement already satisfied: certifi>=2017.4.17 in /usr/local/lib/python3.6/dist-packages (from requests->folium) (2020.12.5)\n",
            "Requirement already satisfied: chardet<4,>=3.0.2 in /usr/local/lib/python3.6/dist-packages (from requests->folium) (3.0.4)\n"
          ],
          "name": "stdout"
        }
      ]
    },
    {
      "cell_type": "code",
      "metadata": {
        "colab": {
          "base_uri": "https://localhost:8080/"
        },
        "id": "1IbWPIvgkc4h",
        "outputId": "593aa145-01b2-4455-aa56-9f960939b68d"
      },
      "source": [
        "import folium\r\n",
        "print(folium.__version__)"
      ],
      "execution_count": 149,
      "outputs": [
        {
          "output_type": "stream",
          "text": [
            "0.8.3\n"
          ],
          "name": "stdout"
        }
      ]
    },
    {
      "cell_type": "code",
      "metadata": {
        "id": "GHlrNDlQkd_v"
      },
      "source": [
        "import json\r\n",
        "\r\n",
        "br_estados = \"/content/gdrive/MyDrive/Colab Notebooks/Machine Learning/Bases/trabalho_pratico02/br_states.json\"\r\n",
        "\r\n",
        "geo_json_data = json.load(open(br_estados))"
      ],
      "execution_count": 150,
      "outputs": []
    },
    {
      "cell_type": "code",
      "metadata": {
        "colab": {
          "base_uri": "https://localhost:8080/",
          "height": 204
        },
        "id": "XCzGTt1ExOq9",
        "outputId": "b0b303f9-dd46-44cc-c8fb-e0cc6f448144"
      },
      "source": [
        "import pandas as pd\r\n",
        "\r\n",
        "df_mapa = dataframe_clusters_h[['UF','clusters']]\r\n",
        "df_mapa.head()"
      ],
      "execution_count": 151,
      "outputs": [
        {
          "output_type": "execute_result",
          "data": {
            "text/html": [
              "<div>\n",
              "<style scoped>\n",
              "    .dataframe tbody tr th:only-of-type {\n",
              "        vertical-align: middle;\n",
              "    }\n",
              "\n",
              "    .dataframe tbody tr th {\n",
              "        vertical-align: top;\n",
              "    }\n",
              "\n",
              "    .dataframe thead th {\n",
              "        text-align: right;\n",
              "    }\n",
              "</style>\n",
              "<table border=\"1\" class=\"dataframe\">\n",
              "  <thead>\n",
              "    <tr style=\"text-align: right;\">\n",
              "      <th></th>\n",
              "      <th>UF</th>\n",
              "      <th>clusters</th>\n",
              "    </tr>\n",
              "  </thead>\n",
              "  <tbody>\n",
              "    <tr>\n",
              "      <th>0</th>\n",
              "      <td>Acre</td>\n",
              "      <td>0</td>\n",
              "    </tr>\n",
              "    <tr>\n",
              "      <th>1</th>\n",
              "      <td>Acre</td>\n",
              "      <td>0</td>\n",
              "    </tr>\n",
              "    <tr>\n",
              "      <th>2</th>\n",
              "      <td>Acre</td>\n",
              "      <td>0</td>\n",
              "    </tr>\n",
              "    <tr>\n",
              "      <th>3</th>\n",
              "      <td>Alagoas</td>\n",
              "      <td>0</td>\n",
              "    </tr>\n",
              "    <tr>\n",
              "      <th>4</th>\n",
              "      <td>Alagoas</td>\n",
              "      <td>0</td>\n",
              "    </tr>\n",
              "  </tbody>\n",
              "</table>\n",
              "</div>"
            ],
            "text/plain": [
              "        UF  clusters\n",
              "0     Acre         0\n",
              "1     Acre         0\n",
              "2     Acre         0\n",
              "3  Alagoas         0\n",
              "4  Alagoas         0"
            ]
          },
          "metadata": {
            "tags": []
          },
          "execution_count": 151
        }
      ]
    },
    {
      "cell_type": "code",
      "metadata": {
        "colab": {
          "base_uri": "https://localhost:8080/",
          "height": 297
        },
        "id": "Cm5K25gKyNiO",
        "outputId": "da07d060-10f7-4853-a7bf-dd4b904aca31"
      },
      "source": [
        "df_mapa.describe()"
      ],
      "execution_count": 152,
      "outputs": [
        {
          "output_type": "execute_result",
          "data": {
            "text/html": [
              "<div>\n",
              "<style scoped>\n",
              "    .dataframe tbody tr th:only-of-type {\n",
              "        vertical-align: middle;\n",
              "    }\n",
              "\n",
              "    .dataframe tbody tr th {\n",
              "        vertical-align: top;\n",
              "    }\n",
              "\n",
              "    .dataframe thead th {\n",
              "        text-align: right;\n",
              "    }\n",
              "</style>\n",
              "<table border=\"1\" class=\"dataframe\">\n",
              "  <thead>\n",
              "    <tr style=\"text-align: right;\">\n",
              "      <th></th>\n",
              "      <th>clusters</th>\n",
              "    </tr>\n",
              "  </thead>\n",
              "  <tbody>\n",
              "    <tr>\n",
              "      <th>count</th>\n",
              "      <td>81.000000</td>\n",
              "    </tr>\n",
              "    <tr>\n",
              "      <th>mean</th>\n",
              "      <td>0.567901</td>\n",
              "    </tr>\n",
              "    <tr>\n",
              "      <th>std</th>\n",
              "      <td>0.865134</td>\n",
              "    </tr>\n",
              "    <tr>\n",
              "      <th>min</th>\n",
              "      <td>0.000000</td>\n",
              "    </tr>\n",
              "    <tr>\n",
              "      <th>25%</th>\n",
              "      <td>0.000000</td>\n",
              "    </tr>\n",
              "    <tr>\n",
              "      <th>50%</th>\n",
              "      <td>0.000000</td>\n",
              "    </tr>\n",
              "    <tr>\n",
              "      <th>75%</th>\n",
              "      <td>1.000000</td>\n",
              "    </tr>\n",
              "    <tr>\n",
              "      <th>max</th>\n",
              "      <td>2.000000</td>\n",
              "    </tr>\n",
              "  </tbody>\n",
              "</table>\n",
              "</div>"
            ],
            "text/plain": [
              "        clusters\n",
              "count  81.000000\n",
              "mean    0.567901\n",
              "std     0.865134\n",
              "min     0.000000\n",
              "25%     0.000000\n",
              "50%     0.000000\n",
              "75%     1.000000\n",
              "max     2.000000"
            ]
          },
          "metadata": {
            "tags": []
          },
          "execution_count": 152
        }
      ]
    },
    {
      "cell_type": "code",
      "metadata": {
        "colab": {
          "base_uri": "https://localhost:8080/",
          "height": 71
        },
        "id": "zTiTRFzIySYy",
        "outputId": "21309d07-0d22-4cda-f551-9ee48fe412f5"
      },
      "source": [
        "from branca.colormap import linear\r\n",
        "\r\n",
        "\r\n",
        "colormap = linear.YlOrRd_09.scale(6,20)\r\n",
        "colormap"
      ],
      "execution_count": 153,
      "outputs": [
        {
          "output_type": "execute_result",
          "data": {
            "text/html": [
              "<svg height=\"50\" width=\"500\"><line x1=\"0\" y1=\"0\" x2=\"0\" y2=\"20\" style=\"stroke:#ffffccff;stroke-width:3;\" /><line x1=\"1\" y1=\"0\" x2=\"1\" y2=\"20\" style=\"stroke:#ffffccff;stroke-width:3;\" /><line x1=\"2\" y1=\"0\" x2=\"2\" y2=\"20\" style=\"stroke:#ffffcbff;stroke-width:3;\" /><line x1=\"3\" y1=\"0\" x2=\"3\" y2=\"20\" style=\"stroke:#ffffcaff;stroke-width:3;\" /><line x1=\"4\" y1=\"0\" x2=\"4\" y2=\"20\" style=\"stroke:#fffec9ff;stroke-width:3;\" /><line x1=\"5\" y1=\"0\" x2=\"5\" y2=\"20\" style=\"stroke:#fffec9ff;stroke-width:3;\" /><line x1=\"6\" y1=\"0\" x2=\"6\" y2=\"20\" style=\"stroke:#fffec8ff;stroke-width:3;\" /><line x1=\"7\" y1=\"0\" x2=\"7\" y2=\"20\" style=\"stroke:#fffdc7ff;stroke-width:3;\" /><line x1=\"8\" y1=\"0\" x2=\"8\" y2=\"20\" style=\"stroke:#fffdc7ff;stroke-width:3;\" /><line x1=\"9\" y1=\"0\" x2=\"9\" y2=\"20\" style=\"stroke:#fffdc6ff;stroke-width:3;\" /><line x1=\"10\" y1=\"0\" x2=\"10\" y2=\"20\" style=\"stroke:#fffdc5ff;stroke-width:3;\" /><line x1=\"11\" y1=\"0\" x2=\"11\" y2=\"20\" style=\"stroke:#fffcc5ff;stroke-width:3;\" /><line x1=\"12\" y1=\"0\" x2=\"12\" y2=\"20\" style=\"stroke:#fffcc4ff;stroke-width:3;\" /><line x1=\"13\" y1=\"0\" x2=\"13\" y2=\"20\" style=\"stroke:#fffcc3ff;stroke-width:3;\" /><line x1=\"14\" y1=\"0\" x2=\"14\" y2=\"20\" style=\"stroke:#fffbc2ff;stroke-width:3;\" /><line x1=\"15\" y1=\"0\" x2=\"15\" y2=\"20\" style=\"stroke:#fffbc2ff;stroke-width:3;\" /><line x1=\"16\" y1=\"0\" x2=\"16\" y2=\"20\" style=\"stroke:#fffbc1ff;stroke-width:3;\" /><line x1=\"17\" y1=\"0\" x2=\"17\" y2=\"20\" style=\"stroke:#fffbc0ff;stroke-width:3;\" /><line x1=\"18\" y1=\"0\" x2=\"18\" y2=\"20\" style=\"stroke:#fffac0ff;stroke-width:3;\" /><line x1=\"19\" y1=\"0\" x2=\"19\" y2=\"20\" style=\"stroke:#fffabfff;stroke-width:3;\" /><line x1=\"20\" y1=\"0\" x2=\"20\" y2=\"20\" style=\"stroke:#fffabeff;stroke-width:3;\" /><line x1=\"21\" y1=\"0\" x2=\"21\" y2=\"20\" style=\"stroke:#fff9bdff;stroke-width:3;\" /><line x1=\"22\" y1=\"0\" x2=\"22\" y2=\"20\" style=\"stroke:#fff9bdff;stroke-width:3;\" /><line x1=\"23\" y1=\"0\" x2=\"23\" y2=\"20\" style=\"stroke:#fff9bcff;stroke-width:3;\" /><line x1=\"24\" y1=\"0\" x2=\"24\" y2=\"20\" style=\"stroke:#fff9bbff;stroke-width:3;\" /><line x1=\"25\" y1=\"0\" x2=\"25\" y2=\"20\" style=\"stroke:#fff8bbff;stroke-width:3;\" /><line x1=\"26\" y1=\"0\" x2=\"26\" y2=\"20\" style=\"stroke:#fff8baff;stroke-width:3;\" /><line x1=\"27\" y1=\"0\" x2=\"27\" y2=\"20\" style=\"stroke:#fff8b9ff;stroke-width:3;\" /><line x1=\"28\" y1=\"0\" x2=\"28\" y2=\"20\" style=\"stroke:#fff7b8ff;stroke-width:3;\" /><line x1=\"29\" y1=\"0\" x2=\"29\" y2=\"20\" style=\"stroke:#fff7b8ff;stroke-width:3;\" /><line x1=\"30\" y1=\"0\" x2=\"30\" y2=\"20\" style=\"stroke:#fff7b7ff;stroke-width:3;\" /><line x1=\"31\" y1=\"0\" x2=\"31\" y2=\"20\" style=\"stroke:#fff7b6ff;stroke-width:3;\" /><line x1=\"32\" y1=\"0\" x2=\"32\" y2=\"20\" style=\"stroke:#fff6b6ff;stroke-width:3;\" /><line x1=\"33\" y1=\"0\" x2=\"33\" y2=\"20\" style=\"stroke:#fff6b5ff;stroke-width:3;\" /><line x1=\"34\" y1=\"0\" x2=\"34\" y2=\"20\" style=\"stroke:#fff6b4ff;stroke-width:3;\" /><line x1=\"35\" y1=\"0\" x2=\"35\" y2=\"20\" style=\"stroke:#fff5b4ff;stroke-width:3;\" /><line x1=\"36\" y1=\"0\" x2=\"36\" y2=\"20\" style=\"stroke:#fff5b3ff;stroke-width:3;\" /><line x1=\"37\" y1=\"0\" x2=\"37\" y2=\"20\" style=\"stroke:#fff5b2ff;stroke-width:3;\" /><line x1=\"38\" y1=\"0\" x2=\"38\" y2=\"20\" style=\"stroke:#fff4b1ff;stroke-width:3;\" /><line x1=\"39\" y1=\"0\" x2=\"39\" y2=\"20\" style=\"stroke:#fff4b1ff;stroke-width:3;\" /><line x1=\"40\" y1=\"0\" x2=\"40\" y2=\"20\" style=\"stroke:#fff4b0ff;stroke-width:3;\" /><line x1=\"41\" y1=\"0\" x2=\"41\" y2=\"20\" style=\"stroke:#fff4afff;stroke-width:3;\" /><line x1=\"42\" y1=\"0\" x2=\"42\" y2=\"20\" style=\"stroke:#fff3afff;stroke-width:3;\" /><line x1=\"43\" y1=\"0\" x2=\"43\" y2=\"20\" style=\"stroke:#fff3aeff;stroke-width:3;\" /><line x1=\"44\" y1=\"0\" x2=\"44\" y2=\"20\" style=\"stroke:#fff3adff;stroke-width:3;\" /><line x1=\"45\" y1=\"0\" x2=\"45\" y2=\"20\" style=\"stroke:#fff2acff;stroke-width:3;\" /><line x1=\"46\" y1=\"0\" x2=\"46\" y2=\"20\" style=\"stroke:#fff2acff;stroke-width:3;\" /><line x1=\"47\" y1=\"0\" x2=\"47\" y2=\"20\" style=\"stroke:#fff2abff;stroke-width:3;\" /><line x1=\"48\" y1=\"0\" x2=\"48\" y2=\"20\" style=\"stroke:#fff2aaff;stroke-width:3;\" /><line x1=\"49\" y1=\"0\" x2=\"49\" y2=\"20\" style=\"stroke:#fff1aaff;stroke-width:3;\" /><line x1=\"50\" y1=\"0\" x2=\"50\" y2=\"20\" style=\"stroke:#fff1a9ff;stroke-width:3;\" /><line x1=\"51\" y1=\"0\" x2=\"51\" y2=\"20\" style=\"stroke:#fff1a8ff;stroke-width:3;\" /><line x1=\"52\" y1=\"0\" x2=\"52\" y2=\"20\" style=\"stroke:#fff0a7ff;stroke-width:3;\" /><line x1=\"53\" y1=\"0\" x2=\"53\" y2=\"20\" style=\"stroke:#fff0a7ff;stroke-width:3;\" /><line x1=\"54\" y1=\"0\" x2=\"54\" y2=\"20\" style=\"stroke:#fff0a6ff;stroke-width:3;\" /><line x1=\"55\" y1=\"0\" x2=\"55\" y2=\"20\" style=\"stroke:#fff0a5ff;stroke-width:3;\" /><line x1=\"56\" y1=\"0\" x2=\"56\" y2=\"20\" style=\"stroke:#ffefa5ff;stroke-width:3;\" /><line x1=\"57\" y1=\"0\" x2=\"57\" y2=\"20\" style=\"stroke:#ffefa4ff;stroke-width:3;\" /><line x1=\"58\" y1=\"0\" x2=\"58\" y2=\"20\" style=\"stroke:#ffefa3ff;stroke-width:3;\" /><line x1=\"59\" y1=\"0\" x2=\"59\" y2=\"20\" style=\"stroke:#ffeea3ff;stroke-width:3;\" /><line x1=\"60\" y1=\"0\" x2=\"60\" y2=\"20\" style=\"stroke:#ffeea2ff;stroke-width:3;\" /><line x1=\"61\" y1=\"0\" x2=\"61\" y2=\"20\" style=\"stroke:#ffeea1ff;stroke-width:3;\" /><line x1=\"62\" y1=\"0\" x2=\"62\" y2=\"20\" style=\"stroke:#ffeea0ff;stroke-width:3;\" /><line x1=\"63\" y1=\"0\" x2=\"63\" y2=\"20\" style=\"stroke:#ffeda0ff;stroke-width:3;\" /><line x1=\"64\" y1=\"0\" x2=\"64\" y2=\"20\" style=\"stroke:#ffed9fff;stroke-width:3;\" /><line x1=\"65\" y1=\"0\" x2=\"65\" y2=\"20\" style=\"stroke:#ffed9eff;stroke-width:3;\" /><line x1=\"66\" y1=\"0\" x2=\"66\" y2=\"20\" style=\"stroke:#ffec9eff;stroke-width:3;\" /><line x1=\"67\" y1=\"0\" x2=\"67\" y2=\"20\" style=\"stroke:#ffec9dff;stroke-width:3;\" /><line x1=\"68\" y1=\"0\" x2=\"68\" y2=\"20\" style=\"stroke:#ffec9cff;stroke-width:3;\" /><line x1=\"69\" y1=\"0\" x2=\"69\" y2=\"20\" style=\"stroke:#ffeb9cff;stroke-width:3;\" /><line x1=\"70\" y1=\"0\" x2=\"70\" y2=\"20\" style=\"stroke:#ffeb9bff;stroke-width:3;\" /><line x1=\"71\" y1=\"0\" x2=\"71\" y2=\"20\" style=\"stroke:#ffeb9aff;stroke-width:3;\" /><line x1=\"72\" y1=\"0\" x2=\"72\" y2=\"20\" style=\"stroke:#ffea9aff;stroke-width:3;\" /><line x1=\"73\" y1=\"0\" x2=\"73\" y2=\"20\" style=\"stroke:#ffea99ff;stroke-width:3;\" /><line x1=\"74\" y1=\"0\" x2=\"74\" y2=\"20\" style=\"stroke:#ffea98ff;stroke-width:3;\" /><line x1=\"75\" y1=\"0\" x2=\"75\" y2=\"20\" style=\"stroke:#ffe998ff;stroke-width:3;\" /><line x1=\"76\" y1=\"0\" x2=\"76\" y2=\"20\" style=\"stroke:#ffe997ff;stroke-width:3;\" /><line x1=\"77\" y1=\"0\" x2=\"77\" y2=\"20\" style=\"stroke:#ffe996ff;stroke-width:3;\" /><line x1=\"78\" y1=\"0\" x2=\"78\" y2=\"20\" style=\"stroke:#ffe896ff;stroke-width:3;\" /><line x1=\"79\" y1=\"0\" x2=\"79\" y2=\"20\" style=\"stroke:#ffe895ff;stroke-width:3;\" /><line x1=\"80\" y1=\"0\" x2=\"80\" y2=\"20\" style=\"stroke:#ffe894ff;stroke-width:3;\" /><line x1=\"81\" y1=\"0\" x2=\"81\" y2=\"20\" style=\"stroke:#ffe794ff;stroke-width:3;\" /><line x1=\"82\" y1=\"0\" x2=\"82\" y2=\"20\" style=\"stroke:#ffe793ff;stroke-width:3;\" /><line x1=\"83\" y1=\"0\" x2=\"83\" y2=\"20\" style=\"stroke:#ffe792ff;stroke-width:3;\" /><line x1=\"84\" y1=\"0\" x2=\"84\" y2=\"20\" style=\"stroke:#ffe692ff;stroke-width:3;\" /><line x1=\"85\" y1=\"0\" x2=\"85\" y2=\"20\" style=\"stroke:#ffe691ff;stroke-width:3;\" /><line x1=\"86\" y1=\"0\" x2=\"86\" y2=\"20\" style=\"stroke:#ffe690ff;stroke-width:3;\" /><line x1=\"87\" y1=\"0\" x2=\"87\" y2=\"20\" style=\"stroke:#ffe68fff;stroke-width:3;\" /><line x1=\"88\" y1=\"0\" x2=\"88\" y2=\"20\" style=\"stroke:#ffe58fff;stroke-width:3;\" /><line x1=\"89\" y1=\"0\" x2=\"89\" y2=\"20\" style=\"stroke:#ffe58eff;stroke-width:3;\" /><line x1=\"90\" y1=\"0\" x2=\"90\" y2=\"20\" style=\"stroke:#ffe58dff;stroke-width:3;\" /><line x1=\"91\" y1=\"0\" x2=\"91\" y2=\"20\" style=\"stroke:#ffe48dff;stroke-width:3;\" /><line x1=\"92\" y1=\"0\" x2=\"92\" y2=\"20\" style=\"stroke:#ffe48cff;stroke-width:3;\" /><line x1=\"93\" y1=\"0\" x2=\"93\" y2=\"20\" style=\"stroke:#ffe48bff;stroke-width:3;\" /><line x1=\"94\" y1=\"0\" x2=\"94\" y2=\"20\" style=\"stroke:#ffe38bff;stroke-width:3;\" /><line x1=\"95\" y1=\"0\" x2=\"95\" y2=\"20\" style=\"stroke:#ffe38aff;stroke-width:3;\" /><line x1=\"96\" y1=\"0\" x2=\"96\" y2=\"20\" style=\"stroke:#ffe389ff;stroke-width:3;\" /><line x1=\"97\" y1=\"0\" x2=\"97\" y2=\"20\" style=\"stroke:#ffe289ff;stroke-width:3;\" /><line x1=\"98\" y1=\"0\" x2=\"98\" y2=\"20\" style=\"stroke:#ffe288ff;stroke-width:3;\" /><line x1=\"99\" y1=\"0\" x2=\"99\" y2=\"20\" style=\"stroke:#ffe287ff;stroke-width:3;\" /><line x1=\"100\" y1=\"0\" x2=\"100\" y2=\"20\" style=\"stroke:#ffe187ff;stroke-width:3;\" /><line x1=\"101\" y1=\"0\" x2=\"101\" y2=\"20\" style=\"stroke:#ffe186ff;stroke-width:3;\" /><line x1=\"102\" y1=\"0\" x2=\"102\" y2=\"20\" style=\"stroke:#ffe185ff;stroke-width:3;\" /><line x1=\"103\" y1=\"0\" x2=\"103\" y2=\"20\" style=\"stroke:#ffe085ff;stroke-width:3;\" /><line x1=\"104\" y1=\"0\" x2=\"104\" y2=\"20\" style=\"stroke:#ffe084ff;stroke-width:3;\" /><line x1=\"105\" y1=\"0\" x2=\"105\" y2=\"20\" style=\"stroke:#ffe083ff;stroke-width:3;\" /><line x1=\"106\" y1=\"0\" x2=\"106\" y2=\"20\" style=\"stroke:#ffdf83ff;stroke-width:3;\" /><line x1=\"107\" y1=\"0\" x2=\"107\" y2=\"20\" style=\"stroke:#ffdf82ff;stroke-width:3;\" /><line x1=\"108\" y1=\"0\" x2=\"108\" y2=\"20\" style=\"stroke:#ffdf81ff;stroke-width:3;\" /><line x1=\"109\" y1=\"0\" x2=\"109\" y2=\"20\" style=\"stroke:#ffde81ff;stroke-width:3;\" /><line x1=\"110\" y1=\"0\" x2=\"110\" y2=\"20\" style=\"stroke:#ffde80ff;stroke-width:3;\" /><line x1=\"111\" y1=\"0\" x2=\"111\" y2=\"20\" style=\"stroke:#ffde7fff;stroke-width:3;\" /><line x1=\"112\" y1=\"0\" x2=\"112\" y2=\"20\" style=\"stroke:#ffdd7fff;stroke-width:3;\" /><line x1=\"113\" y1=\"0\" x2=\"113\" y2=\"20\" style=\"stroke:#ffdd7eff;stroke-width:3;\" /><line x1=\"114\" y1=\"0\" x2=\"114\" y2=\"20\" style=\"stroke:#ffdd7dff;stroke-width:3;\" /><line x1=\"115\" y1=\"0\" x2=\"115\" y2=\"20\" style=\"stroke:#ffdc7dff;stroke-width:3;\" /><line x1=\"116\" y1=\"0\" x2=\"116\" y2=\"20\" style=\"stroke:#ffdc7cff;stroke-width:3;\" /><line x1=\"117\" y1=\"0\" x2=\"117\" y2=\"20\" style=\"stroke:#ffdc7bff;stroke-width:3;\" /><line x1=\"118\" y1=\"0\" x2=\"118\" y2=\"20\" style=\"stroke:#ffdc7bff;stroke-width:3;\" /><line x1=\"119\" y1=\"0\" x2=\"119\" y2=\"20\" style=\"stroke:#ffdb7aff;stroke-width:3;\" /><line x1=\"120\" y1=\"0\" x2=\"120\" y2=\"20\" style=\"stroke:#ffdb79ff;stroke-width:3;\" /><line x1=\"121\" y1=\"0\" x2=\"121\" y2=\"20\" style=\"stroke:#ffdb78ff;stroke-width:3;\" /><line x1=\"122\" y1=\"0\" x2=\"122\" y2=\"20\" style=\"stroke:#ffda78ff;stroke-width:3;\" /><line x1=\"123\" y1=\"0\" x2=\"123\" y2=\"20\" style=\"stroke:#ffda77ff;stroke-width:3;\" /><line x1=\"124\" y1=\"0\" x2=\"124\" y2=\"20\" style=\"stroke:#ffda76ff;stroke-width:3;\" /><line x1=\"125\" y1=\"0\" x2=\"125\" y2=\"20\" style=\"stroke:#fed976ff;stroke-width:3;\" /><line x1=\"126\" y1=\"0\" x2=\"126\" y2=\"20\" style=\"stroke:#fed975ff;stroke-width:3;\" /><line x1=\"127\" y1=\"0\" x2=\"127\" y2=\"20\" style=\"stroke:#fed874ff;stroke-width:3;\" /><line x1=\"128\" y1=\"0\" x2=\"128\" y2=\"20\" style=\"stroke:#fed774ff;stroke-width:3;\" /><line x1=\"129\" y1=\"0\" x2=\"129\" y2=\"20\" style=\"stroke:#fed773ff;stroke-width:3;\" /><line x1=\"130\" y1=\"0\" x2=\"130\" y2=\"20\" style=\"stroke:#fed672ff;stroke-width:3;\" /><line x1=\"131\" y1=\"0\" x2=\"131\" y2=\"20\" style=\"stroke:#fed572ff;stroke-width:3;\" /><line x1=\"132\" y1=\"0\" x2=\"132\" y2=\"20\" style=\"stroke:#fed571ff;stroke-width:3;\" /><line x1=\"133\" y1=\"0\" x2=\"133\" y2=\"20\" style=\"stroke:#fed470ff;stroke-width:3;\" /><line x1=\"134\" y1=\"0\" x2=\"134\" y2=\"20\" style=\"stroke:#fed470ff;stroke-width:3;\" /><line x1=\"135\" y1=\"0\" x2=\"135\" y2=\"20\" style=\"stroke:#fed36fff;stroke-width:3;\" /><line x1=\"136\" y1=\"0\" x2=\"136\" y2=\"20\" style=\"stroke:#fed26eff;stroke-width:3;\" /><line x1=\"137\" y1=\"0\" x2=\"137\" y2=\"20\" style=\"stroke:#fed26eff;stroke-width:3;\" /><line x1=\"138\" y1=\"0\" x2=\"138\" y2=\"20\" style=\"stroke:#fed16dff;stroke-width:3;\" /><line x1=\"139\" y1=\"0\" x2=\"139\" y2=\"20\" style=\"stroke:#fed06cff;stroke-width:3;\" /><line x1=\"140\" y1=\"0\" x2=\"140\" y2=\"20\" style=\"stroke:#fed06cff;stroke-width:3;\" /><line x1=\"141\" y1=\"0\" x2=\"141\" y2=\"20\" style=\"stroke:#fecf6bff;stroke-width:3;\" /><line x1=\"142\" y1=\"0\" x2=\"142\" y2=\"20\" style=\"stroke:#fecf6aff;stroke-width:3;\" /><line x1=\"143\" y1=\"0\" x2=\"143\" y2=\"20\" style=\"stroke:#fece6aff;stroke-width:3;\" /><line x1=\"144\" y1=\"0\" x2=\"144\" y2=\"20\" style=\"stroke:#fecd69ff;stroke-width:3;\" /><line x1=\"145\" y1=\"0\" x2=\"145\" y2=\"20\" style=\"stroke:#fecd68ff;stroke-width:3;\" /><line x1=\"146\" y1=\"0\" x2=\"146\" y2=\"20\" style=\"stroke:#fecc68ff;stroke-width:3;\" /><line x1=\"147\" y1=\"0\" x2=\"147\" y2=\"20\" style=\"stroke:#fecb67ff;stroke-width:3;\" /><line x1=\"148\" y1=\"0\" x2=\"148\" y2=\"20\" style=\"stroke:#fecb66ff;stroke-width:3;\" /><line x1=\"149\" y1=\"0\" x2=\"149\" y2=\"20\" style=\"stroke:#feca66ff;stroke-width:3;\" /><line x1=\"150\" y1=\"0\" x2=\"150\" y2=\"20\" style=\"stroke:#feca65ff;stroke-width:3;\" /><line x1=\"151\" y1=\"0\" x2=\"151\" y2=\"20\" style=\"stroke:#fec964ff;stroke-width:3;\" /><line x1=\"152\" y1=\"0\" x2=\"152\" y2=\"20\" style=\"stroke:#fec864ff;stroke-width:3;\" /><line x1=\"153\" y1=\"0\" x2=\"153\" y2=\"20\" style=\"stroke:#fec863ff;stroke-width:3;\" /><line x1=\"154\" y1=\"0\" x2=\"154\" y2=\"20\" style=\"stroke:#fec762ff;stroke-width:3;\" /><line x1=\"155\" y1=\"0\" x2=\"155\" y2=\"20\" style=\"stroke:#fec662ff;stroke-width:3;\" /><line x1=\"156\" y1=\"0\" x2=\"156\" y2=\"20\" style=\"stroke:#fec661ff;stroke-width:3;\" /><line x1=\"157\" y1=\"0\" x2=\"157\" y2=\"20\" style=\"stroke:#fec560ff;stroke-width:3;\" /><line x1=\"158\" y1=\"0\" x2=\"158\" y2=\"20\" style=\"stroke:#fec45fff;stroke-width:3;\" /><line x1=\"159\" y1=\"0\" x2=\"159\" y2=\"20\" style=\"stroke:#fec45fff;stroke-width:3;\" /><line x1=\"160\" y1=\"0\" x2=\"160\" y2=\"20\" style=\"stroke:#fec35eff;stroke-width:3;\" /><line x1=\"161\" y1=\"0\" x2=\"161\" y2=\"20\" style=\"stroke:#fec35dff;stroke-width:3;\" /><line x1=\"162\" y1=\"0\" x2=\"162\" y2=\"20\" style=\"stroke:#fec25dff;stroke-width:3;\" /><line x1=\"163\" y1=\"0\" x2=\"163\" y2=\"20\" style=\"stroke:#fec15cff;stroke-width:3;\" /><line x1=\"164\" y1=\"0\" x2=\"164\" y2=\"20\" style=\"stroke:#fec15bff;stroke-width:3;\" /><line x1=\"165\" y1=\"0\" x2=\"165\" y2=\"20\" style=\"stroke:#fec05bff;stroke-width:3;\" /><line x1=\"166\" y1=\"0\" x2=\"166\" y2=\"20\" style=\"stroke:#febf5aff;stroke-width:3;\" /><line x1=\"167\" y1=\"0\" x2=\"167\" y2=\"20\" style=\"stroke:#febf59ff;stroke-width:3;\" /><line x1=\"168\" y1=\"0\" x2=\"168\" y2=\"20\" style=\"stroke:#febe59ff;stroke-width:3;\" /><line x1=\"169\" y1=\"0\" x2=\"169\" y2=\"20\" style=\"stroke:#febe58ff;stroke-width:3;\" /><line x1=\"170\" y1=\"0\" x2=\"170\" y2=\"20\" style=\"stroke:#febd57ff;stroke-width:3;\" /><line x1=\"171\" y1=\"0\" x2=\"171\" y2=\"20\" style=\"stroke:#febc57ff;stroke-width:3;\" /><line x1=\"172\" y1=\"0\" x2=\"172\" y2=\"20\" style=\"stroke:#febc56ff;stroke-width:3;\" /><line x1=\"173\" y1=\"0\" x2=\"173\" y2=\"20\" style=\"stroke:#febb55ff;stroke-width:3;\" /><line x1=\"174\" y1=\"0\" x2=\"174\" y2=\"20\" style=\"stroke:#feba55ff;stroke-width:3;\" /><line x1=\"175\" y1=\"0\" x2=\"175\" y2=\"20\" style=\"stroke:#feba54ff;stroke-width:3;\" /><line x1=\"176\" y1=\"0\" x2=\"176\" y2=\"20\" style=\"stroke:#feb953ff;stroke-width:3;\" /><line x1=\"177\" y1=\"0\" x2=\"177\" y2=\"20\" style=\"stroke:#feb953ff;stroke-width:3;\" /><line x1=\"178\" y1=\"0\" x2=\"178\" y2=\"20\" style=\"stroke:#feb852ff;stroke-width:3;\" /><line x1=\"179\" y1=\"0\" x2=\"179\" y2=\"20\" style=\"stroke:#feb751ff;stroke-width:3;\" /><line x1=\"180\" y1=\"0\" x2=\"180\" y2=\"20\" style=\"stroke:#feb751ff;stroke-width:3;\" /><line x1=\"181\" y1=\"0\" x2=\"181\" y2=\"20\" style=\"stroke:#feb650ff;stroke-width:3;\" /><line x1=\"182\" y1=\"0\" x2=\"182\" y2=\"20\" style=\"stroke:#feb54fff;stroke-width:3;\" /><line x1=\"183\" y1=\"0\" x2=\"183\" y2=\"20\" style=\"stroke:#feb54fff;stroke-width:3;\" /><line x1=\"184\" y1=\"0\" x2=\"184\" y2=\"20\" style=\"stroke:#feb44eff;stroke-width:3;\" /><line x1=\"185\" y1=\"0\" x2=\"185\" y2=\"20\" style=\"stroke:#feb44dff;stroke-width:3;\" /><line x1=\"186\" y1=\"0\" x2=\"186\" y2=\"20\" style=\"stroke:#feb34dff;stroke-width:3;\" /><line x1=\"187\" y1=\"0\" x2=\"187\" y2=\"20\" style=\"stroke:#feb24cff;stroke-width:3;\" /><line x1=\"188\" y1=\"0\" x2=\"188\" y2=\"20\" style=\"stroke:#feb24cff;stroke-width:3;\" /><line x1=\"189\" y1=\"0\" x2=\"189\" y2=\"20\" style=\"stroke:#feb14bff;stroke-width:3;\" /><line x1=\"190\" y1=\"0\" x2=\"190\" y2=\"20\" style=\"stroke:#feb04bff;stroke-width:3;\" /><line x1=\"191\" y1=\"0\" x2=\"191\" y2=\"20\" style=\"stroke:#feb04bff;stroke-width:3;\" /><line x1=\"192\" y1=\"0\" x2=\"192\" y2=\"20\" style=\"stroke:#feaf4bff;stroke-width:3;\" /><line x1=\"193\" y1=\"0\" x2=\"193\" y2=\"20\" style=\"stroke:#feaf4aff;stroke-width:3;\" /><line x1=\"194\" y1=\"0\" x2=\"194\" y2=\"20\" style=\"stroke:#feae4aff;stroke-width:3;\" /><line x1=\"195\" y1=\"0\" x2=\"195\" y2=\"20\" style=\"stroke:#feae4aff;stroke-width:3;\" /><line x1=\"196\" y1=\"0\" x2=\"196\" y2=\"20\" style=\"stroke:#fead4aff;stroke-width:3;\" /><line x1=\"197\" y1=\"0\" x2=\"197\" y2=\"20\" style=\"stroke:#feac49ff;stroke-width:3;\" /><line x1=\"198\" y1=\"0\" x2=\"198\" y2=\"20\" style=\"stroke:#feac49ff;stroke-width:3;\" /><line x1=\"199\" y1=\"0\" x2=\"199\" y2=\"20\" style=\"stroke:#feab49ff;stroke-width:3;\" /><line x1=\"200\" y1=\"0\" x2=\"200\" y2=\"20\" style=\"stroke:#feab48ff;stroke-width:3;\" /><line x1=\"201\" y1=\"0\" x2=\"201\" y2=\"20\" style=\"stroke:#feaa48ff;stroke-width:3;\" /><line x1=\"202\" y1=\"0\" x2=\"202\" y2=\"20\" style=\"stroke:#fea948ff;stroke-width:3;\" /><line x1=\"203\" y1=\"0\" x2=\"203\" y2=\"20\" style=\"stroke:#fea948ff;stroke-width:3;\" /><line x1=\"204\" y1=\"0\" x2=\"204\" y2=\"20\" style=\"stroke:#fea847ff;stroke-width:3;\" /><line x1=\"205\" y1=\"0\" x2=\"205\" y2=\"20\" style=\"stroke:#fea847ff;stroke-width:3;\" /><line x1=\"206\" y1=\"0\" x2=\"206\" y2=\"20\" style=\"stroke:#fea747ff;stroke-width:3;\" /><line x1=\"207\" y1=\"0\" x2=\"207\" y2=\"20\" style=\"stroke:#fea647ff;stroke-width:3;\" /><line x1=\"208\" y1=\"0\" x2=\"208\" y2=\"20\" style=\"stroke:#fea646ff;stroke-width:3;\" /><line x1=\"209\" y1=\"0\" x2=\"209\" y2=\"20\" style=\"stroke:#fea546ff;stroke-width:3;\" /><line x1=\"210\" y1=\"0\" x2=\"210\" y2=\"20\" style=\"stroke:#fea546ff;stroke-width:3;\" /><line x1=\"211\" y1=\"0\" x2=\"211\" y2=\"20\" style=\"stroke:#fea446ff;stroke-width:3;\" /><line x1=\"212\" y1=\"0\" x2=\"212\" y2=\"20\" style=\"stroke:#fea345ff;stroke-width:3;\" /><line x1=\"213\" y1=\"0\" x2=\"213\" y2=\"20\" style=\"stroke:#fea345ff;stroke-width:3;\" /><line x1=\"214\" y1=\"0\" x2=\"214\" y2=\"20\" style=\"stroke:#fea245ff;stroke-width:3;\" /><line x1=\"215\" y1=\"0\" x2=\"215\" y2=\"20\" style=\"stroke:#fea245ff;stroke-width:3;\" /><line x1=\"216\" y1=\"0\" x2=\"216\" y2=\"20\" style=\"stroke:#fea144ff;stroke-width:3;\" /><line x1=\"217\" y1=\"0\" x2=\"217\" y2=\"20\" style=\"stroke:#fea044ff;stroke-width:3;\" /><line x1=\"218\" y1=\"0\" x2=\"218\" y2=\"20\" style=\"stroke:#fea044ff;stroke-width:3;\" /><line x1=\"219\" y1=\"0\" x2=\"219\" y2=\"20\" style=\"stroke:#fe9f44ff;stroke-width:3;\" /><line x1=\"220\" y1=\"0\" x2=\"220\" y2=\"20\" style=\"stroke:#fe9f43ff;stroke-width:3;\" /><line x1=\"221\" y1=\"0\" x2=\"221\" y2=\"20\" style=\"stroke:#fe9e43ff;stroke-width:3;\" /><line x1=\"222\" y1=\"0\" x2=\"222\" y2=\"20\" style=\"stroke:#fe9d43ff;stroke-width:3;\" /><line x1=\"223\" y1=\"0\" x2=\"223\" y2=\"20\" style=\"stroke:#fe9d43ff;stroke-width:3;\" /><line x1=\"224\" y1=\"0\" x2=\"224\" y2=\"20\" style=\"stroke:#fe9c42ff;stroke-width:3;\" /><line x1=\"225\" y1=\"0\" x2=\"225\" y2=\"20\" style=\"stroke:#fe9c42ff;stroke-width:3;\" /><line x1=\"226\" y1=\"0\" x2=\"226\" y2=\"20\" style=\"stroke:#fe9b42ff;stroke-width:3;\" /><line x1=\"227\" y1=\"0\" x2=\"227\" y2=\"20\" style=\"stroke:#fe9a42ff;stroke-width:3;\" /><line x1=\"228\" y1=\"0\" x2=\"228\" y2=\"20\" style=\"stroke:#fe9a41ff;stroke-width:3;\" /><line x1=\"229\" y1=\"0\" x2=\"229\" y2=\"20\" style=\"stroke:#fe9941ff;stroke-width:3;\" /><line x1=\"230\" y1=\"0\" x2=\"230\" y2=\"20\" style=\"stroke:#fe9941ff;stroke-width:3;\" /><line x1=\"231\" y1=\"0\" x2=\"231\" y2=\"20\" style=\"stroke:#fe9840ff;stroke-width:3;\" /><line x1=\"232\" y1=\"0\" x2=\"232\" y2=\"20\" style=\"stroke:#fe9740ff;stroke-width:3;\" /><line x1=\"233\" y1=\"0\" x2=\"233\" y2=\"20\" style=\"stroke:#fe9740ff;stroke-width:3;\" /><line x1=\"234\" y1=\"0\" x2=\"234\" y2=\"20\" style=\"stroke:#fe9640ff;stroke-width:3;\" /><line x1=\"235\" y1=\"0\" x2=\"235\" y2=\"20\" style=\"stroke:#fe963fff;stroke-width:3;\" /><line x1=\"236\" y1=\"0\" x2=\"236\" y2=\"20\" style=\"stroke:#fe953fff;stroke-width:3;\" /><line x1=\"237\" y1=\"0\" x2=\"237\" y2=\"20\" style=\"stroke:#fe943fff;stroke-width:3;\" /><line x1=\"238\" y1=\"0\" x2=\"238\" y2=\"20\" style=\"stroke:#fe943fff;stroke-width:3;\" /><line x1=\"239\" y1=\"0\" x2=\"239\" y2=\"20\" style=\"stroke:#fe933eff;stroke-width:3;\" /><line x1=\"240\" y1=\"0\" x2=\"240\" y2=\"20\" style=\"stroke:#fe933eff;stroke-width:3;\" /><line x1=\"241\" y1=\"0\" x2=\"241\" y2=\"20\" style=\"stroke:#fe923eff;stroke-width:3;\" /><line x1=\"242\" y1=\"0\" x2=\"242\" y2=\"20\" style=\"stroke:#fe923eff;stroke-width:3;\" /><line x1=\"243\" y1=\"0\" x2=\"243\" y2=\"20\" style=\"stroke:#fe913dff;stroke-width:3;\" /><line x1=\"244\" y1=\"0\" x2=\"244\" y2=\"20\" style=\"stroke:#fe903dff;stroke-width:3;\" /><line x1=\"245\" y1=\"0\" x2=\"245\" y2=\"20\" style=\"stroke:#fe903dff;stroke-width:3;\" /><line x1=\"246\" y1=\"0\" x2=\"246\" y2=\"20\" style=\"stroke:#fe8f3dff;stroke-width:3;\" /><line x1=\"247\" y1=\"0\" x2=\"247\" y2=\"20\" style=\"stroke:#fe8f3cff;stroke-width:3;\" /><line x1=\"248\" y1=\"0\" x2=\"248\" y2=\"20\" style=\"stroke:#fe8e3cff;stroke-width:3;\" /><line x1=\"249\" y1=\"0\" x2=\"249\" y2=\"20\" style=\"stroke:#fe8d3cff;stroke-width:3;\" /><line x1=\"250\" y1=\"0\" x2=\"250\" y2=\"20\" style=\"stroke:#fd8d3cff;stroke-width:3;\" /><line x1=\"251\" y1=\"0\" x2=\"251\" y2=\"20\" style=\"stroke:#fd8c3bff;stroke-width:3;\" /><line x1=\"252\" y1=\"0\" x2=\"252\" y2=\"20\" style=\"stroke:#fd8b3bff;stroke-width:3;\" /><line x1=\"253\" y1=\"0\" x2=\"253\" y2=\"20\" style=\"stroke:#fd8a3bff;stroke-width:3;\" /><line x1=\"254\" y1=\"0\" x2=\"254\" y2=\"20\" style=\"stroke:#fd883aff;stroke-width:3;\" /><line x1=\"255\" y1=\"0\" x2=\"255\" y2=\"20\" style=\"stroke:#fd873aff;stroke-width:3;\" /><line x1=\"256\" y1=\"0\" x2=\"256\" y2=\"20\" style=\"stroke:#fd863aff;stroke-width:3;\" /><line x1=\"257\" y1=\"0\" x2=\"257\" y2=\"20\" style=\"stroke:#fd853aff;stroke-width:3;\" /><line x1=\"258\" y1=\"0\" x2=\"258\" y2=\"20\" style=\"stroke:#fd8439ff;stroke-width:3;\" /><line x1=\"259\" y1=\"0\" x2=\"259\" y2=\"20\" style=\"stroke:#fd8339ff;stroke-width:3;\" /><line x1=\"260\" y1=\"0\" x2=\"260\" y2=\"20\" style=\"stroke:#fd8239ff;stroke-width:3;\" /><line x1=\"261\" y1=\"0\" x2=\"261\" y2=\"20\" style=\"stroke:#fd8138ff;stroke-width:3;\" /><line x1=\"262\" y1=\"0\" x2=\"262\" y2=\"20\" style=\"stroke:#fd8038ff;stroke-width:3;\" /><line x1=\"263\" y1=\"0\" x2=\"263\" y2=\"20\" style=\"stroke:#fd7f38ff;stroke-width:3;\" /><line x1=\"264\" y1=\"0\" x2=\"264\" y2=\"20\" style=\"stroke:#fd7e38ff;stroke-width:3;\" /><line x1=\"265\" y1=\"0\" x2=\"265\" y2=\"20\" style=\"stroke:#fd7d37ff;stroke-width:3;\" /><line x1=\"266\" y1=\"0\" x2=\"266\" y2=\"20\" style=\"stroke:#fd7c37ff;stroke-width:3;\" /><line x1=\"267\" y1=\"0\" x2=\"267\" y2=\"20\" style=\"stroke:#fd7b37ff;stroke-width:3;\" /><line x1=\"268\" y1=\"0\" x2=\"268\" y2=\"20\" style=\"stroke:#fd7a36ff;stroke-width:3;\" /><line x1=\"269\" y1=\"0\" x2=\"269\" y2=\"20\" style=\"stroke:#fd7936ff;stroke-width:3;\" /><line x1=\"270\" y1=\"0\" x2=\"270\" y2=\"20\" style=\"stroke:#fd7836ff;stroke-width:3;\" /><line x1=\"271\" y1=\"0\" x2=\"271\" y2=\"20\" style=\"stroke:#fd7736ff;stroke-width:3;\" /><line x1=\"272\" y1=\"0\" x2=\"272\" y2=\"20\" style=\"stroke:#fd7635ff;stroke-width:3;\" /><line x1=\"273\" y1=\"0\" x2=\"273\" y2=\"20\" style=\"stroke:#fd7535ff;stroke-width:3;\" /><line x1=\"274\" y1=\"0\" x2=\"274\" y2=\"20\" style=\"stroke:#fd7435ff;stroke-width:3;\" /><line x1=\"275\" y1=\"0\" x2=\"275\" y2=\"20\" style=\"stroke:#fd7334ff;stroke-width:3;\" /><line x1=\"276\" y1=\"0\" x2=\"276\" y2=\"20\" style=\"stroke:#fd7234ff;stroke-width:3;\" /><line x1=\"277\" y1=\"0\" x2=\"277\" y2=\"20\" style=\"stroke:#fd7134ff;stroke-width:3;\" /><line x1=\"278\" y1=\"0\" x2=\"278\" y2=\"20\" style=\"stroke:#fd7033ff;stroke-width:3;\" /><line x1=\"279\" y1=\"0\" x2=\"279\" y2=\"20\" style=\"stroke:#fd6f33ff;stroke-width:3;\" /><line x1=\"280\" y1=\"0\" x2=\"280\" y2=\"20\" style=\"stroke:#fd6e33ff;stroke-width:3;\" /><line x1=\"281\" y1=\"0\" x2=\"281\" y2=\"20\" style=\"stroke:#fd6d33ff;stroke-width:3;\" /><line x1=\"282\" y1=\"0\" x2=\"282\" y2=\"20\" style=\"stroke:#fd6c32ff;stroke-width:3;\" /><line x1=\"283\" y1=\"0\" x2=\"283\" y2=\"20\" style=\"stroke:#fd6b32ff;stroke-width:3;\" /><line x1=\"284\" y1=\"0\" x2=\"284\" y2=\"20\" style=\"stroke:#fd6a32ff;stroke-width:3;\" /><line x1=\"285\" y1=\"0\" x2=\"285\" y2=\"20\" style=\"stroke:#fd6931ff;stroke-width:3;\" /><line x1=\"286\" y1=\"0\" x2=\"286\" y2=\"20\" style=\"stroke:#fd6831ff;stroke-width:3;\" /><line x1=\"287\" y1=\"0\" x2=\"287\" y2=\"20\" style=\"stroke:#fd6731ff;stroke-width:3;\" /><line x1=\"288\" y1=\"0\" x2=\"288\" y2=\"20\" style=\"stroke:#fd6631ff;stroke-width:3;\" /><line x1=\"289\" y1=\"0\" x2=\"289\" y2=\"20\" style=\"stroke:#fd6530ff;stroke-width:3;\" /><line x1=\"290\" y1=\"0\" x2=\"290\" y2=\"20\" style=\"stroke:#fd6430ff;stroke-width:3;\" /><line x1=\"291\" y1=\"0\" x2=\"291\" y2=\"20\" style=\"stroke:#fd6330ff;stroke-width:3;\" /><line x1=\"292\" y1=\"0\" x2=\"292\" y2=\"20\" style=\"stroke:#fd622fff;stroke-width:3;\" /><line x1=\"293\" y1=\"0\" x2=\"293\" y2=\"20\" style=\"stroke:#fd612fff;stroke-width:3;\" /><line x1=\"294\" y1=\"0\" x2=\"294\" y2=\"20\" style=\"stroke:#fd602fff;stroke-width:3;\" /><line x1=\"295\" y1=\"0\" x2=\"295\" y2=\"20\" style=\"stroke:#fd5f2fff;stroke-width:3;\" /><line x1=\"296\" y1=\"0\" x2=\"296\" y2=\"20\" style=\"stroke:#fd5e2eff;stroke-width:3;\" /><line x1=\"297\" y1=\"0\" x2=\"297\" y2=\"20\" style=\"stroke:#fd5d2eff;stroke-width:3;\" /><line x1=\"298\" y1=\"0\" x2=\"298\" y2=\"20\" style=\"stroke:#fd5c2eff;stroke-width:3;\" /><line x1=\"299\" y1=\"0\" x2=\"299\" y2=\"20\" style=\"stroke:#fd5b2dff;stroke-width:3;\" /><line x1=\"300\" y1=\"0\" x2=\"300\" y2=\"20\" style=\"stroke:#fd5a2dff;stroke-width:3;\" /><line x1=\"301\" y1=\"0\" x2=\"301\" y2=\"20\" style=\"stroke:#fd592dff;stroke-width:3;\" /><line x1=\"302\" y1=\"0\" x2=\"302\" y2=\"20\" style=\"stroke:#fd582dff;stroke-width:3;\" /><line x1=\"303\" y1=\"0\" x2=\"303\" y2=\"20\" style=\"stroke:#fd572cff;stroke-width:3;\" /><line x1=\"304\" y1=\"0\" x2=\"304\" y2=\"20\" style=\"stroke:#fd562cff;stroke-width:3;\" /><line x1=\"305\" y1=\"0\" x2=\"305\" y2=\"20\" style=\"stroke:#fd552cff;stroke-width:3;\" /><line x1=\"306\" y1=\"0\" x2=\"306\" y2=\"20\" style=\"stroke:#fd542bff;stroke-width:3;\" /><line x1=\"307\" y1=\"0\" x2=\"307\" y2=\"20\" style=\"stroke:#fd532bff;stroke-width:3;\" /><line x1=\"308\" y1=\"0\" x2=\"308\" y2=\"20\" style=\"stroke:#fd522bff;stroke-width:3;\" /><line x1=\"309\" y1=\"0\" x2=\"309\" y2=\"20\" style=\"stroke:#fd512aff;stroke-width:3;\" /><line x1=\"310\" y1=\"0\" x2=\"310\" y2=\"20\" style=\"stroke:#fd502aff;stroke-width:3;\" /><line x1=\"311\" y1=\"0\" x2=\"311\" y2=\"20\" style=\"stroke:#fd4f2aff;stroke-width:3;\" /><line x1=\"312\" y1=\"0\" x2=\"312\" y2=\"20\" style=\"stroke:#fc4e2aff;stroke-width:3;\" /><line x1=\"313\" y1=\"0\" x2=\"313\" y2=\"20\" style=\"stroke:#fc4d29ff;stroke-width:3;\" /><line x1=\"314\" y1=\"0\" x2=\"314\" y2=\"20\" style=\"stroke:#fc4c29ff;stroke-width:3;\" /><line x1=\"315\" y1=\"0\" x2=\"315\" y2=\"20\" style=\"stroke:#fb4b29ff;stroke-width:3;\" /><line x1=\"316\" y1=\"0\" x2=\"316\" y2=\"20\" style=\"stroke:#fb4a29ff;stroke-width:3;\" /><line x1=\"317\" y1=\"0\" x2=\"317\" y2=\"20\" style=\"stroke:#fa4a29ff;stroke-width:3;\" /><line x1=\"318\" y1=\"0\" x2=\"318\" y2=\"20\" style=\"stroke:#fa4928ff;stroke-width:3;\" /><line x1=\"319\" y1=\"0\" x2=\"319\" y2=\"20\" style=\"stroke:#fa4828ff;stroke-width:3;\" /><line x1=\"320\" y1=\"0\" x2=\"320\" y2=\"20\" style=\"stroke:#f94728ff;stroke-width:3;\" /><line x1=\"321\" y1=\"0\" x2=\"321\" y2=\"20\" style=\"stroke:#f94628ff;stroke-width:3;\" /><line x1=\"322\" y1=\"0\" x2=\"322\" y2=\"20\" style=\"stroke:#f84527ff;stroke-width:3;\" /><line x1=\"323\" y1=\"0\" x2=\"323\" y2=\"20\" style=\"stroke:#f84427ff;stroke-width:3;\" /><line x1=\"324\" y1=\"0\" x2=\"324\" y2=\"20\" style=\"stroke:#f84427ff;stroke-width:3;\" /><line x1=\"325\" y1=\"0\" x2=\"325\" y2=\"20\" style=\"stroke:#f74327ff;stroke-width:3;\" /><line x1=\"326\" y1=\"0\" x2=\"326\" y2=\"20\" style=\"stroke:#f74226ff;stroke-width:3;\" /><line x1=\"327\" y1=\"0\" x2=\"327\" y2=\"20\" style=\"stroke:#f64126ff;stroke-width:3;\" /><line x1=\"328\" y1=\"0\" x2=\"328\" y2=\"20\" style=\"stroke:#f64026ff;stroke-width:3;\" /><line x1=\"329\" y1=\"0\" x2=\"329\" y2=\"20\" style=\"stroke:#f63f26ff;stroke-width:3;\" /><line x1=\"330\" y1=\"0\" x2=\"330\" y2=\"20\" style=\"stroke:#f53f26ff;stroke-width:3;\" /><line x1=\"331\" y1=\"0\" x2=\"331\" y2=\"20\" style=\"stroke:#f53e25ff;stroke-width:3;\" /><line x1=\"332\" y1=\"0\" x2=\"332\" y2=\"20\" style=\"stroke:#f43d25ff;stroke-width:3;\" /><line x1=\"333\" y1=\"0\" x2=\"333\" y2=\"20\" style=\"stroke:#f43c25ff;stroke-width:3;\" /><line x1=\"334\" y1=\"0\" x2=\"334\" y2=\"20\" style=\"stroke:#f43b25ff;stroke-width:3;\" /><line x1=\"335\" y1=\"0\" x2=\"335\" y2=\"20\" style=\"stroke:#f33a24ff;stroke-width:3;\" /><line x1=\"336\" y1=\"0\" x2=\"336\" y2=\"20\" style=\"stroke:#f33a24ff;stroke-width:3;\" /><line x1=\"337\" y1=\"0\" x2=\"337\" y2=\"20\" style=\"stroke:#f23924ff;stroke-width:3;\" /><line x1=\"338\" y1=\"0\" x2=\"338\" y2=\"20\" style=\"stroke:#f23824ff;stroke-width:3;\" /><line x1=\"339\" y1=\"0\" x2=\"339\" y2=\"20\" style=\"stroke:#f23724ff;stroke-width:3;\" /><line x1=\"340\" y1=\"0\" x2=\"340\" y2=\"20\" style=\"stroke:#f13623ff;stroke-width:3;\" /><line x1=\"341\" y1=\"0\" x2=\"341\" y2=\"20\" style=\"stroke:#f13523ff;stroke-width:3;\" /><line x1=\"342\" y1=\"0\" x2=\"342\" y2=\"20\" style=\"stroke:#f03523ff;stroke-width:3;\" /><line x1=\"343\" y1=\"0\" x2=\"343\" y2=\"20\" style=\"stroke:#f03423ff;stroke-width:3;\" /><line x1=\"344\" y1=\"0\" x2=\"344\" y2=\"20\" style=\"stroke:#f03322ff;stroke-width:3;\" /><line x1=\"345\" y1=\"0\" x2=\"345\" y2=\"20\" style=\"stroke:#ef3222ff;stroke-width:3;\" /><line x1=\"346\" y1=\"0\" x2=\"346\" y2=\"20\" style=\"stroke:#ef3122ff;stroke-width:3;\" /><line x1=\"347\" y1=\"0\" x2=\"347\" y2=\"20\" style=\"stroke:#ee3022ff;stroke-width:3;\" /><line x1=\"348\" y1=\"0\" x2=\"348\" y2=\"20\" style=\"stroke:#ee3022ff;stroke-width:3;\" /><line x1=\"349\" y1=\"0\" x2=\"349\" y2=\"20\" style=\"stroke:#ee2f21ff;stroke-width:3;\" /><line x1=\"350\" y1=\"0\" x2=\"350\" y2=\"20\" style=\"stroke:#ed2e21ff;stroke-width:3;\" /><line x1=\"351\" y1=\"0\" x2=\"351\" y2=\"20\" style=\"stroke:#ed2d21ff;stroke-width:3;\" /><line x1=\"352\" y1=\"0\" x2=\"352\" y2=\"20\" style=\"stroke:#ec2c21ff;stroke-width:3;\" /><line x1=\"353\" y1=\"0\" x2=\"353\" y2=\"20\" style=\"stroke:#ec2b20ff;stroke-width:3;\" /><line x1=\"354\" y1=\"0\" x2=\"354\" y2=\"20\" style=\"stroke:#ec2b20ff;stroke-width:3;\" /><line x1=\"355\" y1=\"0\" x2=\"355\" y2=\"20\" style=\"stroke:#eb2a20ff;stroke-width:3;\" /><line x1=\"356\" y1=\"0\" x2=\"356\" y2=\"20\" style=\"stroke:#eb2920ff;stroke-width:3;\" /><line x1=\"357\" y1=\"0\" x2=\"357\" y2=\"20\" style=\"stroke:#ea281fff;stroke-width:3;\" /><line x1=\"358\" y1=\"0\" x2=\"358\" y2=\"20\" style=\"stroke:#ea271fff;stroke-width:3;\" /><line x1=\"359\" y1=\"0\" x2=\"359\" y2=\"20\" style=\"stroke:#ea261fff;stroke-width:3;\" /><line x1=\"360\" y1=\"0\" x2=\"360\" y2=\"20\" style=\"stroke:#e9261fff;stroke-width:3;\" /><line x1=\"361\" y1=\"0\" x2=\"361\" y2=\"20\" style=\"stroke:#e9251fff;stroke-width:3;\" /><line x1=\"362\" y1=\"0\" x2=\"362\" y2=\"20\" style=\"stroke:#e8241eff;stroke-width:3;\" /><line x1=\"363\" y1=\"0\" x2=\"363\" y2=\"20\" style=\"stroke:#e8231eff;stroke-width:3;\" /><line x1=\"364\" y1=\"0\" x2=\"364\" y2=\"20\" style=\"stroke:#e8221eff;stroke-width:3;\" /><line x1=\"365\" y1=\"0\" x2=\"365\" y2=\"20\" style=\"stroke:#e7211eff;stroke-width:3;\" /><line x1=\"366\" y1=\"0\" x2=\"366\" y2=\"20\" style=\"stroke:#e7211dff;stroke-width:3;\" /><line x1=\"367\" y1=\"0\" x2=\"367\" y2=\"20\" style=\"stroke:#e6201dff;stroke-width:3;\" /><line x1=\"368\" y1=\"0\" x2=\"368\" y2=\"20\" style=\"stroke:#e61f1dff;stroke-width:3;\" /><line x1=\"369\" y1=\"0\" x2=\"369\" y2=\"20\" style=\"stroke:#e61e1dff;stroke-width:3;\" /><line x1=\"370\" y1=\"0\" x2=\"370\" y2=\"20\" style=\"stroke:#e51d1dff;stroke-width:3;\" /><line x1=\"371\" y1=\"0\" x2=\"371\" y2=\"20\" style=\"stroke:#e51c1cff;stroke-width:3;\" /><line x1=\"372\" y1=\"0\" x2=\"372\" y2=\"20\" style=\"stroke:#e41b1cff;stroke-width:3;\" /><line x1=\"373\" y1=\"0\" x2=\"373\" y2=\"20\" style=\"stroke:#e41b1cff;stroke-width:3;\" /><line x1=\"374\" y1=\"0\" x2=\"374\" y2=\"20\" style=\"stroke:#e31a1cff;stroke-width:3;\" /><line x1=\"375\" y1=\"0\" x2=\"375\" y2=\"20\" style=\"stroke:#e3191cff;stroke-width:3;\" /><line x1=\"376\" y1=\"0\" x2=\"376\" y2=\"20\" style=\"stroke:#e2191cff;stroke-width:3;\" /><line x1=\"377\" y1=\"0\" x2=\"377\" y2=\"20\" style=\"stroke:#e2181cff;stroke-width:3;\" /><line x1=\"378\" y1=\"0\" x2=\"378\" y2=\"20\" style=\"stroke:#e1181cff;stroke-width:3;\" /><line x1=\"379\" y1=\"0\" x2=\"379\" y2=\"20\" style=\"stroke:#e0181cff;stroke-width:3;\" /><line x1=\"380\" y1=\"0\" x2=\"380\" y2=\"20\" style=\"stroke:#e0171dff;stroke-width:3;\" /><line x1=\"381\" y1=\"0\" x2=\"381\" y2=\"20\" style=\"stroke:#df171dff;stroke-width:3;\" /><line x1=\"382\" y1=\"0\" x2=\"382\" y2=\"20\" style=\"stroke:#df161dff;stroke-width:3;\" /><line x1=\"383\" y1=\"0\" x2=\"383\" y2=\"20\" style=\"stroke:#de161dff;stroke-width:3;\" /><line x1=\"384\" y1=\"0\" x2=\"384\" y2=\"20\" style=\"stroke:#dd161dff;stroke-width:3;\" /><line x1=\"385\" y1=\"0\" x2=\"385\" y2=\"20\" style=\"stroke:#dd151dff;stroke-width:3;\" /><line x1=\"386\" y1=\"0\" x2=\"386\" y2=\"20\" style=\"stroke:#dc151eff;stroke-width:3;\" /><line x1=\"387\" y1=\"0\" x2=\"387\" y2=\"20\" style=\"stroke:#dc141eff;stroke-width:3;\" /><line x1=\"388\" y1=\"0\" x2=\"388\" y2=\"20\" style=\"stroke:#db141eff;stroke-width:3;\" /><line x1=\"389\" y1=\"0\" x2=\"389\" y2=\"20\" style=\"stroke:#da131eff;stroke-width:3;\" /><line x1=\"390\" y1=\"0\" x2=\"390\" y2=\"20\" style=\"stroke:#da131eff;stroke-width:3;\" /><line x1=\"391\" y1=\"0\" x2=\"391\" y2=\"20\" style=\"stroke:#d9131eff;stroke-width:3;\" /><line x1=\"392\" y1=\"0\" x2=\"392\" y2=\"20\" style=\"stroke:#d9121eff;stroke-width:3;\" /><line x1=\"393\" y1=\"0\" x2=\"393\" y2=\"20\" style=\"stroke:#d8121fff;stroke-width:3;\" /><line x1=\"394\" y1=\"0\" x2=\"394\" y2=\"20\" style=\"stroke:#d7111fff;stroke-width:3;\" /><line x1=\"395\" y1=\"0\" x2=\"395\" y2=\"20\" style=\"stroke:#d7111fff;stroke-width:3;\" /><line x1=\"396\" y1=\"0\" x2=\"396\" y2=\"20\" style=\"stroke:#d6111fff;stroke-width:3;\" /><line x1=\"397\" y1=\"0\" x2=\"397\" y2=\"20\" style=\"stroke:#d5101fff;stroke-width:3;\" /><line x1=\"398\" y1=\"0\" x2=\"398\" y2=\"20\" style=\"stroke:#d5101fff;stroke-width:3;\" /><line x1=\"399\" y1=\"0\" x2=\"399\" y2=\"20\" style=\"stroke:#d40f20ff;stroke-width:3;\" /><line x1=\"400\" y1=\"0\" x2=\"400\" y2=\"20\" style=\"stroke:#d40f20ff;stroke-width:3;\" /><line x1=\"401\" y1=\"0\" x2=\"401\" y2=\"20\" style=\"stroke:#d30e20ff;stroke-width:3;\" /><line x1=\"402\" y1=\"0\" x2=\"402\" y2=\"20\" style=\"stroke:#d20e20ff;stroke-width:3;\" /><line x1=\"403\" y1=\"0\" x2=\"403\" y2=\"20\" style=\"stroke:#d20e20ff;stroke-width:3;\" /><line x1=\"404\" y1=\"0\" x2=\"404\" y2=\"20\" style=\"stroke:#d10d20ff;stroke-width:3;\" /><line x1=\"405\" y1=\"0\" x2=\"405\" y2=\"20\" style=\"stroke:#d10d21ff;stroke-width:3;\" /><line x1=\"406\" y1=\"0\" x2=\"406\" y2=\"20\" style=\"stroke:#d00c21ff;stroke-width:3;\" /><line x1=\"407\" y1=\"0\" x2=\"407\" y2=\"20\" style=\"stroke:#cf0c21ff;stroke-width:3;\" /><line x1=\"408\" y1=\"0\" x2=\"408\" y2=\"20\" style=\"stroke:#cf0b21ff;stroke-width:3;\" /><line x1=\"409\" y1=\"0\" x2=\"409\" y2=\"20\" style=\"stroke:#ce0b21ff;stroke-width:3;\" /><line x1=\"410\" y1=\"0\" x2=\"410\" y2=\"20\" style=\"stroke:#ce0b21ff;stroke-width:3;\" /><line x1=\"411\" y1=\"0\" x2=\"411\" y2=\"20\" style=\"stroke:#cd0a22ff;stroke-width:3;\" /><line x1=\"412\" y1=\"0\" x2=\"412\" y2=\"20\" style=\"stroke:#cc0a22ff;stroke-width:3;\" /><line x1=\"413\" y1=\"0\" x2=\"413\" y2=\"20\" style=\"stroke:#cc0922ff;stroke-width:3;\" /><line x1=\"414\" y1=\"0\" x2=\"414\" y2=\"20\" style=\"stroke:#cb0922ff;stroke-width:3;\" /><line x1=\"415\" y1=\"0\" x2=\"415\" y2=\"20\" style=\"stroke:#ca0922ff;stroke-width:3;\" /><line x1=\"416\" y1=\"0\" x2=\"416\" y2=\"20\" style=\"stroke:#ca0822ff;stroke-width:3;\" /><line x1=\"417\" y1=\"0\" x2=\"417\" y2=\"20\" style=\"stroke:#c90822ff;stroke-width:3;\" /><line x1=\"418\" y1=\"0\" x2=\"418\" y2=\"20\" style=\"stroke:#c90723ff;stroke-width:3;\" /><line x1=\"419\" y1=\"0\" x2=\"419\" y2=\"20\" style=\"stroke:#c80723ff;stroke-width:3;\" /><line x1=\"420\" y1=\"0\" x2=\"420\" y2=\"20\" style=\"stroke:#c70623ff;stroke-width:3;\" /><line x1=\"421\" y1=\"0\" x2=\"421\" y2=\"20\" style=\"stroke:#c70623ff;stroke-width:3;\" /><line x1=\"422\" y1=\"0\" x2=\"422\" y2=\"20\" style=\"stroke:#c60623ff;stroke-width:3;\" /><line x1=\"423\" y1=\"0\" x2=\"423\" y2=\"20\" style=\"stroke:#c60523ff;stroke-width:3;\" /><line x1=\"424\" y1=\"0\" x2=\"424\" y2=\"20\" style=\"stroke:#c50524ff;stroke-width:3;\" /><line x1=\"425\" y1=\"0\" x2=\"425\" y2=\"20\" style=\"stroke:#c40424ff;stroke-width:3;\" /><line x1=\"426\" y1=\"0\" x2=\"426\" y2=\"20\" style=\"stroke:#c40424ff;stroke-width:3;\" /><line x1=\"427\" y1=\"0\" x2=\"427\" y2=\"20\" style=\"stroke:#c30424ff;stroke-width:3;\" /><line x1=\"428\" y1=\"0\" x2=\"428\" y2=\"20\" style=\"stroke:#c30324ff;stroke-width:3;\" /><line x1=\"429\" y1=\"0\" x2=\"429\" y2=\"20\" style=\"stroke:#c20324ff;stroke-width:3;\" /><line x1=\"430\" y1=\"0\" x2=\"430\" y2=\"20\" style=\"stroke:#c10225ff;stroke-width:3;\" /><line x1=\"431\" y1=\"0\" x2=\"431\" y2=\"20\" style=\"stroke:#c10225ff;stroke-width:3;\" /><line x1=\"432\" y1=\"0\" x2=\"432\" y2=\"20\" style=\"stroke:#c00125ff;stroke-width:3;\" /><line x1=\"433\" y1=\"0\" x2=\"433\" y2=\"20\" style=\"stroke:#bf0125ff;stroke-width:3;\" /><line x1=\"434\" y1=\"0\" x2=\"434\" y2=\"20\" style=\"stroke:#bf0125ff;stroke-width:3;\" /><line x1=\"435\" y1=\"0\" x2=\"435\" y2=\"20\" style=\"stroke:#be0025ff;stroke-width:3;\" /><line x1=\"436\" y1=\"0\" x2=\"436\" y2=\"20\" style=\"stroke:#be0026ff;stroke-width:3;\" /><line x1=\"437\" y1=\"0\" x2=\"437\" y2=\"20\" style=\"stroke:#bd0026ff;stroke-width:3;\" /><line x1=\"438\" y1=\"0\" x2=\"438\" y2=\"20\" style=\"stroke:#bc0026ff;stroke-width:3;\" /><line x1=\"439\" y1=\"0\" x2=\"439\" y2=\"20\" style=\"stroke:#bb0026ff;stroke-width:3;\" /><line x1=\"440\" y1=\"0\" x2=\"440\" y2=\"20\" style=\"stroke:#ba0026ff;stroke-width:3;\" /><line x1=\"441\" y1=\"0\" x2=\"441\" y2=\"20\" style=\"stroke:#b90026ff;stroke-width:3;\" /><line x1=\"442\" y1=\"0\" x2=\"442\" y2=\"20\" style=\"stroke:#b80026ff;stroke-width:3;\" /><line x1=\"443\" y1=\"0\" x2=\"443\" y2=\"20\" style=\"stroke:#b70026ff;stroke-width:3;\" /><line x1=\"444\" y1=\"0\" x2=\"444\" y2=\"20\" style=\"stroke:#b60026ff;stroke-width:3;\" /><line x1=\"445\" y1=\"0\" x2=\"445\" y2=\"20\" style=\"stroke:#b50026ff;stroke-width:3;\" /><line x1=\"446\" y1=\"0\" x2=\"446\" y2=\"20\" style=\"stroke:#b40026ff;stroke-width:3;\" /><line x1=\"447\" y1=\"0\" x2=\"447\" y2=\"20\" style=\"stroke:#b30026ff;stroke-width:3;\" /><line x1=\"448\" y1=\"0\" x2=\"448\" y2=\"20\" style=\"stroke:#b20026ff;stroke-width:3;\" /><line x1=\"449\" y1=\"0\" x2=\"449\" y2=\"20\" style=\"stroke:#b10026ff;stroke-width:3;\" /><line x1=\"450\" y1=\"0\" x2=\"450\" y2=\"20\" style=\"stroke:#b00026ff;stroke-width:3;\" /><line x1=\"451\" y1=\"0\" x2=\"451\" y2=\"20\" style=\"stroke:#af0026ff;stroke-width:3;\" /><line x1=\"452\" y1=\"0\" x2=\"452\" y2=\"20\" style=\"stroke:#ae0026ff;stroke-width:3;\" /><line x1=\"453\" y1=\"0\" x2=\"453\" y2=\"20\" style=\"stroke:#ad0026ff;stroke-width:3;\" /><line x1=\"454\" y1=\"0\" x2=\"454\" y2=\"20\" style=\"stroke:#ac0026ff;stroke-width:3;\" /><line x1=\"455\" y1=\"0\" x2=\"455\" y2=\"20\" style=\"stroke:#ab0026ff;stroke-width:3;\" /><line x1=\"456\" y1=\"0\" x2=\"456\" y2=\"20\" style=\"stroke:#aa0026ff;stroke-width:3;\" /><line x1=\"457\" y1=\"0\" x2=\"457\" y2=\"20\" style=\"stroke:#a90026ff;stroke-width:3;\" /><line x1=\"458\" y1=\"0\" x2=\"458\" y2=\"20\" style=\"stroke:#a80026ff;stroke-width:3;\" /><line x1=\"459\" y1=\"0\" x2=\"459\" y2=\"20\" style=\"stroke:#a70026ff;stroke-width:3;\" /><line x1=\"460\" y1=\"0\" x2=\"460\" y2=\"20\" style=\"stroke:#a60026ff;stroke-width:3;\" /><line x1=\"461\" y1=\"0\" x2=\"461\" y2=\"20\" style=\"stroke:#a50026ff;stroke-width:3;\" /><line x1=\"462\" y1=\"0\" x2=\"462\" y2=\"20\" style=\"stroke:#a40026ff;stroke-width:3;\" /><line x1=\"463\" y1=\"0\" x2=\"463\" y2=\"20\" style=\"stroke:#a30026ff;stroke-width:3;\" /><line x1=\"464\" y1=\"0\" x2=\"464\" y2=\"20\" style=\"stroke:#a20026ff;stroke-width:3;\" /><line x1=\"465\" y1=\"0\" x2=\"465\" y2=\"20\" style=\"stroke:#a10026ff;stroke-width:3;\" /><line x1=\"466\" y1=\"0\" x2=\"466\" y2=\"20\" style=\"stroke:#a00026ff;stroke-width:3;\" /><line x1=\"467\" y1=\"0\" x2=\"467\" y2=\"20\" style=\"stroke:#9f0026ff;stroke-width:3;\" /><line x1=\"468\" y1=\"0\" x2=\"468\" y2=\"20\" style=\"stroke:#9e0026ff;stroke-width:3;\" /><line x1=\"469\" y1=\"0\" x2=\"469\" y2=\"20\" style=\"stroke:#9d0026ff;stroke-width:3;\" /><line x1=\"470\" y1=\"0\" x2=\"470\" y2=\"20\" style=\"stroke:#9c0026ff;stroke-width:3;\" /><line x1=\"471\" y1=\"0\" x2=\"471\" y2=\"20\" style=\"stroke:#9b0026ff;stroke-width:3;\" /><line x1=\"472\" y1=\"0\" x2=\"472\" y2=\"20\" style=\"stroke:#9b0026ff;stroke-width:3;\" /><line x1=\"473\" y1=\"0\" x2=\"473\" y2=\"20\" style=\"stroke:#9a0026ff;stroke-width:3;\" /><line x1=\"474\" y1=\"0\" x2=\"474\" y2=\"20\" style=\"stroke:#990026ff;stroke-width:3;\" /><line x1=\"475\" y1=\"0\" x2=\"475\" y2=\"20\" style=\"stroke:#980026ff;stroke-width:3;\" /><line x1=\"476\" y1=\"0\" x2=\"476\" y2=\"20\" style=\"stroke:#970026ff;stroke-width:3;\" /><line x1=\"477\" y1=\"0\" x2=\"477\" y2=\"20\" style=\"stroke:#960026ff;stroke-width:3;\" /><line x1=\"478\" y1=\"0\" x2=\"478\" y2=\"20\" style=\"stroke:#950026ff;stroke-width:3;\" /><line x1=\"479\" y1=\"0\" x2=\"479\" y2=\"20\" style=\"stroke:#940026ff;stroke-width:3;\" /><line x1=\"480\" y1=\"0\" x2=\"480\" y2=\"20\" style=\"stroke:#930026ff;stroke-width:3;\" /><line x1=\"481\" y1=\"0\" x2=\"481\" y2=\"20\" style=\"stroke:#920026ff;stroke-width:3;\" /><line x1=\"482\" y1=\"0\" x2=\"482\" y2=\"20\" style=\"stroke:#910026ff;stroke-width:3;\" /><line x1=\"483\" y1=\"0\" x2=\"483\" y2=\"20\" style=\"stroke:#900026ff;stroke-width:3;\" /><line x1=\"484\" y1=\"0\" x2=\"484\" y2=\"20\" style=\"stroke:#8f0026ff;stroke-width:3;\" /><line x1=\"485\" y1=\"0\" x2=\"485\" y2=\"20\" style=\"stroke:#8e0026ff;stroke-width:3;\" /><line x1=\"486\" y1=\"0\" x2=\"486\" y2=\"20\" style=\"stroke:#8d0026ff;stroke-width:3;\" /><line x1=\"487\" y1=\"0\" x2=\"487\" y2=\"20\" style=\"stroke:#8c0026ff;stroke-width:3;\" /><line x1=\"488\" y1=\"0\" x2=\"488\" y2=\"20\" style=\"stroke:#8b0026ff;stroke-width:3;\" /><line x1=\"489\" y1=\"0\" x2=\"489\" y2=\"20\" style=\"stroke:#8a0026ff;stroke-width:3;\" /><line x1=\"490\" y1=\"0\" x2=\"490\" y2=\"20\" style=\"stroke:#890026ff;stroke-width:3;\" /><line x1=\"491\" y1=\"0\" x2=\"491\" y2=\"20\" style=\"stroke:#880026ff;stroke-width:3;\" /><line x1=\"492\" y1=\"0\" x2=\"492\" y2=\"20\" style=\"stroke:#870026ff;stroke-width:3;\" /><line x1=\"493\" y1=\"0\" x2=\"493\" y2=\"20\" style=\"stroke:#860026ff;stroke-width:3;\" /><line x1=\"494\" y1=\"0\" x2=\"494\" y2=\"20\" style=\"stroke:#850026ff;stroke-width:3;\" /><line x1=\"495\" y1=\"0\" x2=\"495\" y2=\"20\" style=\"stroke:#840026ff;stroke-width:3;\" /><line x1=\"496\" y1=\"0\" x2=\"496\" y2=\"20\" style=\"stroke:#830026ff;stroke-width:3;\" /><line x1=\"497\" y1=\"0\" x2=\"497\" y2=\"20\" style=\"stroke:#820026ff;stroke-width:3;\" /><line x1=\"498\" y1=\"0\" x2=\"498\" y2=\"20\" style=\"stroke:#810026ff;stroke-width:3;\" /><line x1=\"499\" y1=\"0\" x2=\"499\" y2=\"20\" style=\"stroke:#800026ff;stroke-width:3;\" /><text x=\"0\" y=\"35\">6</text><text x=\"500\" y=\"35\" style=\"text-anchor:end;\">20</text></svg>"
            ],
            "text/plain": [
              "<branca.colormap.LinearColormap at 0x7fa016549f60>"
            ]
          },
          "metadata": {
            "tags": []
          },
          "execution_count": 153
        }
      ]
    },
    {
      "cell_type": "code",
      "metadata": {
        "id": "ucHCicP9wwzz"
      },
      "source": [
        "df_mapa2 = df_mapa.set_index('UF')['clusters']"
      ],
      "execution_count": 154,
      "outputs": []
    },
    {
      "cell_type": "code",
      "metadata": {
        "colab": {
          "base_uri": "https://localhost:8080/"
        },
        "id": "nFUoy5pizpCl",
        "outputId": "763f7fe3-0e84-475c-e015-7c43d07243f2"
      },
      "source": [
        "df_mapa2"
      ],
      "execution_count": 155,
      "outputs": [
        {
          "output_type": "execute_result",
          "data": {
            "text/plain": [
              "UF\n",
              "Acre         0\n",
              "Acre         0\n",
              "Acre         0\n",
              "Alagoas      0\n",
              "Alagoas      0\n",
              "            ..\n",
              "São Paulo    1\n",
              "São Paulo    1\n",
              "Tocantins    0\n",
              "Tocantins    0\n",
              "Tocantins    0\n",
              "Name: clusters, Length: 81, dtype: int64"
            ]
          },
          "metadata": {
            "tags": []
          },
          "execution_count": 155
        }
      ]
    },
    {
      "cell_type": "code",
      "metadata": {
        "id": "zFGW1ngP1eeY"
      },
      "source": [
        "mapa = folium.Map(\r\n",
        "    width=600, height=400,\r\n",
        "    location=[-15.77972, -47.92972], \r\n",
        "    zoom_start=3\r\n",
        ")\r\n",
        "\r\n",
        "folium.GeoJson(\r\n",
        "    geo_json_data,\r\n",
        "    name='UF',\r\n",
        "    style_function=lambda feature: {\r\n",
        "        'fillColor': colormap(df_mapa2[feature['UF']]),\r\n",
        "        'color': 'black',\r\n",
        "        'weight': 0.3,\r\n",
        "    }\r\n",
        "    \r\n",
        ").add_to(mapa)\r\n",
        "\r\n",
        "colormap.caption = 'Taxa de criminalidade'\r\n",
        "colormap.add_to(mapa)\r\n",
        "\r\n",
        "folium.LayerControl(collapsed=False).add_to(mapa)\r\n",
        "# mapa.save('taxa_br_2018.html')\r\n",
        "mapa"
      ],
      "execution_count": null,
      "outputs": []
    }
  ]
}